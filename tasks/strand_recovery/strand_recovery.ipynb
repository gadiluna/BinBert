{
 "cells": [
  {
   "cell_type": "code",
   "execution_count": 5,
   "id": "3f7387d2",
   "metadata": {
    "executionInfo": {
     "elapsed": 4864,
     "status": "ok",
     "timestamp": 1647423034663,
     "user": {
      "displayName": "Fiorella Artuso",
      "photoUrl": "https://lh3.googleusercontent.com/a-/AOh14GjI7BMbitgM7kg91MwWnCqwXuMuekaCgxsQRH2b=s64",
      "userId": "16421204404765857445"
     },
     "user_tz": -60
    },
    "id": "b0c12784"
   },
   "outputs": [
    {
     "name": "stderr",
     "output_type": "stream",
     "text": [
      "2022-05-12 17:21:06.826893: I tensorflow/stream_executor/platform/default/dso_loader.cc:49] Successfully opened dynamic library libcudart.so.11.0\n",
      "`fused_weight_gradient_mlp_cuda` module not found. gradient accumulation fusion with weight gradient computation disabled.\n"
     ]
    }
   ],
   "source": [
    "# General imports\n",
    "import os\n",
    "import random\n",
    "import math\n",
    "import itertools\n",
    "import pandas as pd\n",
    "from tqdm import tqdm\n",
    "import numpy as np\n",
    "from datasets import load_metric\n",
    "\n",
    "# pytorch imports\n",
    "import torch\n",
    "torch.backends.cuda.matmul.allow_tf32 = True\n",
    "\n",
    "# Transformer tokenizer imports\n",
    "from transformers import BertTokenizerFast\n",
    "\n",
    "# Transformers data collator\n",
    "from transformers.data.data_collator import DataCollatorForTokenClassification\n",
    "\n",
    "# Transformers Bert model\n",
    "from transformers import AutoModelForTokenClassification, BertForPreTraining, BertConfig, TrainingArguments, Trainer, EarlyStoppingCallback"
   ]
  },
  {
   "cell_type": "code",
   "execution_count": 6,
   "id": "1c69ab2d",
   "metadata": {
    "executionInfo": {
     "elapsed": 4,
     "status": "ok",
     "timestamp": 1647423034663,
     "user": {
      "displayName": "Fiorella Artuso",
      "photoUrl": "https://lh3.googleusercontent.com/a-/AOh14GjI7BMbitgM7kg91MwWnCqwXuMuekaCgxsQRH2b=s64",
      "userId": "16421204404765857445"
     },
     "user_tz": -60
    },
    "id": "6341a645"
   },
   "outputs": [],
   "source": [
    "from_scratch = False\n",
    "\n",
    "MAX_SEQ_LEN = 512\n",
    "LEARNING_RATE = 0.00001\n",
    "NUM_TRAIN_EPOCHS = 20\n",
    "PER_DEVICE_TRAIN_BATCH_SIZE = 32\n",
    "PER_DEVICE_EVAL_BATCH_SIZE = 32\n",
    "DATA_LOADER_NUM_WORKERS = 4\n",
    "PATIENCE = 3\n",
    "\n",
    "BXSMAL=\"bert_extra_small\"\n",
    "BSMAL=\"bert_small\"\n",
    "BNORM=\"bert_normal\"\n",
    "BLARG=\"bert_larg\"\n",
    "\n",
    "MODEL=BNORM\n",
    "\n",
    "if MODEL == BXSMAL:\n",
    "    MAX_SEQ_LEN = 512\n",
    "    MAX_POSITION_EMBEDDINGS = 514\n",
    "    HIDDEN_SIZE = 128\n",
    "    INTERMEDIATE_SIZE = 128\n",
    "    NUM_ATTENTION_HEADS = 8\n",
    "    NUM_HIDDEN_LAYERS = 12\n",
    "    TYPE_VOCAB_SIZE = 2\n",
    "    \n",
    "if MODEL == BSMAL:\n",
    "    MAX_POSITION_EMBEDDINGS = 514\n",
    "    HIDDEN_SIZE = 512\n",
    "    INTERMEDIATE_SIZE = 2048\n",
    "    NUM_ATTENTION_HEADS = 8\n",
    "    NUM_HIDDEN_LAYERS = 12\n",
    "    TYPE_VOCAB_SIZE = 2\n",
    "    \n",
    "if MODEL == BNORM:\n",
    "    MAX_POSITION_EMBEDDINGS = 514\n",
    "    HIDDEN_SIZE = 768\n",
    "    INTERMEDIATE_SIZE = 3072\n",
    "    NUM_ATTENTION_HEADS = 12\n",
    "    NUM_HIDDEN_LAYERS = 12\n",
    "    TYPE_VOCAB_SIZE = 2    \n",
    "    \n",
    "if MODEL == BLARG:\n",
    "    MAX_POSITION_EMBEDDINGS = 514\n",
    "    HIDDEN_SIZE = 1024\n",
    "    INTERMEDIATE_SIZE = 4096\n",
    "    NUM_ATTENTION_HEADS = 16\n",
    "    NUM_HIDDEN_LAYERS = 24\n",
    "    TYPE_VOCAB_SIZE = 2\n",
    "    \n",
    "# GPU settings\n",
    "os.environ[\"CUDA_DEVICE_ORDER\"] = \"PCI_BUS_ID\"\n",
    "os.environ[\"TOKENIZERS_PARALLELISM\"] = \"true\"\n",
    "os.environ[\"CUDA_VISIBLE_DEVICES\"] = \"0\"\n",
    "os.environ[\"NVIDIA_VISIBLE_DEVICES\"] = \"0\""
   ]
  },
  {
   "cell_type": "code",
   "execution_count": 7,
   "id": "f21b6810",
   "metadata": {
    "executionInfo": {
     "elapsed": 3,
     "status": "ok",
     "timestamp": 1647423034663,
     "user": {
      "displayName": "Fiorella Artuso",
      "photoUrl": "https://lh3.googleusercontent.com/a-/AOh14GjI7BMbitgM7kg91MwWnCqwXuMuekaCgxsQRH2b=s64",
      "userId": "16421204404765857445"
     },
     "user_tz": -60
    },
    "id": "a92cd8a0"
   },
   "outputs": [],
   "source": [
    "task = \"token_classification\"\n",
    "\n",
    "\n",
    "base_path = \"../../\"\n",
    "prt_model = os.path.join(base_path, \"models\", \"pretraining_model\", \"checkpoint-67246\")\n",
    "train_path = os.path.join(base_path, \"dataset\", \"finetuning_dataset\", \"strand_recovery\", \"train_strand_recovery.csv\")\n",
    "val_path = os.path.join(base_path, \"dataset\", \"finetuning_dataset\", \"strand_recovery\", \"val_strand_recovery.csv\")\n",
    "tokenizer_path = os.path.join(base_path, \"tokenizer\")\n",
    "\n",
    "model_name =  f\"BinBert_strand_recovery\"\n",
    "output_dir = model_path = os.path.join(base_path, \"models\", \"finetuned_models\", \"strand_recovery\", model_name)"
   ]
  },
  {
   "cell_type": "code",
   "execution_count": 8,
   "id": "7c610396",
   "metadata": {
    "executionInfo": {
     "elapsed": 4,
     "status": "ok",
     "timestamp": 1647423034664,
     "user": {
      "displayName": "Fiorella Artuso",
      "photoUrl": "https://lh3.googleusercontent.com/a-/AOh14GjI7BMbitgM7kg91MwWnCqwXuMuekaCgxsQRH2b=s64",
      "userId": "16421204404765857445"
     },
     "user_tz": -60
    },
    "id": "bf324773"
   },
   "outputs": [],
   "source": [
    "def load_tokenizer(tokenizer_path):\n",
    "    # load tokenizer from dict\n",
    "    tokenizer =  BertTokenizerFast.from_pretrained(tokenizer_path)\n",
    "    return tokenizer"
   ]
  },
  {
   "cell_type": "code",
   "execution_count": 9,
   "id": "8d792434",
   "metadata": {},
   "outputs": [],
   "source": [
    "import json\n",
    "\n",
    "def parse_block(b_ins, strands_indices):\n",
    "    \n",
    "    b_ins = b_ins.split(\" NEXT_I \")\n",
    "    strands_indices = json.loads(strands_indices)\n",
    "    \n",
    "    item = dict.fromkeys(['tokens', 'ner_tags'], None)\n",
    "    \n",
    "    last_ins_idx = strands_indices[-1]\n",
    "    \n",
    "    sep = \"[SEP]\"\n",
    "    left_piece = b_ins[:last_ins_idx]\n",
    "    central_piece = [sep, b_ins[last_ins_idx], sep]\n",
    "    right_piece = b_ins[last_ins_idx+1:]\n",
    "\n",
    "    item[\"tokens\"] = left_piece + central_piece + right_piece\n",
    "    item[\"ner_tags\"] = []\n",
    "    for i, ins in enumerate(item[\"tokens\"]):\n",
    "        # after putting \"SEP\" token, last ins idx is increased by 1\n",
    "        if i == last_ins_idx + 1:\n",
    "            item[\"ner_tags\"].append(-100)\n",
    "        elif ins == sep:\n",
    "            item[\"ner_tags\"].append(-100)\n",
    "        elif i in strands_indices:\n",
    "            item[\"ner_tags\"].append(1)\n",
    "        else:\n",
    "            item[\"ner_tags\"].append(0)\n",
    "    \n",
    "    if len(item[\"tokens\"]) != len(item[\"ner_tags\"]):\n",
    "        print(\"ASSERT triggered\")\n",
    "        print(b_ins)\n",
    "        print(strands)\n",
    "        print(item)\n",
    "        return None\n",
    "    \n",
    "    return item"
   ]
  },
  {
   "cell_type": "code",
   "execution_count": 10,
   "id": "c568f9a2",
   "metadata": {
    "executionInfo": {
     "elapsed": 4,
     "status": "ok",
     "timestamp": 1647423034664,
     "user": {
      "displayName": "Fiorella Artuso",
      "photoUrl": "https://lh3.googleusercontent.com/a-/AOh14GjI7BMbitgM7kg91MwWnCqwXuMuekaCgxsQRH2b=s64",
      "userId": "16421204404765857445"
     },
     "user_tz": -60
    },
    "id": "4be39a33"
   },
   "outputs": [],
   "source": [
    "class AsmToSymbolicDataset(torch.utils.data.Dataset):\n",
    "\n",
    "    def __init__(self, dataset_path, tokenizer, task):\n",
    "        \n",
    "        self.data_store = []\n",
    "        df = pd.read_csv(dataset_path, sep=\"\\t\").fillna('')\n",
    "        #df[\"instr_len\"] = df[\"ot_instructions\"].apply(lambda x: len(x.split(\"NEXT_I\")))\n",
    "        #df = df[df[\"instr_len\"]>=10]\n",
    "        \n",
    "        if task == \"token_classification\":\n",
    "            self.samples = df[[\"ot_instructions\", \"strand_indices\"]]\n",
    "        else:\n",
    "            raise Exception(f\"{task} is not a valid task\")\n",
    "        \n",
    "        self.tokenizer = tokenizer\n",
    "            \n",
    "        self.__init_structures()\n",
    "         \n",
    "    def __init_structures(self):\n",
    "        \n",
    "        for b_ins, strands_indices in tqdm(self.samples.values):\n",
    "            \n",
    "            example = parse_block(b_ins, strands_indices)\n",
    "            if example is None: continue\n",
    "            \n",
    "            #print(examples)\n",
    "            #print()\n",
    "            \n",
    "            \n",
    "            tokenized_example = self.tokenizer(text=example[\"tokens\"], truncation=True, max_length=MAX_SEQ_LEN, is_split_into_words=True)\n",
    "            #print(tokenized_example)\n",
    "            #print()\n",
    "            \n",
    "            word_ids = tokenized_example.word_ids()\n",
    "            #print(word_ids)\n",
    "            #print()\n",
    "            #print(tokenizer.convert_ids_to_tokens(tokenized_example[\"input_ids\"]))\n",
    "            #print()\n",
    "\n",
    "            previous_word_idx = None\n",
    "            label_ids = []\n",
    "            for word_idx in word_ids:\n",
    "                if word_idx is None:\n",
    "                    label_ids.append(-100)\n",
    "                elif word_idx != previous_word_idx:  # Only label the first token of a given word.\n",
    "                    label_ids.append(example[\"ner_tags\"][word_idx])\n",
    "                else:\n",
    "                    label_ids.append(-100)\n",
    "                previous_word_idx = word_idx\n",
    "\n",
    "            tokenized_example[\"labels\"] = label_ids\n",
    "            #print(tokenized_example)\n",
    "            #print()\n",
    "            self.data_store.append(tokenized_example)\n",
    "            \n",
    "        random.shuffle(self.data_store)\n",
    "                \n",
    "    def __len__(self) -> int:\n",
    "        return len(self.data_store)\n",
    "\n",
    "    def __getitem__(self, idx: int) -> torch.Tensor:\n",
    "        return self.data_store[idx]\n",
    "    \n",
    "    def save_to_file(self,save_file):\n",
    "        torch.save(self.data_store, save_file)"
   ]
  },
  {
   "cell_type": "code",
   "execution_count": 23,
   "id": "77d8e77d",
   "metadata": {
    "colab": {
     "base_uri": "https://localhost:8080/"
    },
    "executionInfo": {
     "elapsed": 166095,
     "status": "ok",
     "timestamp": 1647423200755,
     "user": {
      "displayName": "Fiorella Artuso",
      "photoUrl": "https://lh3.googleusercontent.com/a-/AOh14GjI7BMbitgM7kg91MwWnCqwXuMuekaCgxsQRH2b=s64",
      "userId": "16421204404765857445"
     },
     "user_tz": -60
    },
    "id": "102b9759",
    "outputId": "09219005-711d-4dcd-8205-3e0bb68dcb86"
   },
   "outputs": [
    {
     "name": "stderr",
     "output_type": "stream",
     "text": [
      "Didn't find file /home/jovyan/work/olivetree/final_for_paper/tokenizer/added_tokens.json. We won't load it.\n",
      "loading file /home/jovyan/work/olivetree/final_for_paper/tokenizer/vocab.txt\n",
      "loading file /home/jovyan/work/olivetree/final_for_paper/tokenizer/tokenizer.json\n",
      "loading file None\n",
      "loading file /home/jovyan/work/olivetree/final_for_paper/tokenizer/special_tokens_map.json\n",
      "loading file /home/jovyan/work/olivetree/final_for_paper/tokenizer/tokenizer_config.json\n",
      "100%|██████████| 7411/7411 [00:03<00:00, 2112.13it/s]\n",
      "100%|██████████| 926/926 [00:00<00:00, 2132.71it/s]\n"
     ]
    }
   ],
   "source": [
    "tokenizer = load_tokenizer(tokenizer_path)\n",
    "train_dataset = AsmToSymbolicDataset(train_path, tokenizer, task)\n",
    "val_dataset = AsmToSymbolicDataset(val_path, tokenizer, task)"
   ]
  },
  {
   "cell_type": "code",
   "execution_count": 24,
   "id": "dc0186b4",
   "metadata": {
    "colab": {
     "base_uri": "https://localhost:8080/"
    },
    "executionInfo": {
     "elapsed": 2079,
     "status": "ok",
     "timestamp": 1647423202821,
     "user": {
      "displayName": "Fiorella Artuso",
      "photoUrl": "https://lh3.googleusercontent.com/a-/AOh14GjI7BMbitgM7kg91MwWnCqwXuMuekaCgxsQRH2b=s64",
      "userId": "16421204404765857445"
     },
     "user_tz": -60
    },
    "id": "312c3d3c",
    "outputId": "1bd00a61-fa01-47a9-b5f2-36f52b32b4fb"
   },
   "outputs": [
    {
     "name": "stderr",
     "output_type": "stream",
     "text": [
      "loading configuration file /home/jovyan/work/olivetree/final_for_paper/models/next_sentence_prediction_bert_normal_mask30/checkpoint-67246/config.json\n",
      "Model config BertConfig {\n",
      "  \"_name_or_path\": \"/home/jovyan/work/olivetree/final_for_paper/models/next_sentence_prediction_bert_normal_mask30/checkpoint-67246\",\n",
      "  \"architectures\": [\n",
      "    \"BertForPreTraining\"\n",
      "  ],\n",
      "  \"attention_probs_dropout_prob\": 0.1,\n",
      "  \"classifier_dropout\": null,\n",
      "  \"hidden_act\": \"gelu\",\n",
      "  \"hidden_dropout_prob\": 0.1,\n",
      "  \"hidden_size\": 768,\n",
      "  \"initializer_range\": 0.02,\n",
      "  \"intermediate_size\": 3072,\n",
      "  \"layer_norm_eps\": 1e-12,\n",
      "  \"max_position_embeddings\": 514,\n",
      "  \"model_type\": \"bert\",\n",
      "  \"num_attention_heads\": 12,\n",
      "  \"num_hidden_layers\": 12,\n",
      "  \"pad_token_id\": 0,\n",
      "  \"position_embedding_type\": \"absolute\",\n",
      "  \"torch_dtype\": \"float32\",\n",
      "  \"transformers_version\": \"4.16.2\",\n",
      "  \"type_vocab_size\": 2,\n",
      "  \"use_cache\": true,\n",
      "  \"vocab_size\": 7814\n",
      "}\n",
      "\n",
      "loading weights file /home/jovyan/work/olivetree/final_for_paper/models/next_sentence_prediction_bert_normal_mask30/checkpoint-67246/pytorch_model.bin\n"
     ]
    },
    {
     "name": "stdout",
     "output_type": "stream",
     "text": [
      "Not from scratch\n"
     ]
    },
    {
     "name": "stderr",
     "output_type": "stream",
     "text": [
      "Some weights of the model checkpoint at /home/jovyan/work/olivetree/final_for_paper/models/next_sentence_prediction_bert_normal_mask30/checkpoint-67246 were not used when initializing BertForTokenClassification: ['cls.predictions.transform.LayerNorm.weight', 'cls.seq_relationship.bias', 'cls.predictions.transform.LayerNorm.bias', 'cls.seq_relationship.weight', 'cls.predictions.bias', 'cls.predictions.decoder.weight', 'cls.predictions.transform.dense.bias', 'cls.predictions.transform.dense.weight', 'cls.predictions.decoder.bias']\n",
      "- This IS expected if you are initializing BertForTokenClassification from the checkpoint of a model trained on another task or with another architecture (e.g. initializing a BertForSequenceClassification model from a BertForPreTraining model).\n",
      "- This IS NOT expected if you are initializing BertForTokenClassification from the checkpoint of a model that you expect to be exactly identical (initializing a BertForSequenceClassification model from a BertForSequenceClassification model).\n",
      "Some weights of BertForTokenClassification were not initialized from the model checkpoint at /home/jovyan/work/olivetree/final_for_paper/models/next_sentence_prediction_bert_normal_mask30/checkpoint-67246 and are newly initialized: ['classifier.bias', 'classifier.weight']\n",
      "You should probably TRAIN this model on a down-stream task to be able to use it for predictions and inference.\n"
     ]
    }
   ],
   "source": [
    "if not from_scratch:\n",
    "    print(\"Not from scratch\")\n",
    "    model = AutoModelForTokenClassification.from_pretrained(prt_model, num_labels=2)\n",
    "else:\n",
    "    print(\"From scratch\")\n",
    "    config = BertConfig(\n",
    "                vocab_size = len(tokenizer.vocab),\n",
    "                max_position_embeddings = MAX_POSITION_EMBEDDINGS,\n",
    "                hidden_size = HIDDEN_SIZE,\n",
    "                intermediate_size = INTERMEDIATE_SIZE,\n",
    "                num_attention_heads = NUM_ATTENTION_HEADS,\n",
    "                num_hidden_layers = NUM_HIDDEN_LAYERS,\n",
    "                type_vocab_size = TYPE_VOCAB_SIZE\n",
    "    )\n",
    "    config.num_labels = 2\n",
    "    model = AutoModelForTokenClassification.from_config(config)"
   ]
  },
  {
   "cell_type": "code",
   "execution_count": 25,
   "id": "dd00adb3",
   "metadata": {
    "executionInfo": {
     "elapsed": 7,
     "status": "ok",
     "timestamp": 1647423202823,
     "user": {
      "displayName": "Fiorella Artuso",
      "photoUrl": "https://lh3.googleusercontent.com/a-/AOh14GjI7BMbitgM7kg91MwWnCqwXuMuekaCgxsQRH2b=s64",
      "userId": "16421204404765857445"
     },
     "user_tz": -60
    },
    "id": "44388bf6"
   },
   "outputs": [
    {
     "name": "stderr",
     "output_type": "stream",
     "text": [
      "PyTorch: setting up devices\n",
      "The default value for the training argument `--report_to` will change in v5 (from all installed integrations to none). In v5, you will need to use `--report_to all` to get the same behavior as now. You should start updating your code and make this info disappear :-).\n"
     ]
    }
   ],
   "source": [
    "training_args = TrainingArguments(\n",
    "                    output_dir = output_dir,\n",
    "                    overwrite_output_dir = True,\n",
    "                    num_train_epochs = NUM_TRAIN_EPOCHS,\n",
    "                    learning_rate = LEARNING_RATE,\n",
    "                    per_device_train_batch_size = PER_DEVICE_TRAIN_BATCH_SIZE,\n",
    "                    save_strategy = 'epoch',\n",
    "                    #save_steps = 1000,\n",
    "                    save_total_limit = 1,\n",
    "                    logging_strategy = 'epoch',\n",
    "                    #logging_steps = 50,\n",
    "                    # prediction_loss_only = True,\n",
    "                    #fp16=True if not from_scratch else False,\n",
    "                    load_best_model_at_end = True,\n",
    "                    do_eval = True,\n",
    "                    evaluation_strategy = 'epoch',\n",
    "                    #eval_steps = 50,\n",
    "                    metric_for_best_model = 'eval_balanced_accuracy',\n",
    "                    per_device_eval_batch_size = PER_DEVICE_EVAL_BATCH_SIZE,\n",
    "                    dataloader_num_workers = DATA_LOADER_NUM_WORKERS)"
   ]
  },
  {
   "cell_type": "code",
   "execution_count": 26,
   "id": "a412506b",
   "metadata": {
    "executionInfo": {
     "elapsed": 7,
     "status": "ok",
     "timestamp": 1647423202824,
     "user": {
      "displayName": "Fiorella Artuso",
      "photoUrl": "https://lh3.googleusercontent.com/a-/AOh14GjI7BMbitgM7kg91MwWnCqwXuMuekaCgxsQRH2b=s64",
      "userId": "16421204404765857445"
     },
     "user_tz": -60
    },
    "id": "9ddd4097"
   },
   "outputs": [],
   "source": [
    "collator = DataCollatorForTokenClassification(tokenizer, padding=True)"
   ]
  },
  {
   "cell_type": "code",
   "execution_count": 27,
   "id": "8d74286e",
   "metadata": {
    "executionInfo": {
     "elapsed": 1043,
     "status": "ok",
     "timestamp": 1647423203861,
     "user": {
      "displayName": "Fiorella Artuso",
      "photoUrl": "https://lh3.googleusercontent.com/a-/AOh14GjI7BMbitgM7kg91MwWnCqwXuMuekaCgxsQRH2b=s64",
      "userId": "16421204404765857445"
     },
     "user_tz": -60
    },
    "id": "bfc4570b"
   },
   "outputs": [],
   "source": [
    "# accuracy = load_metric(\"accuracy\")"
   ]
  },
  {
   "cell_type": "code",
   "execution_count": 28,
   "id": "416a1f7b",
   "metadata": {
    "executionInfo": {
     "elapsed": 8,
     "status": "ok",
     "timestamp": 1647423203862,
     "user": {
      "displayName": "Fiorella Artuso",
      "photoUrl": "https://lh3.googleusercontent.com/a-/AOh14GjI7BMbitgM7kg91MwWnCqwXuMuekaCgxsQRH2b=s64",
      "userId": "16421204404765857445"
     },
     "user_tz": -60
    },
    "id": "faeacf91"
   },
   "outputs": [],
   "source": [
    "from sklearn.metrics import classification_report, balanced_accuracy_score\n",
    "\n",
    "def compute_metrics(eval_pred):\n",
    "    logits, labels = eval_pred\n",
    "    predictions = np.argmax(logits, axis=-1).flatten()\n",
    "    references = labels.flatten()\n",
    "    condition = references != -100\n",
    "    \n",
    "    dict_res = dict()\n",
    "    report = classification_report(references[condition], predictions[condition], labels=[0, 1], output_dict=True)\n",
    "    dict_res[\"accuracy\"] = report[\"accuracy\"]\n",
    "    for label in ['0', '1']:\n",
    "        for measure in [\"precision\", \"recall\", \"f1-score\"]:\n",
    "            dict_res[f\"{label}-{measure}\"] = report[label][measure]\n",
    "    \n",
    "    dict_res[\"balanced_accuracy\"] = balanced_accuracy_score(references[condition], predictions[condition])\n",
    "            \n",
    "    return dict_res"
   ]
  },
  {
   "cell_type": "code",
   "execution_count": 29,
   "id": "b509a3de",
   "metadata": {
    "executionInfo": {
     "elapsed": 3220,
     "status": "ok",
     "timestamp": 1647423207077,
     "user": {
      "displayName": "Fiorella Artuso",
      "photoUrl": "https://lh3.googleusercontent.com/a-/AOh14GjI7BMbitgM7kg91MwWnCqwXuMuekaCgxsQRH2b=s64",
      "userId": "16421204404765857445"
     },
     "user_tz": -60
    },
    "id": "ecf83ba2"
   },
   "outputs": [],
   "source": [
    "trainer = Trainer(\n",
    "    model=model,\n",
    "    args=training_args,\n",
    "    train_dataset=train_dataset,\n",
    "    eval_dataset=val_dataset,\n",
    "    data_collator = collator,\n",
    "    compute_metrics=compute_metrics,\n",
    "    #callbacks = [EarlyStoppingCallback(early_stopping_patience=PATIENCE)]\n",
    ")"
   ]
  },
  {
   "cell_type": "code",
   "execution_count": 30,
   "id": "4e70aed1",
   "metadata": {
    "colab": {
     "base_uri": "https://localhost:8080/",
     "height": 545
    },
    "executionInfo": {
     "elapsed": 563111,
     "status": "error",
     "timestamp": 1647423770176,
     "user": {
      "displayName": "Fiorella Artuso",
      "photoUrl": "https://lh3.googleusercontent.com/a-/AOh14GjI7BMbitgM7kg91MwWnCqwXuMuekaCgxsQRH2b=s64",
      "userId": "16421204404765857445"
     },
     "user_tz": -60
    },
    "id": "11dd32ae",
    "outputId": "545103f0-df4a-4d89-8389-7271c26384dd"
   },
   "outputs": [
    {
     "name": "stderr",
     "output_type": "stream",
     "text": [
      "/opt/conda/lib/python3.8/site-packages/transformers/optimization.py:306: FutureWarning: This implementation of AdamW is deprecated and will be removed in a future version. Use thePyTorch implementation torch.optim.AdamW instead, or set `no_deprecation_warning=True` to disable this warning\n",
      "  warnings.warn(\n",
      "***** Running training *****\n",
      "  Num examples = 7411\n",
      "  Num Epochs = 20\n",
      "  Instantaneous batch size per device = 32\n",
      "  Total train batch size (w. parallel, distributed & accumulation) = 32\n",
      "  Gradient Accumulation steps = 1\n",
      "  Total optimization steps = 4640\n"
     ]
    },
    {
     "data": {
      "text/html": [
       "\n",
       "    <div>\n",
       "      \n",
       "      <progress value='4640' max='4640' style='width:300px; height:20px; vertical-align: middle;'></progress>\n",
       "      [4640/4640 15:39, Epoch 20/20]\n",
       "    </div>\n",
       "    <table border=\"1\" class=\"dataframe\">\n",
       "  <thead>\n",
       " <tr style=\"text-align: left;\">\n",
       "      <th>Epoch</th>\n",
       "      <th>Training Loss</th>\n",
       "      <th>Validation Loss</th>\n",
       "      <th>Accuracy</th>\n",
       "      <th>0-precision</th>\n",
       "      <th>0-recall</th>\n",
       "      <th>0-f1-score</th>\n",
       "      <th>1-precision</th>\n",
       "      <th>1-recall</th>\n",
       "      <th>1-f1-score</th>\n",
       "      <th>Balanced Accuracy</th>\n",
       "    </tr>\n",
       "  </thead>\n",
       "  <tbody>\n",
       "    <tr>\n",
       "      <td>1</td>\n",
       "      <td>0.256900</td>\n",
       "      <td>0.150772</td>\n",
       "      <td>0.936215</td>\n",
       "      <td>0.969181</td>\n",
       "      <td>0.947184</td>\n",
       "      <td>0.958056</td>\n",
       "      <td>0.836453</td>\n",
       "      <td>0.899682</td>\n",
       "      <td>0.866916</td>\n",
       "      <td>0.923433</td>\n",
       "    </tr>\n",
       "    <tr>\n",
       "      <td>2</td>\n",
       "      <td>0.106200</td>\n",
       "      <td>0.083153</td>\n",
       "      <td>0.969250</td>\n",
       "      <td>0.981387</td>\n",
       "      <td>0.978577</td>\n",
       "      <td>0.979980</td>\n",
       "      <td>0.929321</td>\n",
       "      <td>0.938184</td>\n",
       "      <td>0.933732</td>\n",
       "      <td>0.958381</td>\n",
       "    </tr>\n",
       "    <tr>\n",
       "      <td>3</td>\n",
       "      <td>0.061000</td>\n",
       "      <td>0.064755</td>\n",
       "      <td>0.976754</td>\n",
       "      <td>0.987628</td>\n",
       "      <td>0.982077</td>\n",
       "      <td>0.984844</td>\n",
       "      <td>0.941401</td>\n",
       "      <td>0.959025</td>\n",
       "      <td>0.950131</td>\n",
       "      <td>0.970551</td>\n",
       "    </tr>\n",
       "    <tr>\n",
       "      <td>4</td>\n",
       "      <td>0.043100</td>\n",
       "      <td>0.058301</td>\n",
       "      <td>0.980424</td>\n",
       "      <td>0.989975</td>\n",
       "      <td>0.984516</td>\n",
       "      <td>0.987238</td>\n",
       "      <td>0.949358</td>\n",
       "      <td>0.966796</td>\n",
       "      <td>0.957998</td>\n",
       "      <td>0.975656</td>\n",
       "    </tr>\n",
       "    <tr>\n",
       "      <td>5</td>\n",
       "      <td>0.030900</td>\n",
       "      <td>0.055045</td>\n",
       "      <td>0.982545</td>\n",
       "      <td>0.991781</td>\n",
       "      <td>0.985470</td>\n",
       "      <td>0.988616</td>\n",
       "      <td>0.952612</td>\n",
       "      <td>0.972801</td>\n",
       "      <td>0.962600</td>\n",
       "      <td>0.979136</td>\n",
       "    </tr>\n",
       "    <tr>\n",
       "      <td>6</td>\n",
       "      <td>0.024900</td>\n",
       "      <td>0.053742</td>\n",
       "      <td>0.983442</td>\n",
       "      <td>0.992106</td>\n",
       "      <td>0.986319</td>\n",
       "      <td>0.989204</td>\n",
       "      <td>0.955301</td>\n",
       "      <td>0.973861</td>\n",
       "      <td>0.964492</td>\n",
       "      <td>0.980090</td>\n",
       "    </tr>\n",
       "    <tr>\n",
       "      <td>7</td>\n",
       "      <td>0.018800</td>\n",
       "      <td>0.057266</td>\n",
       "      <td>0.984829</td>\n",
       "      <td>0.993908</td>\n",
       "      <td>0.986319</td>\n",
       "      <td>0.990099</td>\n",
       "      <td>0.955563</td>\n",
       "      <td>0.979866</td>\n",
       "      <td>0.967562</td>\n",
       "      <td>0.983092</td>\n",
       "    </tr>\n",
       "    <tr>\n",
       "      <td>8</td>\n",
       "      <td>0.015100</td>\n",
       "      <td>0.054615</td>\n",
       "      <td>0.985726</td>\n",
       "      <td>0.992025</td>\n",
       "      <td>0.989394</td>\n",
       "      <td>0.990708</td>\n",
       "      <td>0.964986</td>\n",
       "      <td>0.973508</td>\n",
       "      <td>0.969228</td>\n",
       "      <td>0.981451</td>\n",
       "    </tr>\n",
       "    <tr>\n",
       "      <td>9</td>\n",
       "      <td>0.012600</td>\n",
       "      <td>0.059877</td>\n",
       "      <td>0.985073</td>\n",
       "      <td>0.994227</td>\n",
       "      <td>0.986319</td>\n",
       "      <td>0.990257</td>\n",
       "      <td>0.955609</td>\n",
       "      <td>0.980925</td>\n",
       "      <td>0.968102</td>\n",
       "      <td>0.983622</td>\n",
       "    </tr>\n",
       "    <tr>\n",
       "      <td>10</td>\n",
       "      <td>0.009900</td>\n",
       "      <td>0.060095</td>\n",
       "      <td>0.985318</td>\n",
       "      <td>0.994018</td>\n",
       "      <td>0.986849</td>\n",
       "      <td>0.990420</td>\n",
       "      <td>0.957227</td>\n",
       "      <td>0.980219</td>\n",
       "      <td>0.968586</td>\n",
       "      <td>0.983534</td>\n",
       "    </tr>\n",
       "    <tr>\n",
       "      <td>11</td>\n",
       "      <td>0.008600</td>\n",
       "      <td>0.057618</td>\n",
       "      <td>0.986786</td>\n",
       "      <td>0.992768</td>\n",
       "      <td>0.990031</td>\n",
       "      <td>0.991398</td>\n",
       "      <td>0.967098</td>\n",
       "      <td>0.975980</td>\n",
       "      <td>0.971519</td>\n",
       "      <td>0.983005</td>\n",
       "    </tr>\n",
       "    <tr>\n",
       "      <td>12</td>\n",
       "      <td>0.007000</td>\n",
       "      <td>0.060790</td>\n",
       "      <td>0.986542</td>\n",
       "      <td>0.993186</td>\n",
       "      <td>0.989288</td>\n",
       "      <td>0.991233</td>\n",
       "      <td>0.964784</td>\n",
       "      <td>0.977393</td>\n",
       "      <td>0.971048</td>\n",
       "      <td>0.983341</td>\n",
       "    </tr>\n",
       "    <tr>\n",
       "      <td>13</td>\n",
       "      <td>0.007000</td>\n",
       "      <td>0.060617</td>\n",
       "      <td>0.987357</td>\n",
       "      <td>0.993403</td>\n",
       "      <td>0.990137</td>\n",
       "      <td>0.991767</td>\n",
       "      <td>0.967505</td>\n",
       "      <td>0.978100</td>\n",
       "      <td>0.972774</td>\n",
       "      <td>0.984118</td>\n",
       "    </tr>\n",
       "    <tr>\n",
       "      <td>14</td>\n",
       "      <td>0.005900</td>\n",
       "      <td>0.062521</td>\n",
       "      <td>0.986378</td>\n",
       "      <td>0.993605</td>\n",
       "      <td>0.988652</td>\n",
       "      <td>0.991122</td>\n",
       "      <td>0.962821</td>\n",
       "      <td>0.978806</td>\n",
       "      <td>0.970748</td>\n",
       "      <td>0.983729</td>\n",
       "    </tr>\n",
       "    <tr>\n",
       "      <td>15</td>\n",
       "      <td>0.005700</td>\n",
       "      <td>0.061823</td>\n",
       "      <td>0.986868</td>\n",
       "      <td>0.992769</td>\n",
       "      <td>0.990137</td>\n",
       "      <td>0.991451</td>\n",
       "      <td>0.967437</td>\n",
       "      <td>0.975980</td>\n",
       "      <td>0.971690</td>\n",
       "      <td>0.983059</td>\n",
       "    </tr>\n",
       "    <tr>\n",
       "      <td>16</td>\n",
       "      <td>0.005400</td>\n",
       "      <td>0.065704</td>\n",
       "      <td>0.986868</td>\n",
       "      <td>0.994452</td>\n",
       "      <td>0.988440</td>\n",
       "      <td>0.991437</td>\n",
       "      <td>0.962258</td>\n",
       "      <td>0.981632</td>\n",
       "      <td>0.971848</td>\n",
       "      <td>0.985036</td>\n",
       "    </tr>\n",
       "    <tr>\n",
       "      <td>17</td>\n",
       "      <td>0.004000</td>\n",
       "      <td>0.064768</td>\n",
       "      <td>0.986623</td>\n",
       "      <td>0.993397</td>\n",
       "      <td>0.989182</td>\n",
       "      <td>0.991285</td>\n",
       "      <td>0.964472</td>\n",
       "      <td>0.978100</td>\n",
       "      <td>0.971238</td>\n",
       "      <td>0.983641</td>\n",
       "    </tr>\n",
       "    <tr>\n",
       "      <td>18</td>\n",
       "      <td>0.004000</td>\n",
       "      <td>0.065599</td>\n",
       "      <td>0.987031</td>\n",
       "      <td>0.993295</td>\n",
       "      <td>0.989819</td>\n",
       "      <td>0.991554</td>\n",
       "      <td>0.966480</td>\n",
       "      <td>0.977746</td>\n",
       "      <td>0.972081</td>\n",
       "      <td>0.983783</td>\n",
       "    </tr>\n",
       "    <tr>\n",
       "      <td>19</td>\n",
       "      <td>0.003800</td>\n",
       "      <td>0.065665</td>\n",
       "      <td>0.987194</td>\n",
       "      <td>0.993506</td>\n",
       "      <td>0.989819</td>\n",
       "      <td>0.991659</td>\n",
       "      <td>0.966504</td>\n",
       "      <td>0.978453</td>\n",
       "      <td>0.972442</td>\n",
       "      <td>0.984136</td>\n",
       "    </tr>\n",
       "    <tr>\n",
       "      <td>20</td>\n",
       "      <td>0.003600</td>\n",
       "      <td>0.066581</td>\n",
       "      <td>0.987194</td>\n",
       "      <td>0.993612</td>\n",
       "      <td>0.989713</td>\n",
       "      <td>0.991658</td>\n",
       "      <td>0.966179</td>\n",
       "      <td>0.978806</td>\n",
       "      <td>0.972451</td>\n",
       "      <td>0.984259</td>\n",
       "    </tr>\n",
       "  </tbody>\n",
       "</table><p>"
      ],
      "text/plain": [
       "<IPython.core.display.HTML object>"
      ]
     },
     "metadata": {},
     "output_type": "display_data"
    },
    {
     "name": "stderr",
     "output_type": "stream",
     "text": [
      "***** Running Evaluation *****\n",
      "  Num examples = 926\n",
      "  Batch size = 32\n",
      "Saving model checkpoint to /home/jovyan/work/olivetree/final_for_paper/tests/strand_recovery/fine_tuned_models/olivetree/nsp_normal_mask30/checkpoint-232\n",
      "Configuration saved in /home/jovyan/work/olivetree/final_for_paper/tests/strand_recovery/fine_tuned_models/olivetree/nsp_normal_mask30/checkpoint-232/config.json\n",
      "Model weights saved in /home/jovyan/work/olivetree/final_for_paper/tests/strand_recovery/fine_tuned_models/olivetree/nsp_normal_mask30/checkpoint-232/pytorch_model.bin\n",
      "***** Running Evaluation *****\n",
      "  Num examples = 926\n",
      "  Batch size = 32\n",
      "Saving model checkpoint to /home/jovyan/work/olivetree/final_for_paper/tests/strand_recovery/fine_tuned_models/olivetree/nsp_normal_mask30/checkpoint-464\n",
      "Configuration saved in /home/jovyan/work/olivetree/final_for_paper/tests/strand_recovery/fine_tuned_models/olivetree/nsp_normal_mask30/checkpoint-464/config.json\n",
      "Model weights saved in /home/jovyan/work/olivetree/final_for_paper/tests/strand_recovery/fine_tuned_models/olivetree/nsp_normal_mask30/checkpoint-464/pytorch_model.bin\n",
      "Deleting older checkpoint [/home/jovyan/work/olivetree/final_for_paper/tests/strand_recovery/fine_tuned_models/olivetree/nsp_normal_mask30/checkpoint-232] due to args.save_total_limit\n",
      "***** Running Evaluation *****\n",
      "  Num examples = 926\n",
      "  Batch size = 32\n",
      "Saving model checkpoint to /home/jovyan/work/olivetree/final_for_paper/tests/strand_recovery/fine_tuned_models/olivetree/nsp_normal_mask30/checkpoint-696\n",
      "Configuration saved in /home/jovyan/work/olivetree/final_for_paper/tests/strand_recovery/fine_tuned_models/olivetree/nsp_normal_mask30/checkpoint-696/config.json\n",
      "Model weights saved in /home/jovyan/work/olivetree/final_for_paper/tests/strand_recovery/fine_tuned_models/olivetree/nsp_normal_mask30/checkpoint-696/pytorch_model.bin\n",
      "Deleting older checkpoint [/home/jovyan/work/olivetree/final_for_paper/tests/strand_recovery/fine_tuned_models/olivetree/nsp_normal_mask30/checkpoint-464] due to args.save_total_limit\n",
      "***** Running Evaluation *****\n",
      "  Num examples = 926\n",
      "  Batch size = 32\n",
      "Saving model checkpoint to /home/jovyan/work/olivetree/final_for_paper/tests/strand_recovery/fine_tuned_models/olivetree/nsp_normal_mask30/checkpoint-928\n",
      "Configuration saved in /home/jovyan/work/olivetree/final_for_paper/tests/strand_recovery/fine_tuned_models/olivetree/nsp_normal_mask30/checkpoint-928/config.json\n",
      "Model weights saved in /home/jovyan/work/olivetree/final_for_paper/tests/strand_recovery/fine_tuned_models/olivetree/nsp_normal_mask30/checkpoint-928/pytorch_model.bin\n",
      "Deleting older checkpoint [/home/jovyan/work/olivetree/final_for_paper/tests/strand_recovery/fine_tuned_models/olivetree/nsp_normal_mask30/checkpoint-696] due to args.save_total_limit\n",
      "***** Running Evaluation *****\n",
      "  Num examples = 926\n",
      "  Batch size = 32\n",
      "Saving model checkpoint to /home/jovyan/work/olivetree/final_for_paper/tests/strand_recovery/fine_tuned_models/olivetree/nsp_normal_mask30/checkpoint-1160\n",
      "Configuration saved in /home/jovyan/work/olivetree/final_for_paper/tests/strand_recovery/fine_tuned_models/olivetree/nsp_normal_mask30/checkpoint-1160/config.json\n",
      "Model weights saved in /home/jovyan/work/olivetree/final_for_paper/tests/strand_recovery/fine_tuned_models/olivetree/nsp_normal_mask30/checkpoint-1160/pytorch_model.bin\n",
      "Deleting older checkpoint [/home/jovyan/work/olivetree/final_for_paper/tests/strand_recovery/fine_tuned_models/olivetree/nsp_normal_mask30/checkpoint-928] due to args.save_total_limit\n",
      "***** Running Evaluation *****\n",
      "  Num examples = 926\n",
      "  Batch size = 32\n",
      "Saving model checkpoint to /home/jovyan/work/olivetree/final_for_paper/tests/strand_recovery/fine_tuned_models/olivetree/nsp_normal_mask30/checkpoint-1392\n",
      "Configuration saved in /home/jovyan/work/olivetree/final_for_paper/tests/strand_recovery/fine_tuned_models/olivetree/nsp_normal_mask30/checkpoint-1392/config.json\n",
      "Model weights saved in /home/jovyan/work/olivetree/final_for_paper/tests/strand_recovery/fine_tuned_models/olivetree/nsp_normal_mask30/checkpoint-1392/pytorch_model.bin\n",
      "Deleting older checkpoint [/home/jovyan/work/olivetree/final_for_paper/tests/strand_recovery/fine_tuned_models/olivetree/nsp_normal_mask30/checkpoint-1160] due to args.save_total_limit\n",
      "***** Running Evaluation *****\n",
      "  Num examples = 926\n",
      "  Batch size = 32\n",
      "Saving model checkpoint to /home/jovyan/work/olivetree/final_for_paper/tests/strand_recovery/fine_tuned_models/olivetree/nsp_normal_mask30/checkpoint-1624\n",
      "Configuration saved in /home/jovyan/work/olivetree/final_for_paper/tests/strand_recovery/fine_tuned_models/olivetree/nsp_normal_mask30/checkpoint-1624/config.json\n",
      "Model weights saved in /home/jovyan/work/olivetree/final_for_paper/tests/strand_recovery/fine_tuned_models/olivetree/nsp_normal_mask30/checkpoint-1624/pytorch_model.bin\n",
      "Deleting older checkpoint [/home/jovyan/work/olivetree/final_for_paper/tests/strand_recovery/fine_tuned_models/olivetree/nsp_normal_mask30/checkpoint-1392] due to args.save_total_limit\n",
      "***** Running Evaluation *****\n",
      "  Num examples = 926\n",
      "  Batch size = 32\n",
      "Saving model checkpoint to /home/jovyan/work/olivetree/final_for_paper/tests/strand_recovery/fine_tuned_models/olivetree/nsp_normal_mask30/checkpoint-1856\n",
      "Configuration saved in /home/jovyan/work/olivetree/final_for_paper/tests/strand_recovery/fine_tuned_models/olivetree/nsp_normal_mask30/checkpoint-1856/config.json\n",
      "Model weights saved in /home/jovyan/work/olivetree/final_for_paper/tests/strand_recovery/fine_tuned_models/olivetree/nsp_normal_mask30/checkpoint-1856/pytorch_model.bin\n",
      "***** Running Evaluation *****\n",
      "  Num examples = 926\n",
      "  Batch size = 32\n",
      "Saving model checkpoint to /home/jovyan/work/olivetree/final_for_paper/tests/strand_recovery/fine_tuned_models/olivetree/nsp_normal_mask30/checkpoint-2088\n",
      "Configuration saved in /home/jovyan/work/olivetree/final_for_paper/tests/strand_recovery/fine_tuned_models/olivetree/nsp_normal_mask30/checkpoint-2088/config.json\n",
      "Model weights saved in /home/jovyan/work/olivetree/final_for_paper/tests/strand_recovery/fine_tuned_models/olivetree/nsp_normal_mask30/checkpoint-2088/pytorch_model.bin\n",
      "Deleting older checkpoint [/home/jovyan/work/olivetree/final_for_paper/tests/strand_recovery/fine_tuned_models/olivetree/nsp_normal_mask30/checkpoint-1624] due to args.save_total_limit\n",
      "Deleting older checkpoint [/home/jovyan/work/olivetree/final_for_paper/tests/strand_recovery/fine_tuned_models/olivetree/nsp_normal_mask30/checkpoint-1856] due to args.save_total_limit\n",
      "***** Running Evaluation *****\n",
      "  Num examples = 926\n",
      "  Batch size = 32\n",
      "Saving model checkpoint to /home/jovyan/work/olivetree/final_for_paper/tests/strand_recovery/fine_tuned_models/olivetree/nsp_normal_mask30/checkpoint-2320\n",
      "Configuration saved in /home/jovyan/work/olivetree/final_for_paper/tests/strand_recovery/fine_tuned_models/olivetree/nsp_normal_mask30/checkpoint-2320/config.json\n",
      "Model weights saved in /home/jovyan/work/olivetree/final_for_paper/tests/strand_recovery/fine_tuned_models/olivetree/nsp_normal_mask30/checkpoint-2320/pytorch_model.bin\n",
      "***** Running Evaluation *****\n",
      "  Num examples = 926\n",
      "  Batch size = 32\n",
      "Saving model checkpoint to /home/jovyan/work/olivetree/final_for_paper/tests/strand_recovery/fine_tuned_models/olivetree/nsp_normal_mask30/checkpoint-2552\n",
      "Configuration saved in /home/jovyan/work/olivetree/final_for_paper/tests/strand_recovery/fine_tuned_models/olivetree/nsp_normal_mask30/checkpoint-2552/config.json\n",
      "Model weights saved in /home/jovyan/work/olivetree/final_for_paper/tests/strand_recovery/fine_tuned_models/olivetree/nsp_normal_mask30/checkpoint-2552/pytorch_model.bin\n",
      "Deleting older checkpoint [/home/jovyan/work/olivetree/final_for_paper/tests/strand_recovery/fine_tuned_models/olivetree/nsp_normal_mask30/checkpoint-2320] due to args.save_total_limit\n",
      "***** Running Evaluation *****\n",
      "  Num examples = 926\n",
      "  Batch size = 32\n",
      "Saving model checkpoint to /home/jovyan/work/olivetree/final_for_paper/tests/strand_recovery/fine_tuned_models/olivetree/nsp_normal_mask30/checkpoint-2784\n",
      "Configuration saved in /home/jovyan/work/olivetree/final_for_paper/tests/strand_recovery/fine_tuned_models/olivetree/nsp_normal_mask30/checkpoint-2784/config.json\n",
      "Model weights saved in /home/jovyan/work/olivetree/final_for_paper/tests/strand_recovery/fine_tuned_models/olivetree/nsp_normal_mask30/checkpoint-2784/pytorch_model.bin\n",
      "Deleting older checkpoint [/home/jovyan/work/olivetree/final_for_paper/tests/strand_recovery/fine_tuned_models/olivetree/nsp_normal_mask30/checkpoint-2552] due to args.save_total_limit\n",
      "***** Running Evaluation *****\n",
      "  Num examples = 926\n",
      "  Batch size = 32\n",
      "Saving model checkpoint to /home/jovyan/work/olivetree/final_for_paper/tests/strand_recovery/fine_tuned_models/olivetree/nsp_normal_mask30/checkpoint-3016\n",
      "Configuration saved in /home/jovyan/work/olivetree/final_for_paper/tests/strand_recovery/fine_tuned_models/olivetree/nsp_normal_mask30/checkpoint-3016/config.json\n",
      "Model weights saved in /home/jovyan/work/olivetree/final_for_paper/tests/strand_recovery/fine_tuned_models/olivetree/nsp_normal_mask30/checkpoint-3016/pytorch_model.bin\n",
      "Deleting older checkpoint [/home/jovyan/work/olivetree/final_for_paper/tests/strand_recovery/fine_tuned_models/olivetree/nsp_normal_mask30/checkpoint-2088] due to args.save_total_limit\n",
      "Deleting older checkpoint [/home/jovyan/work/olivetree/final_for_paper/tests/strand_recovery/fine_tuned_models/olivetree/nsp_normal_mask30/checkpoint-2784] due to args.save_total_limit\n",
      "***** Running Evaluation *****\n",
      "  Num examples = 926\n",
      "  Batch size = 32\n",
      "Saving model checkpoint to /home/jovyan/work/olivetree/final_for_paper/tests/strand_recovery/fine_tuned_models/olivetree/nsp_normal_mask30/checkpoint-3248\n",
      "Configuration saved in /home/jovyan/work/olivetree/final_for_paper/tests/strand_recovery/fine_tuned_models/olivetree/nsp_normal_mask30/checkpoint-3248/config.json\n",
      "Model weights saved in /home/jovyan/work/olivetree/final_for_paper/tests/strand_recovery/fine_tuned_models/olivetree/nsp_normal_mask30/checkpoint-3248/pytorch_model.bin\n",
      "***** Running Evaluation *****\n",
      "  Num examples = 926\n",
      "  Batch size = 32\n",
      "Saving model checkpoint to /home/jovyan/work/olivetree/final_for_paper/tests/strand_recovery/fine_tuned_models/olivetree/nsp_normal_mask30/checkpoint-3480\n",
      "Configuration saved in /home/jovyan/work/olivetree/final_for_paper/tests/strand_recovery/fine_tuned_models/olivetree/nsp_normal_mask30/checkpoint-3480/config.json\n",
      "Model weights saved in /home/jovyan/work/olivetree/final_for_paper/tests/strand_recovery/fine_tuned_models/olivetree/nsp_normal_mask30/checkpoint-3480/pytorch_model.bin\n",
      "Deleting older checkpoint [/home/jovyan/work/olivetree/final_for_paper/tests/strand_recovery/fine_tuned_models/olivetree/nsp_normal_mask30/checkpoint-3248] due to args.save_total_limit\n",
      "***** Running Evaluation *****\n",
      "  Num examples = 926\n",
      "  Batch size = 32\n",
      "Saving model checkpoint to /home/jovyan/work/olivetree/final_for_paper/tests/strand_recovery/fine_tuned_models/olivetree/nsp_normal_mask30/checkpoint-3712\n",
      "Configuration saved in /home/jovyan/work/olivetree/final_for_paper/tests/strand_recovery/fine_tuned_models/olivetree/nsp_normal_mask30/checkpoint-3712/config.json\n",
      "Model weights saved in /home/jovyan/work/olivetree/final_for_paper/tests/strand_recovery/fine_tuned_models/olivetree/nsp_normal_mask30/checkpoint-3712/pytorch_model.bin\n",
      "Deleting older checkpoint [/home/jovyan/work/olivetree/final_for_paper/tests/strand_recovery/fine_tuned_models/olivetree/nsp_normal_mask30/checkpoint-3016] due to args.save_total_limit\n",
      "Deleting older checkpoint [/home/jovyan/work/olivetree/final_for_paper/tests/strand_recovery/fine_tuned_models/olivetree/nsp_normal_mask30/checkpoint-3480] due to args.save_total_limit\n",
      "***** Running Evaluation *****\n",
      "  Num examples = 926\n",
      "  Batch size = 32\n",
      "Saving model checkpoint to /home/jovyan/work/olivetree/final_for_paper/tests/strand_recovery/fine_tuned_models/olivetree/nsp_normal_mask30/checkpoint-3944\n",
      "Configuration saved in /home/jovyan/work/olivetree/final_for_paper/tests/strand_recovery/fine_tuned_models/olivetree/nsp_normal_mask30/checkpoint-3944/config.json\n",
      "Model weights saved in /home/jovyan/work/olivetree/final_for_paper/tests/strand_recovery/fine_tuned_models/olivetree/nsp_normal_mask30/checkpoint-3944/pytorch_model.bin\n",
      "***** Running Evaluation *****\n",
      "  Num examples = 926\n",
      "  Batch size = 32\n",
      "Saving model checkpoint to /home/jovyan/work/olivetree/final_for_paper/tests/strand_recovery/fine_tuned_models/olivetree/nsp_normal_mask30/checkpoint-4176\n",
      "Configuration saved in /home/jovyan/work/olivetree/final_for_paper/tests/strand_recovery/fine_tuned_models/olivetree/nsp_normal_mask30/checkpoint-4176/config.json\n",
      "Model weights saved in /home/jovyan/work/olivetree/final_for_paper/tests/strand_recovery/fine_tuned_models/olivetree/nsp_normal_mask30/checkpoint-4176/pytorch_model.bin\n",
      "Deleting older checkpoint [/home/jovyan/work/olivetree/final_for_paper/tests/strand_recovery/fine_tuned_models/olivetree/nsp_normal_mask30/checkpoint-3944] due to args.save_total_limit\n",
      "***** Running Evaluation *****\n",
      "  Num examples = 926\n",
      "  Batch size = 32\n",
      "Saving model checkpoint to /home/jovyan/work/olivetree/final_for_paper/tests/strand_recovery/fine_tuned_models/olivetree/nsp_normal_mask30/checkpoint-4408\n",
      "Configuration saved in /home/jovyan/work/olivetree/final_for_paper/tests/strand_recovery/fine_tuned_models/olivetree/nsp_normal_mask30/checkpoint-4408/config.json\n",
      "Model weights saved in /home/jovyan/work/olivetree/final_for_paper/tests/strand_recovery/fine_tuned_models/olivetree/nsp_normal_mask30/checkpoint-4408/pytorch_model.bin\n",
      "Deleting older checkpoint [/home/jovyan/work/olivetree/final_for_paper/tests/strand_recovery/fine_tuned_models/olivetree/nsp_normal_mask30/checkpoint-4176] due to args.save_total_limit\n",
      "***** Running Evaluation *****\n",
      "  Num examples = 926\n",
      "  Batch size = 32\n",
      "Saving model checkpoint to /home/jovyan/work/olivetree/final_for_paper/tests/strand_recovery/fine_tuned_models/olivetree/nsp_normal_mask30/checkpoint-4640\n",
      "Configuration saved in /home/jovyan/work/olivetree/final_for_paper/tests/strand_recovery/fine_tuned_models/olivetree/nsp_normal_mask30/checkpoint-4640/config.json\n",
      "Model weights saved in /home/jovyan/work/olivetree/final_for_paper/tests/strand_recovery/fine_tuned_models/olivetree/nsp_normal_mask30/checkpoint-4640/pytorch_model.bin\n",
      "Deleting older checkpoint [/home/jovyan/work/olivetree/final_for_paper/tests/strand_recovery/fine_tuned_models/olivetree/nsp_normal_mask30/checkpoint-4408] due to args.save_total_limit\n",
      "\n",
      "\n",
      "Training completed. Do not forget to share your model on huggingface.co/models =)\n",
      "\n",
      "\n",
      "Loading best model from /home/jovyan/work/olivetree/final_for_paper/tests/strand_recovery/fine_tuned_models/olivetree/nsp_normal_mask30/checkpoint-3712 (score: 0.9850359257885225).\n"
     ]
    },
    {
     "data": {
      "text/plain": [
       "TrainOutput(global_step=4640, training_loss=0.03172400523105572, metrics={'train_runtime': 940.8214, 'train_samples_per_second': 157.543, 'train_steps_per_second': 4.932, 'total_flos': 2.3488637587664316e+16, 'train_loss': 0.03172400523105572, 'epoch': 20.0})"
      ]
     },
     "execution_count": 30,
     "metadata": {},
     "output_type": "execute_result"
    }
   ],
   "source": [
    "trainer.train()"
   ]
  },
  {
   "cell_type": "markdown",
   "id": "e0359be6",
   "metadata": {},
   "source": [
    "# Testing"
   ]
  },
  {
   "cell_type": "code",
   "execution_count": 11,
   "id": "a143293e",
   "metadata": {},
   "outputs": [],
   "source": [
    "import matplotlib.pyplot as plt\n",
    "import seaborn as sns"
   ]
  },
  {
   "cell_type": "code",
   "execution_count": 12,
   "id": "37c790ca",
   "metadata": {},
   "outputs": [],
   "source": [
    "task = \"token_classification\"\n",
    "\n",
    "base_path = \"../../\"\n",
    "test_path = os.path.join(base_path, \"dataset\", \"finetuning_dataset\", \"strand_recovery\", \"test_strand_recovery.csv\")\n",
    "tokenizer_path = os.path.join(base_path, \"tokenizer\")\n",
    "\n",
    "model_name = \"BinBert_strand_recovery/checkpoint-3712\"\n",
    "model_path = os.path.join(base_path, \"models\", \"finetuned_models\", \"strand_recovery\", model_name)\n",
    "res_dir = os.path.join(base_path, \"results\", \"strand_recovery\", model_name.replace(os.sep,\"_\"))"
   ]
  },
  {
   "cell_type": "code",
   "execution_count": 13,
   "id": "9a700eac",
   "metadata": {},
   "outputs": [],
   "source": [
    "def load_binbert_model(best_checkpoint):\n",
    "\n",
    "    print(\"Loading Model ->\", best_checkpoint)\n",
    "    model = AutoModelForTokenClassification.from_pretrained(best_checkpoint, output_hidden_states=True)\n",
    "\n",
    "    model.to(\"cuda\")\n",
    "    model.eval()\n",
    "\n",
    "    return model"
   ]
  },
  {
   "cell_type": "code",
   "execution_count": 14,
   "id": "d22a3392",
   "metadata": {},
   "outputs": [],
   "source": [
    "from sklearn.metrics import classification_report, balanced_accuracy_score\n",
    "\n",
    "def compute_metrics(eval_pred):\n",
    "    logits, labels = eval_pred\n",
    "    predictions = np.argmax(logits, axis=-1).flatten()\n",
    "    references = labels.flatten()\n",
    "    condition = references != -100\n",
    "    \n",
    "    dict_res = dict()\n",
    "    report = classification_report(references[condition], predictions[condition], labels=[0, 1], output_dict=True)\n",
    "    dict_res[\"accuracy\"] = report[\"accuracy\"]\n",
    "    for label in ['0', '1']:\n",
    "        for measure in [\"precision\", \"recall\", \"f1-score\"]:\n",
    "            dict_res[f\"{label}-{measure}\"] = report[label][measure]\n",
    "    \n",
    "    dict_res[\"balanced_accuracy\"] = balanced_accuracy_score(references[condition], predictions[condition])\n",
    "            \n",
    "    return dict_res"
   ]
  },
  {
   "cell_type": "code",
   "execution_count": 15,
   "id": "23b2d49b",
   "metadata": {},
   "outputs": [],
   "source": [
    "def compute_test_balanced_accuracy(test_data_loader, model):\n",
    "    logits = []\n",
    "    references = []\n",
    "    \n",
    "    for batch in tqdm(test_data_loader):\n",
    "        for elem in batch:\n",
    "            batch[elem] = batch[elem].to(\"cuda\")\n",
    "        with torch.no_grad():\n",
    "            pred = model(**batch).logits.cpu().detach().numpy()\n",
    "        \n",
    "        ref = batch[\"labels\"].cpu().detach().numpy()\n",
    "        logits.extend(pred)\n",
    "        references.extend(ref)\n",
    "    \n",
    "    predictions = np.concatenate(logits)\n",
    "    references = np.concatenate(references)\n",
    "    \n",
    "    report = compute_metrics((predictions, references))\n",
    "    \n",
    "    return report, predictions, references"
   ]
  },
  {
   "cell_type": "code",
   "execution_count": 16,
   "id": "8fbe9d94",
   "metadata": {},
   "outputs": [],
   "source": [
    "import itertools\n",
    "\n",
    "def plot_classification_report(reports, res_dir, title='[OT] Strand Recovery', classes = [\"OT-NSP\", \"OT-MLM\", \"OT-SCRATCH\"], cmap=plt.cm.Blues):\n",
    "    \n",
    "    xlabel = 'Metrics'\n",
    "    ylabel = 'Models'\n",
    "    \n",
    "    xticklabels = ['0-precision', '0-recall', '0-f1-score', '1-precision', '1-recall', '1-f1-score', 'balanced_accuracy']\n",
    "    yticklabels = classes\n",
    "    \n",
    "    plotMat = []\n",
    "    for i, model in enumerate(yticklabels):\n",
    "        values = []\n",
    "        for j, measure in enumerate(xticklabels):\n",
    "            values.append(reports[i][measure])\n",
    "        plotMat.append(values)\n",
    "            \n",
    "    # figure_width = 25\n",
    "    # figure_height = len(class_names) + 7\n",
    "    \n",
    "    plt.figure(figsize = (20,8))\n",
    "    plt.imshow(plotMat, interpolation='nearest', cmap=cmap)\n",
    "    plt.title(title)\n",
    "    plt.colorbar()\n",
    "    \n",
    "    x_tick_marks = np.arange(len(xticklabels))\n",
    "    y_tick_marks = np.arange(len(yticklabels))\n",
    "    \n",
    "    plt.xticks(x_tick_marks, xticklabels)\n",
    "    plt.yticks(y_tick_marks, yticklabels)\n",
    "    plt.rcParams.update({'font.size': 15})\n",
    "    \n",
    "    upper_thresh = 0.8\n",
    "    for i, j in itertools.product(range(len(yticklabels)), range(len(xticklabels))):\n",
    "        plt.text(\n",
    "            j, i, format(plotMat[i][j], '.3f'),\n",
    "            horizontalalignment=\"center\",\n",
    "            color=\"white\" if plotMat[i][j] > upper_thresh else \"black\"\n",
    "        )\n",
    "    \n",
    "    file_name = os.path.join(res_dir, f\"{title}.png\")\n",
    "    plt.savefig(file_name, dpi=500)\n",
    "    plt.close(file_name)"
   ]
  },
  {
   "cell_type": "code",
   "execution_count": 17,
   "id": "4dae0d86",
   "metadata": {},
   "outputs": [],
   "source": [
    "tokenizer = load_tokenizer(tokenizer_path)"
   ]
  },
  {
   "cell_type": "code",
   "execution_count": 18,
   "id": "c04eadae",
   "metadata": {},
   "outputs": [
    {
     "name": "stderr",
     "output_type": "stream",
     "text": [
      "100%|██████████| 927/927 [00:00<00:00, 2026.10it/s]\n"
     ]
    }
   ],
   "source": [
    "test_dataset = AsmToSymbolicDataset(test_path, tokenizer, task)\n",
    "collator = DataCollatorForTokenClassification(tokenizer, padding=True)\n",
    "test_data_loader = torch.utils.data.DataLoader(test_dataset, batch_size=64, collate_fn=collator)"
   ]
  },
  {
   "cell_type": "code",
   "execution_count": 19,
   "id": "14866d54",
   "metadata": {},
   "outputs": [
    {
     "name": "stdout",
     "output_type": "stream",
     "text": [
      "Loading Model -> /home/jovyan/work/olivetree/final_for_paper/tests/strand_recovery/fine_tuned_models/olivetree/nsp_normal_mask30/checkpoint-3712\n"
     ]
    },
    {
     "name": "stderr",
     "output_type": "stream",
     "text": [
      "100%|██████████| 15/15 [00:01<00:00,  8.43it/s]\n"
     ]
    },
    {
     "name": "stdout",
     "output_type": "stream",
     "text": [
      "Loading Model -> /home/jovyan/work/olivetree/final_for_paper/tests/strand_recovery/fine_tuned_models/olivetree/mlm_normal_mask30/checkpoint-4408\n"
     ]
    },
    {
     "name": "stderr",
     "output_type": "stream",
     "text": [
      "100%|██████████| 15/15 [00:01<00:00,  8.52it/s]\n"
     ]
    },
    {
     "name": "stdout",
     "output_type": "stream",
     "text": [
      "Loading Model -> /home/jovyan/work/olivetree/final_for_paper/tests/strand_recovery/fine_tuned_models/olivetree/from_scratch_normal/checkpoint-3712\n"
     ]
    },
    {
     "name": "stderr",
     "output_type": "stream",
     "text": [
      "100%|██████████| 15/15 [00:00<00:00, 24.95it/s]\n"
     ]
    }
   ],
   "source": [
    "reports = []\n",
    "model = load_binbert_model(model_path)\n",
    "reports.append(compute_test_balanced_accuracy(test_data_loader, model)[0])"
   ]
  },
  {
   "cell_type": "code",
   "execution_count": 20,
   "id": "e31f8fa4",
   "metadata": {},
   "outputs": [
    {
     "data": {
      "image/png": "[encoded data removed]",
      "text/plain": [
       "<Figure size 1440x576 with 2 Axes>"
      ]
     },
     "metadata": {
      "needs_background": "light"
     },
     "output_type": "display_data"
    }
   ],
   "source": [
    "plot_classification_report(reports, res_dir)"
   ]
  },
  {
   "cell_type": "code",
   "execution_count": null,
   "id": "086bc809",
   "metadata": {},
   "outputs": [],
   "source": []
  }
 ],
 "metadata": {
  "accelerator": "GPU",
  "colab": {
   "name": "compiler_provenance.ipynb",
   "provenance": []
  },
  "kernelspec": {
   "display_name": "Python 3 (ipykernel)",
   "language": "python",
   "name": "python3"
  },
  "language_info": {
   "codemirror_mode": {
    "name": "ipython",
    "version": 3
   },
   "file_extension": ".py",
   "mimetype": "text/x-python",
   "name": "python",
   "nbconvert_exporter": "python",
   "pygments_lexer": "ipython3",
   "version": "3.8.12"
  }
 },
 "nbformat": 4,
 "nbformat_minor": 5
}