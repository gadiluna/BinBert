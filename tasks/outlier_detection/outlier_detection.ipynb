{
 "cells": [
  {
   "cell_type": "code",
   "execution_count": 1,
   "id": "68de916d",
   "metadata": {
    "executionInfo": {
     "elapsed": 231,
     "status": "ok",
     "timestamp": 1646997826196,
     "user": {
      "displayName": "Fiorella Artuso",
      "photoUrl": "https://lh3.googleusercontent.com/a-/AOh14GjI7BMbitgM7kg91MwWnCqwXuMuekaCgxsQRH2b=s64",
      "userId": "16421204404765857445"
     },
     "user_tz": -60
    },
    "id": "v7dWftXt--Kl"
   },
   "outputs": [],
   "source": [
    "import sys"
   ]
  },
  {
   "cell_type": "code",
   "execution_count": 2,
   "id": "e78ac4b4",
   "metadata": {
    "executionInfo": {
     "elapsed": 2,
     "status": "ok",
     "timestamp": 1646997826492,
     "user": {
      "displayName": "Fiorella Artuso",
      "photoUrl": "https://lh3.googleusercontent.com/a-/AOh14GjI7BMbitgM7kg91MwWnCqwXuMuekaCgxsQRH2b=s64",
      "userId": "16421204404765857445"
     },
     "user_tz": -60
    },
    "id": "76494c43"
   },
   "outputs": [],
   "source": [
    "# General imports\n",
    "import os\n",
    "import json\n",
    "import random\n",
    "import itertools\n",
    "import numpy as np\n",
    "import pandas as pd\n",
    "from tqdm import tqdm\n",
    "from datetime import datetime\n",
    "import matplotlib.pyplot as plt\n",
    "\n",
    "# pytorch imports\n",
    "import torch\n",
    "\n",
    "# Transformer imports\n",
    "from transformers import BertTokenizerFast\n",
    "from transformers import BertModel\n",
    "\n",
    "# Palmtree imports\n",
    "from palmtree import dataset\n",
    "from palmtree import model"
   ]
  },
  {
   "cell_type": "code",
   "execution_count": 4,
   "id": "c46bb2bd",
   "metadata": {
    "executionInfo": {
     "elapsed": 2,
     "status": "ok",
     "timestamp": 1646997827050,
     "user": {
      "displayName": "Fiorella Artuso",
      "photoUrl": "https://lh3.googleusercontent.com/a-/AOh14GjI7BMbitgM7kg91MwWnCqwXuMuekaCgxsQRH2b=s64",
      "userId": "16421204404765857445"
     },
     "user_tz": -60
    },
    "id": "49eb83ea"
   },
   "outputs": [],
   "source": [
    "os.environ[\"CUDA_DEVICE_ORDER\"] = \"PCI_BUS_ID\"\n",
    "os.environ[\"CUDA_VISIBLE_DEVICES\"] = \"0\""
   ]
  },
  {
   "cell_type": "code",
   "execution_count": 5,
   "id": "4223c1f7",
   "metadata": {
    "executionInfo": {
     "elapsed": 3,
     "status": "ok",
     "timestamp": 1646997827260,
     "user": {
      "displayName": "Fiorella Artuso",
      "photoUrl": "https://lh3.googleusercontent.com/a-/AOh14GjI7BMbitgM7kg91MwWnCqwXuMuekaCgxsQRH2b=s64",
      "userId": "16421204404765857445"
     },
     "user_tz": -60
    },
    "id": "5621d793"
   },
   "outputs": [],
   "source": [
    "base_path = \"../../\"\n",
    "model_path = os.path.join(base_path, \"models\", \"pretraining_model\", \"checkpoint-67246\")\n",
    "tokenizer_path = os.path.join(base_path, \"tokenizer\")\n",
    "test_path = os.path.join(base_path, \"datasets\", \"finetuning_dataset\", \"opcode_outlier_detection\", \"instructions_set.csv\")\n",
    "res_path = os.path.join(base_path, \"results\", \"outlier_detection\")\n",
    "\n",
    "num_outlier_sets = 50000\n",
    "num_runs = 10"
   ]
  },
  {
   "cell_type": "code",
   "execution_count": 6,
   "id": "2d738a34",
   "metadata": {
    "executionInfo": {
     "elapsed": 2,
     "status": "ok",
     "timestamp": 1646997828118,
     "user": {
      "displayName": "Fiorella Artuso",
      "photoUrl": "https://lh3.googleusercontent.com/a-/AOh14GjI7BMbitgM7kg91MwWnCqwXuMuekaCgxsQRH2b=s64",
      "userId": "16421204404765857445"
     },
     "user_tz": -60
    },
    "id": "1175b33c"
   },
   "outputs": [],
   "source": [
    "opdcode_types = {\n",
    "    \"data_movement\":      {\"mov\", \"push\", \"pop\", \"cwtl\", \"cltq\", \"cqto\",\"cqtd\"},\n",
    "    \"unary_op\":           {\"inc\", \"dec\", \"neg\", \"not\"},\n",
    "    \"binary_op\":          {\"add\", \"sub\",\"imul\", \"xor\", \"or\", \"and\", \"lea\", \"leaq\"},\n",
    "    \"shift_op\":           {\"sal\", \"sar\", \"shr\", \"shl\"},\n",
    "    \"spacial_arith_op\":   {\"imulq\", \"mulq\", \"idivq\", \"divq\"},\n",
    "    \"comparison_test\":    {\"cmp\", \"test\"},\n",
    "    \"conditional_test\":   {\"sete\", \"setz\", \"setne\", \"setnz\", \"sets\",\"setns\", \"setg\", \n",
    "                           \"setnle\",\"setge\", \"setnl\", \"setl\", \"setnge\",\"setle\", \"setng\", \n",
    "                           \"seta\", \"setnbe\", \"setae\", \"setnb\", \"setbe\", \"setna\"},\n",
    "    \"jump\":               {\"jmp\", \"je\", \"jz\", \"jne\", \"jnz\", \"js\", \"jns\", \"jg\", \"jnle\", \n",
    "                           \"jge\", \"jnl\", \"jl\", \"jnge\", \"jle\", \"jng\", \"ja\", \"jnbe\", \"jae\", \n",
    "                           \"jnb\", \"jb\", \"jnae\", \"jbe\", \"jna\"},\n",
    "    \"conditional_move\":   {\"cmove\", \"cmovz\", \"cmovne\", \"cmovenz\", \"cmovs\", \"cmovns\", \n",
    "                           \"cmovg\", \"cmovnle\", \"cmovge\", \"cmovnl\", \"cmovnge\", \"cmovle\", \n",
    "                           \"cmovng\", \"cmova\", \"cmovnbe\", \"cmovae\", \"cmovnb\", \"cmovb\", \n",
    "                           \"cmovnae\", \"cmovbe\", \"cmovna\"},\n",
    "    \"call_ins\":           {\"call\", \"leave\", \"ret\", \"retn\"},\n",
    "    \"float_point_arith\":  {\"fabs\", \"fadd\", \"faddp\", \"fchs\", \"fdiv\", \"fdivp\", \"fdivr\", \n",
    "                           \"fdivrp\", \"fiadd\", \"fidivr\",\"fimul\", \"fisub\", \"fisubr\", \"fmul\", \n",
    "                           \"fmulp\", \"fprem\", \"fpreml\", \"frndint\", \"fscale\", \"fsqrt\", \n",
    "                           \"fsub\", \"fsubp\", \"fsubr\", \"fsubrp\", \"fxtract\"}\n",
    "}"
   ]
  },
  {
   "cell_type": "code",
   "execution_count": 8,
   "id": "303713bb",
   "metadata": {
    "executionInfo": {
     "elapsed": 3,
     "status": "ok",
     "timestamp": 1646997828119,
     "user": {
      "displayName": "Fiorella Artuso",
      "photoUrl": "https://lh3.googleusercontent.com/a-/AOh14GjI7BMbitgM7kg91MwWnCqwXuMuekaCgxsQRH2b=s64",
      "userId": "16421204404765857445"
     },
     "user_tz": -60
    },
    "id": "8467f4b2",
    "tags": []
   },
   "outputs": [],
   "source": [
    "def split_instructions_by_opcode_type(instruction_set):\n",
    "    splitted_instructions = {}\n",
    "    pbar = tqdm(instruction_set)\n",
    "    pbar.set_description(\"Splitting Instructions by Opcode Type\")\n",
    "    for ins in pbar:\n",
    "        # mnemonic = ins.split(\" \")[0].strip().lower()\n",
    "        mnemonic = instruction_set[ins].split(\" \")[-1].strip().lower()\n",
    "        for op_type in opdcode_types:\n",
    "            if mnemonic in opdcode_types[op_type]:\n",
    "                if op_type in splitted_instructions:\n",
    "                    splitted_instructions[op_type].append(ins)\n",
    "                else:\n",
    "                    splitted_instructions[op_type] = [ins]\n",
    "    return splitted_instructions\n",
    "\n",
    "def split_instructions_by_operands_type(instruction_dict):\n",
    "    splitted_instructions = {}\n",
    "    pbar = tqdm(instruction_dict)\n",
    "    pbar.set_description(\"Splitting Instructions by Operands Type\")\n",
    "    for instruction in pbar:\n",
    "        op_type = instruction_dict[instruction]\n",
    "        if op_type == \"not-supported\":\n",
    "          continue\n",
    "        if op_type in splitted_instructions:\n",
    "            splitted_instructions[op_type].append(instruction)\n",
    "        else:\n",
    "            splitted_instructions[op_type] = [instruction]\n",
    "    return splitted_instructions        \n",
    "\n",
    "def create_outlier_detection_sets(instructions, num_sets, task):\n",
    "\n",
    "    random.seed(datetime.now())\n",
    "    \n",
    "    if task == \"opcode_outlier\":\n",
    "        splitted_instructions = split_instructions_by_opcode_type(instructions)\n",
    "    elif task == \"operands_outlier\":\n",
    "        splitted_instructions = split_instructions_by_operands_type(instructions)\n",
    "    else:\n",
    "        raise ValueError(\"Not supported Task\")\n",
    "        \n",
    "    arr = list(splitted_instructions.keys())\n",
    "    instruction_types = (arr * num_sets)[:num_sets]\n",
    "    outlier_detection_sets = []\n",
    "    pbar = tqdm(instruction_types)\n",
    "    pbar.set_description(\"Creating Outlier Sets\")\n",
    "    for elem in pbar:\n",
    "        instructions = splitted_instructions[elem]\n",
    "        current_set = random.sample(instructions,4)\n",
    "        type_outlier_list = set(instruction_types).difference(set([elem]))\n",
    "        outlier_type = random.sample(type_outlier_list,1)[0]\n",
    "        outlier_instructions = splitted_instructions[outlier_type]\n",
    "        current_set.append(random.sample(outlier_instructions,1)[0])\n",
    "        outlier_detection_sets.append(current_set)\n",
    "\n",
    "    return outlier_detection_sets"
   ]
  },
  {
   "cell_type": "code",
   "execution_count": 9,
   "id": "c72f52b6",
   "metadata": {
    "executionInfo": {
     "elapsed": 2,
     "status": "ok",
     "timestamp": 1646997828402,
     "user": {
      "displayName": "Fiorella Artuso",
      "photoUrl": "https://lh3.googleusercontent.com/a-/AOh14GjI7BMbitgM7kg91MwWnCqwXuMuekaCgxsQRH2b=s64",
      "userId": "16421204404765857445"
     },
     "user_tz": -60
    },
    "id": "2c2f57e5"
   },
   "outputs": [],
   "source": [
    "def load_binbert_model(tokenizer_path, best_checkpoint):\n",
    "    \n",
    "    print(\"Loading Tokenizer ->\", tokenizer_path)\n",
    "    tokenizer =  BertTokenizerFast.from_pretrained(tokenizer_path)\n",
    "    \n",
    "    model = BertModel.from_pretrained(best_checkpoint, output_hidden_states=True)\n",
    "\n",
    "    model.to(\"cuda\")\n",
    "    model.eval()\n",
    "\n",
    "    return tokenizer,model"
   ]
  },
  {
   "cell_type": "code",
   "execution_count": 11,
   "id": "a1a9e32f",
   "metadata": {
    "executionInfo": {
     "elapsed": 3,
     "status": "ok",
     "timestamp": 1646997829298,
     "user": {
      "displayName": "Fiorella Artuso",
      "photoUrl": "https://lh3.googleusercontent.com/a-/AOh14GjI7BMbitgM7kg91MwWnCqwXuMuekaCgxsQRH2b=s64",
      "userId": "16421204404765857445"
     },
     "user_tz": -60
    },
    "id": "ltWCm1fzLRdW"
   },
   "outputs": [],
   "source": [
    "def binbert_batch_embeddings(all_batch_instructions, tokenizer, model):\n",
    "\n",
    "  tokenized_instructions = tokenizer(all_batch_instructions, padding=True, truncation=True, max_length=512, return_tensors=\"pt\")\n",
    "  tokenized_instructions[\"input_ids\"] = tokenized_instructions[\"input_ids\"].to(\"cuda\")\n",
    "  tokenized_instructions[\"token_type_ids\"] = tokenized_instructions[\"token_type_ids\"].to(\"cuda\")\n",
    "  tokenized_instructions[\"attention_mask\"] = tokenized_instructions[\"attention_mask\"].to(\"cuda\")\n",
    "  masks = tokenized_instructions[\"attention_mask\"]\n",
    "\n",
    "  with torch.no_grad():\n",
    "    outputs = model(**tokenized_instructions)\n",
    "    layers_hidden_states = outputs.hidden_states\n",
    "\n",
    "  return layers_hidden_states, masks"
   ]
  },
  {
   "cell_type": "code",
   "execution_count": 14,
   "id": "860588a1",
   "metadata": {
    "executionInfo": {
     "elapsed": 3,
     "status": "ok",
     "timestamp": 1646997830541,
     "user": {
      "displayName": "Fiorella Artuso",
      "photoUrl": "https://lh3.googleusercontent.com/a-/AOh14GjI7BMbitgM7kg91MwWnCqwXuMuekaCgxsQRH2b=s64",
      "userId": "16421204404765857445"
     },
     "user_tz": -60
    },
    "id": "c1cfbf8a"
   },
   "outputs": [],
   "source": [
    "def outlier_detector(tokenizer, model, outlier_sets, set_batch_size, batch_embedding_function, num_hidden_layers, precomputed=False):\n",
    "\n",
    "    cos = torch.nn.CosineSimilarity(dim=0, eps=1e-6)\n",
    "\n",
    "    detected = [0] * num_hidden_layers\n",
    "    total = [0] * num_hidden_layers\n",
    "    percentage = [0] * num_hidden_layers\n",
    "\n",
    "    pbar = tqdm(list(range(len(outlier_sets)))[::set_batch_size])\n",
    "\n",
    "    for i in pbar:\n",
    "\n",
    "        batch_set = outlier_sets[i:i+set_batch_size]\n",
    "        all_batch_instructions = [instr for instr_set in batch_set for instr in instr_set]\n",
    "        \n",
    "        if not precomputed:\n",
    "            layers_hidden_states, masks = batch_embedding_function(all_batch_instructions, tokenizer, model)\n",
    "        else:\n",
    "            layers_hidden_states, masks = batch_embedding_function(all_batch_instructions, model)\n",
    "\n",
    "        for l in range(0, num_hidden_layers):\n",
    "            \n",
    "            hidden_states = layers_hidden_states[l]\n",
    "\n",
    "            for split_num, out_set in enumerate(torch.split(hidden_states, 5)):\n",
    "                \n",
    "                if masks is not None:\n",
    "                    mask = masks[split_num*5:split_num*5+5]\n",
    "                    denom = torch.sum(mask, -1, keepdim=True)\n",
    "                    set_instructions_emb = torch.sum(out_set * mask.unsqueeze(-1), dim=1) / denom\n",
    "                else:\n",
    "                    set_instructions_emb = out_set\n",
    "                \n",
    "                emb_norm = set_instructions_emb/set_instructions_emb.norm(dim=1)[:, None]\n",
    "                cos_sim = torch.mm(emb_norm, emb_norm.transpose(0,1))\n",
    "                prova = cos(set_instructions_emb[0], set_instructions_emb[0])\n",
    "                outlier = cos_sim.sum(1).min(dim=0)[1]\n",
    "\n",
    "                if outlier == 4:\n",
    "                    detected[l] += 1\n",
    "                total[l] += 1\n",
    "                percentage[l] = round(detected[l] / total[l], 4)\n",
    "\n",
    "        pbar.set_description(\" | \".join([f\"Layer {i}: {p}\" for i,p in enumerate(percentage)]))\n",
    "\n",
    "        # Free Gpu Memory\n",
    "        torch.cuda.empty_cache()\n",
    "\n",
    "    return percentage"
   ]
  },
  {
   "cell_type": "code",
   "execution_count": 15,
   "id": "6d772314",
   "metadata": {
    "executionInfo": {
     "elapsed": 2,
     "status": "ok",
     "timestamp": 1646997830868,
     "user": {
      "displayName": "Fiorella Artuso",
      "photoUrl": "https://lh3.googleusercontent.com/a-/AOh14GjI7BMbitgM7kg91MwWnCqwXuMuekaCgxsQRH2b=s64",
      "userId": "16421204404765857445"
     },
     "user_tz": -60
    },
    "id": "KRZfaMOyjd52"
   },
   "outputs": [],
   "source": [
    "def save_res_table(mean, std, res_path, task):\n",
    "\n",
    "  res_path = os.path.join(res_path, task)\n",
    "  os.makedirs(res_path, exist_ok=True)\n",
    "  res_filename = os.path.join(res_path, f\"{checkpoint}.png\")\n",
    "\n",
    "  res = np.transpose([mean, std])\n",
    "  df = pd.DataFrame(res, columns=[\"mean\", \"std\"])\n",
    "\n",
    "  fig, ax = plt.subplots()\n",
    "  fig.patch.set_visible(False)\n",
    "  ax.axis('off')\n",
    "  ax.axis('tight')\n",
    "  ax.table(cellText=df.values, colLabels=df.columns, loc='center')\n",
    "  fig.tight_layout()\n",
    "  plt.savefig(res_filename, dpi=100)\n",
    "\n",
    "  plt.close(fig)\n",
    "\n",
    "  return df"
   ]
  },
  {
   "cell_type": "code",
   "execution_count": 17,
   "id": "80bb8835",
   "metadata": {
    "executionInfo": {
     "elapsed": 3,
     "status": "ok",
     "timestamp": 1646997831699,
     "user": {
      "displayName": "Fiorella Artuso",
      "photoUrl": "https://lh3.googleusercontent.com/a-/AOh14GjI7BMbitgM7kg91MwWnCqwXuMuekaCgxsQRH2b=s64",
      "userId": "16421204404765857445"
     },
     "user_tz": -60
    },
    "id": "b_Krhm77RO6s"
   },
   "outputs": [],
   "source": [
    "def binbert_outlier_detection(test_pd, tokenizer_path, model_path, num_outlier_sets, res_path, set_batch_size=64, num_runs=10, opcode=True, operand=True):\n",
    "\n",
    "  vocab, model = load_binbert_model(tokenizer_path, model_path)\n",
    "  \n",
    "  if opcode:\n",
    "      # Test for Opcode Outlier Detection\n",
    "      runs_res = []\n",
    "      # instruction_set = test_pd[\"olivetree_ins\"].values\n",
    "      instruction_set = {ins: op_type for ins, op_type in test_pd[[\"olivetree_ins\", \"mnemonic\"]].values}\n",
    "\n",
    "      for i in range(0, num_runs):\n",
    "        print(f\"-- RUN {i} --\")\n",
    "        opcode_outlier_sets = create_outlier_detection_sets(instruction_set, num_outlier_sets, \"opcode_outlier\")\n",
    "        per_layer_percentages = outlier_detector(vocab, model, opcode_outlier_sets, set_batch_size, binbert_batch_embeddings, model.config.num_hidden_layers + 1)\n",
    "        runs_res.append(per_layer_percentages)\n",
    "\n",
    "      mean = np.mean(runs_res, axis=0)\n",
    "      std = np.std(runs_res, axis=0)\n",
    "      df = save_res_table(mean, std, res_path, \"opcode_outlier\")\n",
    "      print(f\"- Results For {num_runs} Runs -\")\n",
    "      print(df)\n",
    "\n",
    "  if operand:\n",
    "      # Test for Operand Outlier Detection\n",
    "      runs_res = []\n",
    "      instruction_dict = {ins: op_type for ins, op_type in test_pd[[\"olivetree_ins\", \"op_types\"]].values}\n",
    "\n",
    "      for i in range(0, num_runs):\n",
    "        print(f\"-- RUN {i} --\")\n",
    "        operand_outlier_sets = create_outlier_detection_sets(instruction_dict, num_outlier_sets, \"operands_outlier\")\n",
    "        per_layer_percentages = outlier_detector(vocab, model, operand_outlier_sets, set_batch_size, binbert_batch_embeddings, model.config.num_hidden_layers + 1)\n",
    "        runs_res.append(per_layer_percentages)\n",
    "\n",
    "      mean = np.mean(runs_res, axis=0)\n",
    "      std = np.std(runs_res, axis=0)\n",
    "      df = save_res_table(mean, std, res_path, \"operands_outlier\")\n",
    "      print(f\"- Results For {num_runs} Runs -\")\n",
    "      print(df)"
   ]
  },
  {
   "cell_type": "code",
   "execution_count": 20,
   "id": "b3d43e0d",
   "metadata": {
    "colab": {
     "base_uri": "https://localhost:8080/"
    },
    "id": "6xBN8vTBRrEu",
    "outputId": "42439fb1-62de-4cc7-b7a0-7f5a2c28c97a"
   },
   "outputs": [
    {
     "name": "stdout",
     "output_type": "stream",
     "text": [
      "######## TESTING OLIVETREE ######## \n",
      "Loading Tokenizer -> /home/jovyan/work/olivetree/final_for_paper/tokenizer\n"
     ]
    },
    {
     "name": "stderr",
     "output_type": "stream",
     "text": [
      "Some weights of the model checkpoint at /home/jovyan/work/olivetree/final_for_paper/models/masked_language_model_only_bert_normal_mask30/checkpoint-95846 were not used when initializing BertModel: ['cls.predictions.transform.LayerNorm.weight', 'cls.predictions.transform.dense.weight', 'cls.predictions.transform.dense.bias', 'cls.predictions.decoder.bias', 'cls.predictions.decoder.weight', 'cls.predictions.bias', 'cls.predictions.transform.LayerNorm.bias']\n",
      "- This IS expected if you are initializing BertModel from the checkpoint of a model trained on another task or with another architecture (e.g. initializing a BertForSequenceClassification model from a BertForPreTraining model).\n",
      "- This IS NOT expected if you are initializing BertModel from the checkpoint of a model that you expect to be exactly identical (initializing a BertForSequenceClassification model from a BertForSequenceClassification model).\n",
      "Some weights of BertModel were not initialized from the model checkpoint at /home/jovyan/work/olivetree/final_for_paper/models/masked_language_model_only_bert_normal_mask30/checkpoint-95846 and are newly initialized: ['bert.pooler.dense.bias', 'bert.pooler.dense.weight']\n",
      "You should probably TRAIN this model on a down-stream task to be able to use it for predictions and inference.\n"
     ]
    },
    {
     "name": "stdout",
     "output_type": "stream",
     "text": [
      "-- RUN 0 --\n"
     ]
    },
    {
     "name": "stderr",
     "output_type": "stream",
     "text": [
      "Splitting Instructions by Opcode Type: 100%|██████████| 43618/43618 [00:00<00:00, 714556.37it/s]\n",
      "Creating Outlier Sets: 100%|██████████| 50000/50000 [00:20<00:00, 2412.78it/s]\n",
      "Layer 0: 0.6858 | Layer 1: 0.7441 | Layer 2: 0.7482 | Layer 3: 0.7908 | Layer 4: 0.7783 | Layer 5: 0.7837 | Layer 6: 0.7732 | Layer 7: 0.7766 | Layer 8: 0.7436 | Layer 9: 0.7205 | Layer 10: 0.7182 | Layer 11: 0.7158 | Layer 12: 0.7252: 100%|██████████| 98/98 [03:23<00:00,  2.08s/it]\n"
     ]
    },
    {
     "name": "stdout",
     "output_type": "stream",
     "text": [
      "-- RUN 1 --\n"
     ]
    },
    {
     "name": "stderr",
     "output_type": "stream",
     "text": [
      "Splitting Instructions by Opcode Type: 100%|██████████| 43618/43618 [00:00<00:00, 677767.80it/s]\n",
      "Creating Outlier Sets: 100%|██████████| 50000/50000 [00:20<00:00, 2411.16it/s]\n",
      "Layer 0: 0.689 | Layer 1: 0.7466 | Layer 2: 0.7488 | Layer 3: 0.7902 | Layer 4: 0.7818 | Layer 5: 0.784 | Layer 6: 0.7748 | Layer 7: 0.7762 | Layer 8: 0.7432 | Layer 9: 0.7231 | Layer 10: 0.7214 | Layer 11: 0.7205 | Layer 12: 0.7291: 100%|██████████| 98/98 [03:24<00:00,  2.08s/it]  \n"
     ]
    },
    {
     "name": "stdout",
     "output_type": "stream",
     "text": [
      "-- RUN 2 --\n"
     ]
    },
    {
     "name": "stderr",
     "output_type": "stream",
     "text": [
      "Splitting Instructions by Opcode Type: 100%|██████████| 43618/43618 [00:00<00:00, 659811.13it/s]\n",
      "Creating Outlier Sets: 100%|██████████| 50000/50000 [00:20<00:00, 2404.13it/s]\n",
      "Layer 0: 0.6866 | Layer 1: 0.7454 | Layer 2: 0.7481 | Layer 3: 0.791 | Layer 4: 0.7793 | Layer 5: 0.7838 | Layer 6: 0.774 | Layer 7: 0.7773 | Layer 8: 0.7448 | Layer 9: 0.7232 | Layer 10: 0.7218 | Layer 11: 0.7215 | Layer 12: 0.7256: 100%|██████████| 98/98 [03:25<00:00,  2.09s/it]  \n"
     ]
    },
    {
     "name": "stdout",
     "output_type": "stream",
     "text": [
      "-- RUN 3 --\n"
     ]
    },
    {
     "name": "stderr",
     "output_type": "stream",
     "text": [
      "Splitting Instructions by Opcode Type: 100%|██████████| 43618/43618 [00:00<00:00, 675542.91it/s]\n",
      "Creating Outlier Sets: 100%|██████████| 50000/50000 [00:20<00:00, 2404.43it/s]\n",
      "Layer 0: 0.6904 | Layer 1: 0.7469 | Layer 2: 0.7487 | Layer 3: 0.7917 | Layer 4: 0.7809 | Layer 5: 0.7857 | Layer 6: 0.7738 | Layer 7: 0.7786 | Layer 8: 0.7438 | Layer 9: 0.7223 | Layer 10: 0.7194 | Layer 11: 0.7191 | Layer 12: 0.7283: 100%|██████████| 98/98 [03:23<00:00,  2.08s/it]\n"
     ]
    },
    {
     "name": "stdout",
     "output_type": "stream",
     "text": [
      "-- RUN 4 --\n"
     ]
    },
    {
     "name": "stderr",
     "output_type": "stream",
     "text": [
      "Splitting Instructions by Opcode Type: 100%|██████████| 43618/43618 [00:00<00:00, 652569.30it/s]\n",
      "Creating Outlier Sets: 100%|██████████| 50000/50000 [00:20<00:00, 2414.80it/s]\n",
      "Layer 0: 0.6866 | Layer 1: 0.7437 | Layer 2: 0.7472 | Layer 3: 0.7897 | Layer 4: 0.7769 | Layer 5: 0.7811 | Layer 6: 0.7722 | Layer 7: 0.7736 | Layer 8: 0.7422 | Layer 9: 0.721 | Layer 10: 0.718 | Layer 11: 0.7176 | Layer 12: 0.7268: 100%|██████████| 98/98 [03:24<00:00,  2.08s/it]  \n"
     ]
    },
    {
     "name": "stdout",
     "output_type": "stream",
     "text": [
      "-- RUN 5 --\n"
     ]
    },
    {
     "name": "stderr",
     "output_type": "stream",
     "text": [
      "Splitting Instructions by Opcode Type: 100%|██████████| 43618/43618 [00:00<00:00, 680809.59it/s]\n",
      "Creating Outlier Sets: 100%|██████████| 50000/50000 [00:20<00:00, 2415.03it/s]\n",
      "Layer 0: 0.6852 | Layer 1: 0.7424 | Layer 2: 0.7459 | Layer 3: 0.788 | Layer 4: 0.7776 | Layer 5: 0.7829 | Layer 6: 0.7727 | Layer 7: 0.7762 | Layer 8: 0.7435 | Layer 9: 0.7223 | Layer 10: 0.7189 | Layer 11: 0.7201 | Layer 12: 0.7282: 100%|██████████| 98/98 [03:23<00:00,  2.08s/it] \n"
     ]
    },
    {
     "name": "stdout",
     "output_type": "stream",
     "text": [
      "-- RUN 6 --\n"
     ]
    },
    {
     "name": "stderr",
     "output_type": "stream",
     "text": [
      "Splitting Instructions by Opcode Type: 100%|██████████| 43618/43618 [00:00<00:00, 545453.10it/s]\n",
      "Creating Outlier Sets: 100%|██████████| 50000/50000 [00:20<00:00, 2409.91it/s]\n",
      "Layer 0: 0.6876 | Layer 1: 0.7464 | Layer 2: 0.7495 | Layer 3: 0.7913 | Layer 4: 0.7804 | Layer 5: 0.7849 | Layer 6: 0.7752 | Layer 7: 0.7786 | Layer 8: 0.7456 | Layer 9: 0.722 | Layer 10: 0.7178 | Layer 11: 0.7185 | Layer 12: 0.7281: 100%|██████████| 98/98 [03:23<00:00,  2.08s/it] \n"
     ]
    },
    {
     "name": "stdout",
     "output_type": "stream",
     "text": [
      "-- RUN 7 --\n"
     ]
    },
    {
     "name": "stderr",
     "output_type": "stream",
     "text": [
      "Splitting Instructions by Opcode Type: 100%|██████████| 43618/43618 [00:00<00:00, 675752.51it/s]\n",
      "Creating Outlier Sets: 100%|██████████| 50000/50000 [00:20<00:00, 2401.71it/s]\n",
      "Layer 0: 0.686 | Layer 1: 0.7443 | Layer 2: 0.7488 | Layer 3: 0.7895 | Layer 4: 0.7786 | Layer 5: 0.7837 | Layer 6: 0.7742 | Layer 7: 0.7774 | Layer 8: 0.7426 | Layer 9: 0.7215 | Layer 10: 0.7188 | Layer 11: 0.7206 | Layer 12: 0.73: 100%|██████████| 98/98 [03:24<00:00,  2.08s/it]   \n"
     ]
    },
    {
     "name": "stdout",
     "output_type": "stream",
     "text": [
      "-- RUN 8 --\n"
     ]
    },
    {
     "name": "stderr",
     "output_type": "stream",
     "text": [
      "Splitting Instructions by Opcode Type: 100%|██████████| 43618/43618 [00:00<00:00, 611740.63it/s]\n",
      "Creating Outlier Sets: 100%|██████████| 50000/50000 [00:20<00:00, 2416.92it/s]\n",
      "Layer 0: 0.6886 | Layer 1: 0.7461 | Layer 2: 0.7487 | Layer 3: 0.7902 | Layer 4: 0.7799 | Layer 5: 0.7826 | Layer 6: 0.7739 | Layer 7: 0.7754 | Layer 8: 0.7427 | Layer 9: 0.7205 | Layer 10: 0.7182 | Layer 11: 0.7188 | Layer 12: 0.7276: 100%|██████████| 98/98 [03:25<00:00,  2.09s/it]\n"
     ]
    },
    {
     "name": "stdout",
     "output_type": "stream",
     "text": [
      "-- RUN 9 --\n"
     ]
    },
    {
     "name": "stderr",
     "output_type": "stream",
     "text": [
      "Splitting Instructions by Opcode Type: 100%|██████████| 43618/43618 [00:00<00:00, 678846.71it/s]\n",
      "Creating Outlier Sets: 100%|██████████| 50000/50000 [00:20<00:00, 2421.05it/s]\n",
      "Layer 0: 0.6863 | Layer 1: 0.7447 | Layer 2: 0.7484 | Layer 3: 0.791 | Layer 4: 0.7793 | Layer 5: 0.7838 | Layer 6: 0.7744 | Layer 7: 0.7759 | Layer 8: 0.7448 | Layer 9: 0.7228 | Layer 10: 0.7188 | Layer 11: 0.7171 | Layer 12: 0.7267: 100%|██████████| 98/98 [03:24<00:00,  2.08s/it] \n"
     ]
    },
    {
     "name": "stdout",
     "output_type": "stream",
     "text": [
      "- Results For 10 Runs -\n",
      "       mean       std\n",
      "0   0.68721  0.001566\n",
      "1   0.74506  0.001389\n",
      "2   0.74823  0.000961\n",
      "3   0.79034  0.001024\n",
      "4   0.77930  0.001432\n",
      "5   0.78362  0.001187\n",
      "6   0.77384  0.000874\n",
      "7   0.77658  0.001427\n",
      "8   0.74368  0.001039\n",
      "9   0.72192  0.000957\n",
      "10  0.71913  0.001319\n",
      "11  0.71896  0.001684\n",
      "12  0.72756  0.001425\n",
      "-- RUN 0 --\n"
     ]
    },
    {
     "name": "stderr",
     "output_type": "stream",
     "text": [
      "Splitting Instructions by Operands Type: 100%|██████████| 43618/43618 [00:00<00:00, 2204527.84it/s]\n",
      "Creating Outlier Sets: 100%|██████████| 50000/50000 [00:20<00:00, 2399.25it/s]\n",
      "Layer 0: 0.8912 | Layer 1: 0.881 | Layer 2: 0.865 | Layer 3: 0.8502 | Layer 4: 0.8596 | Layer 5: 0.8482 | Layer 6: 0.8337 | Layer 7: 0.8467 | Layer 8: 0.8406 | Layer 9: 0.8245 | Layer 10: 0.7883 | Layer 11: 0.7489 | Layer 12: 0.7525: 100%|██████████| 98/98 [03:24<00:00,  2.08s/it]  \n"
     ]
    },
    {
     "name": "stdout",
     "output_type": "stream",
     "text": [
      "-- RUN 1 --\n"
     ]
    },
    {
     "name": "stderr",
     "output_type": "stream",
     "text": [
      "Splitting Instructions by Operands Type: 100%|██████████| 43618/43618 [00:00<00:00, 2058708.74it/s]\n",
      "Creating Outlier Sets: 100%|██████████| 50000/50000 [00:20<00:00, 2422.32it/s]\n",
      "Layer 0: 0.8924 | Layer 1: 0.884 | Layer 2: 0.8685 | Layer 3: 0.8526 | Layer 4: 0.8616 | Layer 5: 0.8486 | Layer 6: 0.8332 | Layer 7: 0.8463 | Layer 8: 0.8401 | Layer 9: 0.8243 | Layer 10: 0.7864 | Layer 11: 0.7472 | Layer 12: 0.7543: 100%|██████████| 98/98 [03:23<00:00,  2.08s/it] \n"
     ]
    },
    {
     "name": "stdout",
     "output_type": "stream",
     "text": [
      "-- RUN 2 --\n"
     ]
    },
    {
     "name": "stderr",
     "output_type": "stream",
     "text": [
      "Splitting Instructions by Operands Type: 100%|██████████| 43618/43618 [00:00<00:00, 2054293.39it/s]\n",
      "Creating Outlier Sets: 100%|██████████| 50000/50000 [00:20<00:00, 2412.62it/s]\n",
      "Layer 0: 0.8896 | Layer 1: 0.8798 | Layer 2: 0.8673 | Layer 3: 0.8507 | Layer 4: 0.8593 | Layer 5: 0.8486 | Layer 6: 0.832 | Layer 7: 0.8453 | Layer 8: 0.8397 | Layer 9: 0.8233 | Layer 10: 0.7874 | Layer 11: 0.747 | Layer 12: 0.7541: 100%|██████████| 98/98 [03:24<00:00,  2.09s/it]  \n"
     ]
    },
    {
     "name": "stdout",
     "output_type": "stream",
     "text": [
      "-- RUN 3 --\n"
     ]
    },
    {
     "name": "stderr",
     "output_type": "stream",
     "text": [
      "Splitting Instructions by Operands Type: 100%|██████████| 43618/43618 [00:00<00:00, 2023908.40it/s]\n",
      "Creating Outlier Sets: 100%|██████████| 50000/50000 [00:20<00:00, 2411.79it/s]\n",
      "Layer 0: 0.8948 | Layer 1: 0.885 | Layer 2: 0.8693 | Layer 3: 0.8551 | Layer 4: 0.862 | Layer 5: 0.8534 | Layer 6: 0.8362 | Layer 7: 0.8505 | Layer 8: 0.8429 | Layer 9: 0.8259 | Layer 10: 0.791 | Layer 11: 0.7507 | Layer 12: 0.7551: 100%|██████████| 98/98 [03:24<00:00,  2.09s/it]   \n"
     ]
    },
    {
     "name": "stdout",
     "output_type": "stream",
     "text": [
      "-- RUN 4 --\n"
     ]
    },
    {
     "name": "stderr",
     "output_type": "stream",
     "text": [
      "Splitting Instructions by Operands Type: 100%|██████████| 43618/43618 [00:00<00:00, 2011911.67it/s]\n",
      "Creating Outlier Sets: 100%|██████████| 50000/50000 [00:20<00:00, 2403.79it/s]\n",
      "Layer 0: 0.8896 | Layer 1: 0.8816 | Layer 2: 0.8682 | Layer 3: 0.8514 | Layer 4: 0.8583 | Layer 5: 0.8487 | Layer 6: 0.8328 | Layer 7: 0.847 | Layer 8: 0.8404 | Layer 9: 0.8255 | Layer 10: 0.788 | Layer 11: 0.7461 | Layer 12: 0.7522: 100%|██████████| 98/98 [03:24<00:00,  2.09s/it]  \n"
     ]
    },
    {
     "name": "stdout",
     "output_type": "stream",
     "text": [
      "-- RUN 5 --\n"
     ]
    },
    {
     "name": "stderr",
     "output_type": "stream",
     "text": [
      "Splitting Instructions by Operands Type: 100%|██████████| 43618/43618 [00:00<00:00, 2075901.82it/s]\n",
      "Creating Outlier Sets: 100%|██████████| 50000/50000 [00:20<00:00, 2409.08it/s]\n",
      "Layer 0: 0.8923 | Layer 1: 0.8815 | Layer 2: 0.8692 | Layer 3: 0.8537 | Layer 4: 0.859 | Layer 5: 0.8478 | Layer 6: 0.8335 | Layer 7: 0.8448 | Layer 8: 0.8399 | Layer 9: 0.8241 | Layer 10: 0.7866 | Layer 11: 0.7437 | Layer 12: 0.7529: 100%|██████████| 98/98 [03:24<00:00,  2.09s/it] \n"
     ]
    },
    {
     "name": "stdout",
     "output_type": "stream",
     "text": [
      "-- RUN 6 --\n"
     ]
    },
    {
     "name": "stderr",
     "output_type": "stream",
     "text": [
      "Splitting Instructions by Operands Type: 100%|██████████| 43618/43618 [00:00<00:00, 2008620.37it/s]\n",
      "Creating Outlier Sets: 100%|██████████| 50000/50000 [00:20<00:00, 2411.16it/s]\n",
      "Layer 0: 0.8884 | Layer 1: 0.8782 | Layer 2: 0.8652 | Layer 3: 0.8498 | Layer 4: 0.8598 | Layer 5: 0.8485 | Layer 6: 0.831 | Layer 7: 0.8449 | Layer 8: 0.839 | Layer 9: 0.8236 | Layer 10: 0.7879 | Layer 11: 0.7469 | Layer 12: 0.7507: 100%|██████████| 98/98 [03:24<00:00,  2.09s/it]  \n"
     ]
    },
    {
     "name": "stdout",
     "output_type": "stream",
     "text": [
      "-- RUN 7 --\n"
     ]
    },
    {
     "name": "stderr",
     "output_type": "stream",
     "text": [
      "Splitting Instructions by Operands Type: 100%|██████████| 43618/43618 [00:00<00:00, 2042026.01it/s]\n",
      "Creating Outlier Sets: 100%|██████████| 50000/50000 [00:20<00:00, 2427.27it/s]\n",
      "Layer 0: 0.8927 | Layer 1: 0.8841 | Layer 2: 0.8683 | Layer 3: 0.8526 | Layer 4: 0.861 | Layer 5: 0.8495 | Layer 6: 0.8343 | Layer 7: 0.8489 | Layer 8: 0.8426 | Layer 9: 0.8258 | Layer 10: 0.7877 | Layer 11: 0.7445 | Layer 12: 0.7523: 100%|██████████| 98/98 [03:24<00:00,  2.09s/it] \n"
     ]
    },
    {
     "name": "stdout",
     "output_type": "stream",
     "text": [
      "-- RUN 8 --\n"
     ]
    },
    {
     "name": "stderr",
     "output_type": "stream",
     "text": [
      "Splitting Instructions by Operands Type: 100%|██████████| 43618/43618 [00:00<00:00, 2104171.05it/s]\n",
      "Creating Outlier Sets: 100%|██████████| 50000/50000 [00:20<00:00, 2412.66it/s]\n",
      "Layer 0: 0.8921 | Layer 1: 0.8823 | Layer 2: 0.8678 | Layer 3: 0.8527 | Layer 4: 0.8601 | Layer 5: 0.8482 | Layer 6: 0.8342 | Layer 7: 0.8462 | Layer 8: 0.8409 | Layer 9: 0.8242 | Layer 10: 0.7878 | Layer 11: 0.7462 | Layer 12: 0.7529: 100%|██████████| 98/98 [03:24<00:00,  2.09s/it]\n"
     ]
    },
    {
     "name": "stdout",
     "output_type": "stream",
     "text": [
      "-- RUN 9 --\n"
     ]
    },
    {
     "name": "stderr",
     "output_type": "stream",
     "text": [
      "Splitting Instructions by Operands Type: 100%|██████████| 43618/43618 [00:00<00:00, 1970946.02it/s]\n",
      "Creating Outlier Sets: 100%|██████████| 50000/50000 [00:20<00:00, 2399.66it/s]\n",
      "Layer 0: 0.8905 | Layer 1: 0.8801 | Layer 2: 0.8665 | Layer 3: 0.8508 | Layer 4: 0.8577 | Layer 5: 0.8497 | Layer 6: 0.8351 | Layer 7: 0.8487 | Layer 8: 0.8414 | Layer 9: 0.8261 | Layer 10: 0.788 | Layer 11: 0.7474 | Layer 12: 0.7537: 100%|██████████| 98/98 [03:24<00:00,  2.09s/it] \n"
     ]
    },
    {
     "name": "stdout",
     "output_type": "stream",
     "text": [
      "- Results For 10 Runs -\n",
      "       mean       std\n",
      "0   0.89136  0.001785\n",
      "1   0.88176  0.002030\n",
      "2   0.86753  0.001446\n",
      "3   0.85196  0.001589\n",
      "4   0.85984  0.001311\n",
      "5   0.84912  0.001528\n",
      "6   0.83360  0.001414\n",
      "7   0.84693  0.001791\n",
      "8   0.84075  0.001181\n",
      "9   0.82473  0.000960\n",
      "10  0.78791  0.001184\n",
      "11  0.74686  0.001895\n",
      "12  0.75307  0.001202\n"
     ]
    }
   ],
   "source": [
    "print(\"######## TESTING BinBert ######## \")\n",
    "test_pd = pd.read_csv(test_path, sep=\"\\t\")\n",
    "binbert_outlier_detection(test_pd, tokenizer_path, model_path, num_outlier_sets, res_path, set_batch_size = 512, num_runs = num_runs)"
   ]
  },
  {
   "cell_type": "code",
   "execution_count": null,
   "id": "cd86536b",
   "metadata": {},
   "outputs": [],
   "source": []
  }
 ],
 "metadata": {
  "accelerator": "GPU",
  "colab": {
   "collapsed_sections": [],
   "name": "outlier_detection.ipynb",
   "provenance": []
  },
  "kernelspec": {
   "display_name": "Python 3 (ipykernel)",
   "language": "python",
   "name": "python3"
  },
  "language_info": {
   "codemirror_mode": {
    "name": "ipython",
    "version": 3
   },
   "file_extension": ".py",
   "mimetype": "text/x-python",
   "name": "python",
   "nbconvert_exporter": "python",
   "pygments_lexer": "ipython3",
   "version": "3.8.12"
  }
 },
 "nbformat": 4,
 "nbformat_minor": 5
}