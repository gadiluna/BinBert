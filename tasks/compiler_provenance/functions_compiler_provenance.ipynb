{
 "cells": [
  {
   "cell_type": "code",
   "execution_count": 1,
   "id": "8b43d06f",
   "metadata": {
    "executionInfo": {
     "elapsed": 4864,
     "status": "ok",
     "timestamp": 1647423034663,
     "user": {
      "displayName": "Fiorella Artuso",
      "photoUrl": "https://lh3.googleusercontent.com/a-/AOh14GjI7BMbitgM7kg91MwWnCqwXuMuekaCgxsQRH2b=s64",
      "userId": "16421204404765857445"
     },
     "user_tz": -60
    },
    "id": "b0c12784"
   },
   "outputs": [
    {
     "name": "stderr",
     "output_type": "stream",
     "text": [
      "2022-05-13 12:35:24.992299: I tensorflow/stream_executor/platform/default/dso_loader.cc:49] Successfully opened dynamic library libcudart.so.11.0\n",
      "`fused_weight_gradient_mlp_cuda` module not found. gradient accumulation fusion with weight gradient computation disabled.\n"
     ]
    }
   ],
   "source": [
    "# General imports\n",
    "import os\n",
    "import random\n",
    "import math\n",
    "import itertools\n",
    "import pandas as pd\n",
    "from tqdm import tqdm\n",
    "import numpy as np\n",
    "from datasets import load_metric\n",
    "\n",
    "# pytorch imports\n",
    "import torch\n",
    "\n",
    "# Transformer tokenizer imports\n",
    "from transformers import BertTokenizerFast\n",
    "\n",
    "# Transformers data collator\n",
    "from transformers.data.data_collator import DataCollatorWithPadding\n",
    "\n",
    "# Transformers Bert model\n",
    "from transformers import AutoModelForSequenceClassification, BertForPreTraining, Trainer, TrainingArguments, EarlyStoppingCallback, BertConfig\n",
    "\n",
    "MAX_SEQ_LEN = 512"
   ]
  },
  {
   "cell_type": "code",
   "execution_count": 2,
   "id": "cd27f646",
   "metadata": {},
   "outputs": [],
   "source": [
    "# GPU settings\n",
    "os.environ[\"TOKENIZERS_PARALLELISM\"] = \"true\"\n",
    "os.environ[\"CUDA_VISIBLE_DEVICES\"] = \"0\"\n",
    "os.environ[\"NVIDIA_VISIBLE_DEVICES\"] = \"0\""
   ]
  },
  {
   "cell_type": "code",
   "execution_count": 3,
   "id": "284da6ae",
   "metadata": {
    "executionInfo": {
     "elapsed": 4,
     "status": "ok",
     "timestamp": 1647423034664,
     "user": {
      "displayName": "Fiorella Artuso",
      "photoUrl": "https://lh3.googleusercontent.com/a-/AOh14GjI7BMbitgM7kg91MwWnCqwXuMuekaCgxsQRH2b=s64",
      "userId": "16421204404765857445"
     },
     "user_tz": -60
    },
    "id": "bf324773"
   },
   "outputs": [],
   "source": [
    "def load_tokenizer(tokenizer_path):\n",
    "    # load tokenizer from dict\n",
    "    tokenizer =  BertTokenizerFast.from_pretrained(tokenizer_path)\n",
    "    return tokenizer"
   ]
  },
  {
   "cell_type": "code",
   "execution_count": 4,
   "id": "2ae9dbee",
   "metadata": {
    "executionInfo": {
     "elapsed": 4,
     "status": "ok",
     "timestamp": 1647423034664,
     "user": {
      "displayName": "Fiorella Artuso",
      "photoUrl": "https://lh3.googleusercontent.com/a-/AOh14GjI7BMbitgM7kg91MwWnCqwXuMuekaCgxsQRH2b=s64",
      "userId": "16421204404765857445"
     },
     "user_tz": -60
    },
    "id": "4be39a33"
   },
   "outputs": [],
   "source": [
    "class AsmToSymbolicDataset(torch.utils.data.Dataset):\n",
    "\n",
    "    def __init__(self, dataset_path, tokenizer, task):\n",
    "        \n",
    "        self.data_store = []\n",
    "        df = pd.read_csv(dataset_path, sep=\"\\t\").fillna('')\n",
    "        # df[\"instr_len\"] = df[\"ot_instructions\"].apply(lambda x: len(x.split(\"NEXT_I\")))\n",
    "        # df = df[df[\"instr_len\"]>=10]\n",
    "        \n",
    "        if task == \"compiler\":\n",
    "            self.labels_to_idx = {'clang-3.8': 0, 'clang-6.0':1, 'clang-9':2, \n",
    "                                  'gcc-5':3, 'gcc-7':4, 'gcc-9':5, 'icc-21':6}\n",
    "            self.samples = df[[\"ot_instructions\", \"compiler\"]]\n",
    "            \n",
    "        elif task == \"optimization\":\n",
    "            self.labels_to_idx =  {'O0': 0, 'O1': 1, 'O2': 2, 'O3': 3}\n",
    "            self.samples = df[[\"ot_instructions\", \"optimization\"]]\n",
    "                  \n",
    "        else:\n",
    "            raise Exception(f\"{task} is not a valid task\")\n",
    "        \n",
    "        self.tokenizer = tokenizer\n",
    "            \n",
    "        self.__init_structures()\n",
    "         \n",
    "    def __init_structures(self):\n",
    "        \n",
    "        for x,y in tqdm(self.samples.values):\n",
    "            x = x.replace(\"NEXT_I \", \"\")\n",
    "            example = self.tokenizer(text=x, truncation=True, max_length=MAX_SEQ_LEN)\n",
    "            example[\"label\"] = self.labels_to_idx[y]\n",
    "            self.data_store.append(example)\n",
    "            \n",
    "        random.shuffle(self.data_store)\n",
    "                \n",
    "    def __len__(self) -> int:\n",
    "        return len(self.data_store)\n",
    "\n",
    "    def __getitem__(self, idx: int) -> torch.Tensor:\n",
    "        return self.data_store[idx]\n",
    "    \n",
    "    def save_to_file(self,save_file):\n",
    "        torch.save(self.data_store, save_file)"
   ]
  },
  {
   "cell_type": "markdown",
   "id": "40a031dc",
   "metadata": {},
   "source": [
    "# **Training**"
   ]
  },
  {
   "cell_type": "code",
   "execution_count": 5,
   "id": "f7455e6b",
   "metadata": {
    "executionInfo": {
     "elapsed": 4,
     "status": "ok",
     "timestamp": 1647423034663,
     "user": {
      "displayName": "Fiorella Artuso",
      "photoUrl": "https://lh3.googleusercontent.com/a-/AOh14GjI7BMbitgM7kg91MwWnCqwXuMuekaCgxsQRH2b=s64",
      "userId": "16421204404765857445"
     },
     "user_tz": -60
    },
    "id": "6341a645"
   },
   "outputs": [],
   "source": [
    "from_scratch = False\n",
    "\n",
    "#if from_scratch:\n",
    "LEARNING_RATE = 0.0001\n",
    "#else:\n",
    "#    LEARNING_RATE = 0.00001\n",
    "\n",
    "NUM_TRAIN_EPOCHS = 20\n",
    "PER_DEVICE_TRAIN_BATCH_SIZE = 32\n",
    "PER_DEVICE_EVAL_BATCH_SIZE = 32\n",
    "DATA_LOADER_NUM_WORKERS = 4\n",
    "PATIENCE = 3\n",
    "\n",
    "#models\n",
    "BXSMAL=\"bert_xsmall\"\n",
    "BSMAL=\"bert_small\"\n",
    "BNORM=\"bert_normal\"\n",
    "BLARG=\"bert_larg\"\n",
    "\n",
    "MODEL=BNORM \n",
    "\n",
    "# Parameter settings -- of default model BSMAL\n",
    "MAX_SEQ_LEN = 512\n",
    "MAX_POSITION_EMBEDDINGS = 514\n",
    "HIDDEN_SIZE = 512\n",
    "INTERMEDIATE_SIZE = 2048\n",
    "NUM_ATTENTION_HEADS = 8\n",
    "NUM_HIDDEN_LAYERS = 12\n",
    "TYPE_VOCAB_SIZE = 2\n",
    "\n",
    "if MODEL == BXSMAL:\n",
    "    MAX_SEQ_LEN = 512\n",
    "    MAX_POSITION_EMBEDDINGS = 514\n",
    "    HIDDEN_SIZE = 128\n",
    "    INTERMEDIATE_SIZE = 1024\n",
    "    NUM_ATTENTION_HEADS = 8\n",
    "    NUM_HIDDEN_LAYERS = 12\n",
    "    TYPE_VOCAB_SIZE = 2\n",
    "\n",
    "if MODEL == BSMAL:\n",
    "    MAX_SEQ_LEN = 512\n",
    "    MAX_POSITION_EMBEDDINGS = 514\n",
    "    HIDDEN_SIZE = 512\n",
    "    INTERMEDIATE_SIZE = 2048\n",
    "    NUM_ATTENTION_HEADS = 8\n",
    "    NUM_HIDDEN_LAYERS = 12\n",
    "    TYPE_VOCAB_SIZE = 2\n",
    "    \n",
    "if MODEL == BNORM:\n",
    "    MAX_SEQ_LEN = 512\n",
    "    MAX_POSITION_EMBEDDINGS = 514\n",
    "    HIDDEN_SIZE = 768\n",
    "    INTERMEDIATE_SIZE = 3072\n",
    "    NUM_ATTENTION_HEADS = 12\n",
    "    NUM_HIDDEN_LAYERS = 12\n",
    "    TYPE_VOCAB_SIZE = 2    \n",
    "    \n",
    "if MODEL == BLARG:\n",
    "    MAX_SEQ_LEN = 512\n",
    "    MAX_POSITION_EMBEDDINGS = 514\n",
    "    HIDDEN_SIZE = 1024\n",
    "    INTERMEDIATE_SIZE = 4096\n",
    "    NUM_ATTENTION_HEADS = 16\n",
    "    NUM_HIDDEN_LAYERS = 24\n",
    "    TYPE_VOCAB_SIZE = 2"
   ]
  },
  {
   "cell_type": "code",
   "execution_count": 6,
   "id": "ee2e36b7",
   "metadata": {
    "executionInfo": {
     "elapsed": 3,
     "status": "ok",
     "timestamp": 1647423034663,
     "user": {
      "displayName": "Fiorella Artuso",
      "photoUrl": "https://lh3.googleusercontent.com/a-/AOh14GjI7BMbitgM7kg91MwWnCqwXuMuekaCgxsQRH2b=s64",
      "userId": "16421204404765857445"
     },
     "user_tz": -60
    },
    "id": "a92cd8a0"
   },
   "outputs": [],
   "source": [
    "task = \"compiler\"\n",
    "\n",
    "if task == \"compiler\":\n",
    "    labels = ['clang-3.8', 'clang-6.0', 'clang-9', 'gcc-5', 'gcc-7', 'gcc-9', 'icc-21']\n",
    "    \n",
    "elif task == \"optimization\":\n",
    "    labels =  ['O0', 'O1', 'O2', 'O3']\n",
    "\n",
    "base_path = \"../../\"\n",
    "prt_model = os.path.join(base_path, \"models\", \"pretraining_model\", \"checkpoint-67246\")\n",
    "train_path = os.path.join(base_path, \"dataset\", \"finetuning_dataset\", \"compiler_provenance\", \"functions\", \"train_compiler_provenance.csv\")\n",
    "val_path = os.path.join(base_path, \"dataset\", \"finetuning_dataset\", \"compiler_provenance\", \"functions\", \"val_compiler_provenance.csv\")\n",
    "tokenizer_path = os.path.join(base_path, \"tokenizer\")\n",
    "\n",
    "model_name =  f\"BinBert_{task}\"\n",
    "output_dir = model_path = os.path.join(base_path, \"models\", \"finetuned_models\", \"compiler_provenance\", \"functions\", model_name)"
   ]
  },
  {
   "cell_type": "code",
   "execution_count": 7,
   "id": "e014d154",
   "metadata": {
    "colab": {
     "base_uri": "https://localhost:8080/"
    },
    "executionInfo": {
     "elapsed": 166095,
     "status": "ok",
     "timestamp": 1647423200755,
     "user": {
      "displayName": "Fiorella Artuso",
      "photoUrl": "https://lh3.googleusercontent.com/a-/AOh14GjI7BMbitgM7kg91MwWnCqwXuMuekaCgxsQRH2b=s64",
      "userId": "16421204404765857445"
     },
     "user_tz": -60
    },
    "id": "102b9759",
    "outputId": "09219005-711d-4dcd-8205-3e0bb68dcb86"
   },
   "outputs": [
    {
     "name": "stderr",
     "output_type": "stream",
     "text": [
      "100%|██████████| 39017/39017 [00:30<00:00, 1300.10it/s]\n",
      "100%|██████████| 4877/4877 [00:03<00:00, 1239.29it/s]\n"
     ]
    }
   ],
   "source": [
    "tokenizer = load_tokenizer(tokenizer_path)\n",
    "train_dataset = AsmToSymbolicDataset(train_path, tokenizer, task)\n",
    "val_dataset = AsmToSymbolicDataset(val_path, tokenizer, task)"
   ]
  },
  {
   "cell_type": "code",
   "execution_count": 8,
   "id": "cc2ea39b",
   "metadata": {
    "colab": {
     "base_uri": "https://localhost:8080/"
    },
    "executionInfo": {
     "elapsed": 2079,
     "status": "ok",
     "timestamp": 1647423202821,
     "user": {
      "displayName": "Fiorella Artuso",
      "photoUrl": "https://lh3.googleusercontent.com/a-/AOh14GjI7BMbitgM7kg91MwWnCqwXuMuekaCgxsQRH2b=s64",
      "userId": "16421204404765857445"
     },
     "user_tz": -60
    },
    "id": "312c3d3c",
    "outputId": "1bd00a61-fa01-47a9-b5f2-36f52b32b4fb"
   },
   "outputs": [
    {
     "name": "stderr",
     "output_type": "stream",
     "text": [
      "Some weights of the model checkpoint at /home/jovyan/work/olivetree/final_for_paper/models/masked_language_model_only_bert_normal_mask30/checkpoint-95846 were not used when initializing BertForSequenceClassification: ['cls.predictions.decoder.weight', 'cls.predictions.bias', 'cls.predictions.transform.dense.bias', 'cls.predictions.transform.dense.weight', 'cls.predictions.decoder.bias', 'cls.predictions.transform.LayerNorm.weight', 'cls.predictions.transform.LayerNorm.bias']\n",
      "- This IS expected if you are initializing BertForSequenceClassification from the checkpoint of a model trained on another task or with another architecture (e.g. initializing a BertForSequenceClassification model from a BertForPreTraining model).\n",
      "- This IS NOT expected if you are initializing BertForSequenceClassification from the checkpoint of a model that you expect to be exactly identical (initializing a BertForSequenceClassification model from a BertForSequenceClassification model).\n",
      "Some weights of BertForSequenceClassification were not initialized from the model checkpoint at /home/jovyan/work/olivetree/final_for_paper/models/masked_language_model_only_bert_normal_mask30/checkpoint-95846 and are newly initialized: ['bert.pooler.dense.bias', 'classifier.weight', 'bert.pooler.dense.weight', 'classifier.bias']\n",
      "You should probably TRAIN this model on a down-stream task to be able to use it for predictions and inference.\n"
     ]
    }
   ],
   "source": [
    "if not from_scratch:\n",
    "    model = AutoModelForSequenceClassification.from_pretrained(prt_model, num_labels=len(labels))\n",
    "else:\n",
    "    config = BertConfig(\n",
    "                vocab_size = len(tokenizer.vocab),\n",
    "                max_position_embeddings = MAX_POSITION_EMBEDDINGS,\n",
    "                hidden_size = HIDDEN_SIZE,\n",
    "                intermediate_size = INTERMEDIATE_SIZE,\n",
    "                num_attention_heads = NUM_ATTENTION_HEADS,\n",
    "                num_hidden_layers = NUM_HIDDEN_LAYERS,\n",
    "                type_vocab_size = TYPE_VOCAB_SIZE\n",
    "    )\n",
    "    config.num_labels = len(labels)\n",
    "    model = AutoModelForSequenceClassification.from_config(config)"
   ]
  },
  {
   "cell_type": "code",
   "execution_count": 9,
   "id": "b8a00dfb",
   "metadata": {
    "executionInfo": {
     "elapsed": 7,
     "status": "ok",
     "timestamp": 1647423202823,
     "user": {
      "displayName": "Fiorella Artuso",
      "photoUrl": "https://lh3.googleusercontent.com/a-/AOh14GjI7BMbitgM7kg91MwWnCqwXuMuekaCgxsQRH2b=s64",
      "userId": "16421204404765857445"
     },
     "user_tz": -60
    },
    "id": "44388bf6"
   },
   "outputs": [],
   "source": [
    "training_args = TrainingArguments(\n",
    "                    output_dir = output_dir,\n",
    "                    overwrite_output_dir = True,\n",
    "                    num_train_epochs = NUM_TRAIN_EPOCHS,\n",
    "                    learning_rate = LEARNING_RATE,\n",
    "                    per_device_train_batch_size = PER_DEVICE_TRAIN_BATCH_SIZE,\n",
    "                    save_strategy = 'epoch',\n",
    "                    save_total_limit = 1,\n",
    "                    logging_strategy = 'epoch',\n",
    "                    # prediction_loss_only = True,\n",
    "                    # fp16=True,\n",
    "                    load_best_model_at_end = True,\n",
    "                    do_eval = True,\n",
    "                    evaluation_strategy = 'epoch',\n",
    "                    metric_for_best_model = 'eval_accuracy',\n",
    "                    per_device_eval_batch_size = PER_DEVICE_EVAL_BATCH_SIZE,\n",
    "                    dataloader_num_workers = DATA_LOADER_NUM_WORKERS)"
   ]
  },
  {
   "cell_type": "code",
   "execution_count": 10,
   "id": "533a9c6f",
   "metadata": {
    "executionInfo": {
     "elapsed": 7,
     "status": "ok",
     "timestamp": 1647423202824,
     "user": {
      "displayName": "Fiorella Artuso",
      "photoUrl": "https://lh3.googleusercontent.com/a-/AOh14GjI7BMbitgM7kg91MwWnCqwXuMuekaCgxsQRH2b=s64",
      "userId": "16421204404765857445"
     },
     "user_tz": -60
    },
    "id": "9ddd4097"
   },
   "outputs": [],
   "source": [
    "collator = DataCollatorWithPadding(tokenizer, padding=True)"
   ]
  },
  {
   "cell_type": "code",
   "execution_count": 11,
   "id": "360894e5",
   "metadata": {
    "executionInfo": {
     "elapsed": 1043,
     "status": "ok",
     "timestamp": 1647423203861,
     "user": {
      "displayName": "Fiorella Artuso",
      "photoUrl": "https://lh3.googleusercontent.com/a-/AOh14GjI7BMbitgM7kg91MwWnCqwXuMuekaCgxsQRH2b=s64",
      "userId": "16421204404765857445"
     },
     "user_tz": -60
    },
    "id": "bfc4570b"
   },
   "outputs": [],
   "source": [
    "metric = load_metric(\"accuracy\")"
   ]
  },
  {
   "cell_type": "code",
   "execution_count": 12,
   "id": "31ef11ec",
   "metadata": {
    "executionInfo": {
     "elapsed": 8,
     "status": "ok",
     "timestamp": 1647423203862,
     "user": {
      "displayName": "Fiorella Artuso",
      "photoUrl": "https://lh3.googleusercontent.com/a-/AOh14GjI7BMbitgM7kg91MwWnCqwXuMuekaCgxsQRH2b=s64",
      "userId": "16421204404765857445"
     },
     "user_tz": -60
    },
    "id": "faeacf91"
   },
   "outputs": [],
   "source": [
    "def compute_metrics(eval_pred):\n",
    "    logits, labels = eval_pred\n",
    "    predictions = np.argmax(logits, axis=-1)\n",
    "    return metric.compute(predictions=predictions, references=labels)"
   ]
  },
  {
   "cell_type": "code",
   "execution_count": 13,
   "id": "f5c96861",
   "metadata": {
    "executionInfo": {
     "elapsed": 3220,
     "status": "ok",
     "timestamp": 1647423207077,
     "user": {
      "displayName": "Fiorella Artuso",
      "photoUrl": "https://lh3.googleusercontent.com/a-/AOh14GjI7BMbitgM7kg91MwWnCqwXuMuekaCgxsQRH2b=s64",
      "userId": "16421204404765857445"
     },
     "user_tz": -60
    },
    "id": "ecf83ba2"
   },
   "outputs": [],
   "source": [
    "trainer = Trainer(\n",
    "    model=model,\n",
    "    args=training_args,\n",
    "    train_dataset=train_dataset,\n",
    "    eval_dataset=val_dataset,\n",
    "    data_collator = collator,\n",
    "    compute_metrics=compute_metrics,\n",
    "    # callbacks = [EarlyStoppingCallback(early_stopping_patience=PATIENCE)]\n",
    ")"
   ]
  },
  {
   "cell_type": "code",
   "execution_count": 14,
   "id": "fa27c9ea",
   "metadata": {
    "colab": {
     "base_uri": "https://localhost:8080/",
     "height": 545
    },
    "executionInfo": {
     "elapsed": 563111,
     "status": "error",
     "timestamp": 1647423770176,
     "user": {
      "displayName": "Fiorella Artuso",
      "photoUrl": "https://lh3.googleusercontent.com/a-/AOh14GjI7BMbitgM7kg91MwWnCqwXuMuekaCgxsQRH2b=s64",
      "userId": "16421204404765857445"
     },
     "user_tz": -60
    },
    "id": "11dd32ae",
    "outputId": "545103f0-df4a-4d89-8389-7271c26384dd",
    "tags": []
   },
   "outputs": [
    {
     "name": "stderr",
     "output_type": "stream",
     "text": [
      "/opt/conda/lib/python3.8/site-packages/transformers/optimization.py:306: FutureWarning: This implementation of AdamW is deprecated and will be removed in a future version. Use thePyTorch implementation torch.optim.AdamW instead, or set `no_deprecation_warning=True` to disable this warning\n",
      "  warnings.warn(\n",
      "***** Running training *****\n",
      "  Num examples = 39017\n",
      "  Num Epochs = 20\n",
      "  Instantaneous batch size per device = 32\n",
      "  Total train batch size (w. parallel, distributed & accumulation) = 128\n",
      "  Gradient Accumulation steps = 1\n",
      "  Total optimization steps = 6100\n",
      "/opt/conda/lib/python3.8/site-packages/torch/nn/parallel/_functions.py:68: UserWarning: Was asked to gather along dimension 0, but all input tensors were scalars; will instead unsqueeze and return a vector.\n",
      "  warnings.warn('Was asked to gather along dimension 0, but all '\n"
     ]
    },
    {
     "data": {
      "text/html": [
       "\n",
       "    <div>\n",
       "      \n",
       "      <progress value='3671' max='6100' style='width:300px; height:20px; vertical-align: middle;'></progress>\n",
       "      [3671/6100 21:22 < 14:08, 2.86 it/s, Epoch 12.03/20]\n",
       "    </div>\n",
       "    <table border=\"1\" class=\"dataframe\">\n",
       "  <thead>\n",
       " <tr style=\"text-align: left;\">\n",
       "      <th>Epoch</th>\n",
       "      <th>Training Loss</th>\n",
       "      <th>Validation Loss</th>\n",
       "      <th>Accuracy</th>\n",
       "    </tr>\n",
       "  </thead>\n",
       "  <tbody>\n",
       "    <tr>\n",
       "      <td>1</td>\n",
       "      <td>0.776100</td>\n",
       "      <td>0.733041</td>\n",
       "      <td>0.675210</td>\n",
       "    </tr>\n",
       "    <tr>\n",
       "      <td>2</td>\n",
       "      <td>0.647900</td>\n",
       "      <td>0.651112</td>\n",
       "      <td>0.700636</td>\n",
       "    </tr>\n",
       "    <tr>\n",
       "      <td>3</td>\n",
       "      <td>0.583600</td>\n",
       "      <td>0.620569</td>\n",
       "      <td>0.731597</td>\n",
       "    </tr>\n",
       "    <tr>\n",
       "      <td>4</td>\n",
       "      <td>0.522600</td>\n",
       "      <td>0.624071</td>\n",
       "      <td>0.723396</td>\n",
       "    </tr>\n",
       "    <tr>\n",
       "      <td>5</td>\n",
       "      <td>0.464300</td>\n",
       "      <td>0.604387</td>\n",
       "      <td>0.736313</td>\n",
       "    </tr>\n",
       "    <tr>\n",
       "      <td>6</td>\n",
       "      <td>0.414500</td>\n",
       "      <td>0.634735</td>\n",
       "      <td>0.733238</td>\n",
       "    </tr>\n",
       "    <tr>\n",
       "      <td>7</td>\n",
       "      <td>0.365200</td>\n",
       "      <td>0.664336</td>\n",
       "      <td>0.739594</td>\n",
       "    </tr>\n",
       "    <tr>\n",
       "      <td>8</td>\n",
       "      <td>0.318900</td>\n",
       "      <td>0.717005</td>\n",
       "      <td>0.740004</td>\n",
       "    </tr>\n",
       "    <tr>\n",
       "      <td>9</td>\n",
       "      <td>0.277100</td>\n",
       "      <td>0.728121</td>\n",
       "      <td>0.754767</td>\n",
       "    </tr>\n",
       "    <tr>\n",
       "      <td>10</td>\n",
       "      <td>0.233500</td>\n",
       "      <td>0.815378</td>\n",
       "      <td>0.748001</td>\n",
       "    </tr>\n",
       "    <tr>\n",
       "      <td>11</td>\n",
       "      <td>0.198400</td>\n",
       "      <td>0.853333</td>\n",
       "      <td>0.739594</td>\n",
       "    </tr>\n",
       "    <tr>\n",
       "      <td>12</td>\n",
       "      <td>0.161200</td>\n",
       "      <td>0.960740</td>\n",
       "      <td>0.737749</td>\n",
       "    </tr>\n",
       "  </tbody>\n",
       "</table><p>"
      ],
      "text/plain": [
       "<IPython.core.display.HTML object>"
      ]
     },
     "metadata": {},
     "output_type": "display_data"
    },
    {
     "name": "stderr",
     "output_type": "stream",
     "text": [
      "***** Running Evaluation *****\n",
      "  Num examples = 4877\n",
      "  Batch size = 128\n",
      "Saving model checkpoint to /home/jovyan/work/olivetree/final_for_paper/tests/compiler_provenance/functions/finetuned_models/olivetree/mlm_normal_optimization_finetuning/checkpoint-305\n",
      "Configuration saved in /home/jovyan/work/olivetree/final_for_paper/tests/compiler_provenance/functions/finetuned_models/olivetree/mlm_normal_optimization_finetuning/checkpoint-305/config.json\n",
      "Model weights saved in /home/jovyan/work/olivetree/final_for_paper/tests/compiler_provenance/functions/finetuned_models/olivetree/mlm_normal_optimization_finetuning/checkpoint-305/pytorch_model.bin\n",
      "/opt/conda/lib/python3.8/site-packages/torch/nn/parallel/_functions.py:68: UserWarning: Was asked to gather along dimension 0, but all input tensors were scalars; will instead unsqueeze and return a vector.\n",
      "  warnings.warn('Was asked to gather along dimension 0, but all '\n",
      "***** Running Evaluation *****\n",
      "  Num examples = 4877\n",
      "  Batch size = 128\n",
      "Saving model checkpoint to /home/jovyan/work/olivetree/final_for_paper/tests/compiler_provenance/functions/finetuned_models/olivetree/mlm_normal_optimization_finetuning/checkpoint-610\n",
      "Configuration saved in /home/jovyan/work/olivetree/final_for_paper/tests/compiler_provenance/functions/finetuned_models/olivetree/mlm_normal_optimization_finetuning/checkpoint-610/config.json\n",
      "Model weights saved in /home/jovyan/work/olivetree/final_for_paper/tests/compiler_provenance/functions/finetuned_models/olivetree/mlm_normal_optimization_finetuning/checkpoint-610/pytorch_model.bin\n",
      "Deleting older checkpoint [/home/jovyan/work/olivetree/final_for_paper/tests/compiler_provenance/functions/finetuned_models/olivetree/mlm_normal_optimization_finetuning/checkpoint-305] due to args.save_total_limit\n",
      "/opt/conda/lib/python3.8/site-packages/torch/nn/parallel/_functions.py:68: UserWarning: Was asked to gather along dimension 0, but all input tensors were scalars; will instead unsqueeze and return a vector.\n",
      "  warnings.warn('Was asked to gather along dimension 0, but all '\n",
      "***** Running Evaluation *****\n",
      "  Num examples = 4877\n",
      "  Batch size = 128\n",
      "Saving model checkpoint to /home/jovyan/work/olivetree/final_for_paper/tests/compiler_provenance/functions/finetuned_models/olivetree/mlm_normal_optimization_finetuning/checkpoint-1220\n",
      "Configuration saved in /home/jovyan/work/olivetree/final_for_paper/tests/compiler_provenance/functions/finetuned_models/olivetree/mlm_normal_optimization_finetuning/checkpoint-1220/config.json\n",
      "Model weights saved in /home/jovyan/work/olivetree/final_for_paper/tests/compiler_provenance/functions/finetuned_models/olivetree/mlm_normal_optimization_finetuning/checkpoint-1220/pytorch_model.bin\n",
      "/opt/conda/lib/python3.8/site-packages/torch/nn/parallel/_functions.py:68: UserWarning: Was asked to gather along dimension 0, but all input tensors were scalars; will instead unsqueeze and return a vector.\n",
      "  warnings.warn('Was asked to gather along dimension 0, but all '\n",
      "***** Running Evaluation *****\n",
      "  Num examples = 4877\n",
      "  Batch size = 128\n",
      "Saving model checkpoint to /home/jovyan/work/olivetree/final_for_paper/tests/compiler_provenance/functions/finetuned_models/olivetree/mlm_normal_optimization_finetuning/checkpoint-1525\n",
      "Configuration saved in /home/jovyan/work/olivetree/final_for_paper/tests/compiler_provenance/functions/finetuned_models/olivetree/mlm_normal_optimization_finetuning/checkpoint-1525/config.json\n",
      "Model weights saved in /home/jovyan/work/olivetree/final_for_paper/tests/compiler_provenance/functions/finetuned_models/olivetree/mlm_normal_optimization_finetuning/checkpoint-1525/pytorch_model.bin\n",
      "Deleting older checkpoint [/home/jovyan/work/olivetree/final_for_paper/tests/compiler_provenance/functions/finetuned_models/olivetree/mlm_normal_optimization_finetuning/checkpoint-915] due to args.save_total_limit\n",
      "Deleting older checkpoint [/home/jovyan/work/olivetree/final_for_paper/tests/compiler_provenance/functions/finetuned_models/olivetree/mlm_normal_optimization_finetuning/checkpoint-1220] due to args.save_total_limit\n",
      "/opt/conda/lib/python3.8/site-packages/torch/nn/parallel/_functions.py:68: UserWarning: Was asked to gather along dimension 0, but all input tensors were scalars; will instead unsqueeze and return a vector.\n",
      "  warnings.warn('Was asked to gather along dimension 0, but all '\n",
      "***** Running Evaluation *****\n",
      "  Num examples = 4877\n",
      "  Batch size = 128\n",
      "Saving model checkpoint to /home/jovyan/work/olivetree/final_for_paper/tests/compiler_provenance/functions/finetuned_models/olivetree/mlm_normal_optimization_finetuning/checkpoint-1830\n",
      "Configuration saved in /home/jovyan/work/olivetree/final_for_paper/tests/compiler_provenance/functions/finetuned_models/olivetree/mlm_normal_optimization_finetuning/checkpoint-1830/config.json\n",
      "Model weights saved in /home/jovyan/work/olivetree/final_for_paper/tests/compiler_provenance/functions/finetuned_models/olivetree/mlm_normal_optimization_finetuning/checkpoint-1830/pytorch_model.bin\n",
      "/opt/conda/lib/python3.8/site-packages/torch/nn/parallel/_functions.py:68: UserWarning: Was asked to gather along dimension 0, but all input tensors were scalars; will instead unsqueeze and return a vector.\n",
      "  warnings.warn('Was asked to gather along dimension 0, but all '\n",
      "***** Running Evaluation *****\n",
      "  Num examples = 4877\n",
      "  Batch size = 128\n",
      "Saving model checkpoint to /home/jovyan/work/olivetree/final_for_paper/tests/compiler_provenance/functions/finetuned_models/olivetree/mlm_normal_optimization_finetuning/checkpoint-2135\n",
      "Configuration saved in /home/jovyan/work/olivetree/final_for_paper/tests/compiler_provenance/functions/finetuned_models/olivetree/mlm_normal_optimization_finetuning/checkpoint-2135/config.json\n",
      "Model weights saved in /home/jovyan/work/olivetree/final_for_paper/tests/compiler_provenance/functions/finetuned_models/olivetree/mlm_normal_optimization_finetuning/checkpoint-2135/pytorch_model.bin\n",
      "Deleting older checkpoint [/home/jovyan/work/olivetree/final_for_paper/tests/compiler_provenance/functions/finetuned_models/olivetree/mlm_normal_optimization_finetuning/checkpoint-1525] due to args.save_total_limit\n",
      "Deleting older checkpoint [/home/jovyan/work/olivetree/final_for_paper/tests/compiler_provenance/functions/finetuned_models/olivetree/mlm_normal_optimization_finetuning/checkpoint-1830] due to args.save_total_limit\n",
      "/opt/conda/lib/python3.8/site-packages/torch/nn/parallel/_functions.py:68: UserWarning: Was asked to gather along dimension 0, but all input tensors were scalars; will instead unsqueeze and return a vector.\n",
      "  warnings.warn('Was asked to gather along dimension 0, but all '\n",
      "***** Running Evaluation *****\n",
      "  Num examples = 4877\n",
      "  Batch size = 128\n",
      "Saving model checkpoint to /home/jovyan/work/olivetree/final_for_paper/tests/compiler_provenance/functions/finetuned_models/olivetree/mlm_normal_optimization_finetuning/checkpoint-2440\n",
      "Configuration saved in /home/jovyan/work/olivetree/final_for_paper/tests/compiler_provenance/functions/finetuned_models/olivetree/mlm_normal_optimization_finetuning/checkpoint-2440/config.json\n",
      "Model weights saved in /home/jovyan/work/olivetree/final_for_paper/tests/compiler_provenance/functions/finetuned_models/olivetree/mlm_normal_optimization_finetuning/checkpoint-2440/pytorch_model.bin\n",
      "Deleting older checkpoint [/home/jovyan/work/olivetree/final_for_paper/tests/compiler_provenance/functions/finetuned_models/olivetree/mlm_normal_optimization_finetuning/checkpoint-2135] due to args.save_total_limit\n",
      "/opt/conda/lib/python3.8/site-packages/torch/nn/parallel/_functions.py:68: UserWarning: Was asked to gather along dimension 0, but all input tensors were scalars; will instead unsqueeze and return a vector.\n",
      "  warnings.warn('Was asked to gather along dimension 0, but all '\n",
      "***** Running Evaluation *****\n",
      "  Num examples = 4877\n",
      "  Batch size = 128\n",
      "Saving model checkpoint to /home/jovyan/work/olivetree/final_for_paper/tests/compiler_provenance/functions/finetuned_models/olivetree/mlm_normal_optimization_finetuning/checkpoint-2745\n",
      "Configuration saved in /home/jovyan/work/olivetree/final_for_paper/tests/compiler_provenance/functions/finetuned_models/olivetree/mlm_normal_optimization_finetuning/checkpoint-2745/config.json\n",
      "Model weights saved in /home/jovyan/work/olivetree/final_for_paper/tests/compiler_provenance/functions/finetuned_models/olivetree/mlm_normal_optimization_finetuning/checkpoint-2745/pytorch_model.bin\n",
      "Deleting older checkpoint [/home/jovyan/work/olivetree/final_for_paper/tests/compiler_provenance/functions/finetuned_models/olivetree/mlm_normal_optimization_finetuning/checkpoint-2440] due to args.save_total_limit\n",
      "/opt/conda/lib/python3.8/site-packages/torch/nn/parallel/_functions.py:68: UserWarning: Was asked to gather along dimension 0, but all input tensors were scalars; will instead unsqueeze and return a vector.\n",
      "  warnings.warn('Was asked to gather along dimension 0, but all '\n",
      "***** Running Evaluation *****\n",
      "  Num examples = 4877\n",
      "  Batch size = 128\n",
      "Saving model checkpoint to /home/jovyan/work/olivetree/final_for_paper/tests/compiler_provenance/functions/finetuned_models/olivetree/mlm_normal_optimization_finetuning/checkpoint-3050\n",
      "Configuration saved in /home/jovyan/work/olivetree/final_for_paper/tests/compiler_provenance/functions/finetuned_models/olivetree/mlm_normal_optimization_finetuning/checkpoint-3050/config.json\n",
      "Model weights saved in /home/jovyan/work/olivetree/final_for_paper/tests/compiler_provenance/functions/finetuned_models/olivetree/mlm_normal_optimization_finetuning/checkpoint-3050/pytorch_model.bin\n",
      "/opt/conda/lib/python3.8/site-packages/torch/nn/parallel/_functions.py:68: UserWarning: Was asked to gather along dimension 0, but all input tensors were scalars; will instead unsqueeze and return a vector.\n",
      "  warnings.warn('Was asked to gather along dimension 0, but all '\n",
      "***** Running Evaluation *****\n",
      "  Num examples = 4877\n",
      "  Batch size = 128\n",
      "Saving model checkpoint to /home/jovyan/work/olivetree/final_for_paper/tests/compiler_provenance/functions/finetuned_models/olivetree/mlm_normal_optimization_finetuning/checkpoint-3355\n",
      "Configuration saved in /home/jovyan/work/olivetree/final_for_paper/tests/compiler_provenance/functions/finetuned_models/olivetree/mlm_normal_optimization_finetuning/checkpoint-3355/config.json\n",
      "Model weights saved in /home/jovyan/work/olivetree/final_for_paper/tests/compiler_provenance/functions/finetuned_models/olivetree/mlm_normal_optimization_finetuning/checkpoint-3355/pytorch_model.bin\n",
      "Deleting older checkpoint [/home/jovyan/work/olivetree/final_for_paper/tests/compiler_provenance/functions/finetuned_models/olivetree/mlm_normal_optimization_finetuning/checkpoint-3050] due to args.save_total_limit\n",
      "/opt/conda/lib/python3.8/site-packages/torch/nn/parallel/_functions.py:68: UserWarning: Was asked to gather along dimension 0, but all input tensors were scalars; will instead unsqueeze and return a vector.\n",
      "  warnings.warn('Was asked to gather along dimension 0, but all '\n",
      "***** Running Evaluation *****\n",
      "  Num examples = 4877\n",
      "  Batch size = 128\n",
      "Saving model checkpoint to /home/jovyan/work/olivetree/final_for_paper/tests/compiler_provenance/functions/finetuned_models/olivetree/mlm_normal_optimization_finetuning/checkpoint-3660\n",
      "Configuration saved in /home/jovyan/work/olivetree/final_for_paper/tests/compiler_provenance/functions/finetuned_models/olivetree/mlm_normal_optimization_finetuning/checkpoint-3660/config.json\n",
      "Model weights saved in /home/jovyan/work/olivetree/final_for_paper/tests/compiler_provenance/functions/finetuned_models/olivetree/mlm_normal_optimization_finetuning/checkpoint-3660/pytorch_model.bin\n",
      "Deleting older checkpoint [/home/jovyan/work/olivetree/final_for_paper/tests/compiler_provenance/functions/finetuned_models/olivetree/mlm_normal_optimization_finetuning/checkpoint-3355] due to args.save_total_limit\n",
      "/opt/conda/lib/python3.8/site-packages/torch/nn/parallel/_functions.py:68: UserWarning: Was asked to gather along dimension 0, but all input tensors were scalars; will instead unsqueeze and return a vector.\n",
      "  warnings.warn('Was asked to gather along dimension 0, but all '\n",
      "IOPub message rate exceeded.\n",
      "The Jupyter server will temporarily stop sending output\n",
      "to the client in order to avoid crashing it.\n",
      "To change this limit, set the config variable\n",
      "`--ServerApp.iopub_msg_rate_limit`.\n",
      "\n",
      "Current values:\n",
      "ServerApp.iopub_msg_rate_limit=1000.0 (msgs/sec)\n",
      "ServerApp.rate_limit_window=3.0 (secs)\n",
      "\n"
     ]
    }
   ],
   "source": [
    "trainer.train()"
   ]
  },
  {
   "cell_type": "markdown",
   "id": "7fc0d807",
   "metadata": {},
   "source": [
    "# **Testing**"
   ]
  },
  {
   "cell_type": "code",
   "execution_count": 5,
   "id": "1872c273",
   "metadata": {},
   "outputs": [],
   "source": [
    "from sklearn.metrics import confusion_matrix, classification_report\n",
    "import matplotlib.pyplot as plt\n",
    "import seaborn as sns"
   ]
  },
  {
   "cell_type": "code",
   "execution_count": 36,
   "id": "41ea919a",
   "metadata": {},
   "outputs": [],
   "source": [
    "task = \"compiler\"\n",
    "\n",
    "if task == \"compiler\":\n",
    "    labels = ['clang-3.8', 'clang-6.0', 'clang-9', 'gcc-5', 'gcc-7', 'gcc-9', 'icc-21']\n",
    "\n",
    "elif task == \"optimization\":\n",
    "    labels =  ['O0', 'O1', 'O2', 'O3']\n",
    "\n",
    "base_path = \"../../\"\n",
    "test_path = os.path.join(base_path, \"dataset\", \"finetuning_dataset\", \"compiler_provenance\", \"functions\", \"test_compiler_provenance.csv\")\n",
    "tokenizer_path = os.path.join(base_path, \"tokenizer\")\n",
    "\n",
    "model_name = \"BinBert_compiler/checkpoint-1536\" if task == \"compiler\" else \"BinBert_optimization/checkpoint-1536\"\n",
    "model_path = os.path.join(base_path, \"models\", \"finetuned_models\", \"compiler_provenance\", \"functions\", model_name)\n",
    "res_filename = os.path.join(base_path, \"results\", \"compiler_provenance\", \"functions\", model_name.replace(os.sep,\"_\"))"
   ]
  },
  {
   "cell_type": "code",
   "execution_count": 37,
   "id": "7c7f5c17",
   "metadata": {},
   "outputs": [
    {
     "data": {
      "text/plain": [
       "'/home/jovyan/work/olivetree/final_for_paper/tests/compiler_provenance/functions/results/olivetree/nsp_normal_mask30_compiler_finetuning_checkpoint-4575'"
      ]
     },
     "execution_count": 37,
     "metadata": {},
     "output_type": "execute_result"
    }
   ],
   "source": [
    "res_filename"
   ]
  },
  {
   "cell_type": "code",
   "execution_count": 38,
   "id": "78a8b969",
   "metadata": {},
   "outputs": [],
   "source": [
    "def load_binbert_model(best_checkpoint):\n",
    "\n",
    "    print(\"Loading Model ->\", best_checkpoint)\n",
    "    model = AutoModelForSequenceClassification.from_pretrained(best_checkpoint, output_hidden_states=True)\n",
    "\n",
    "    model.to(\"cuda\")\n",
    "    model.eval()\n",
    "\n",
    "    return model"
   ]
  },
  {
   "cell_type": "code",
   "execution_count": 39,
   "id": "bd7cb317",
   "metadata": {},
   "outputs": [],
   "source": [
    "metric = load_metric(\"accuracy\")"
   ]
  },
  {
   "cell_type": "code",
   "execution_count": 40,
   "id": "6ed8db95",
   "metadata": {},
   "outputs": [],
   "source": [
    "def compute_metrics(eval_pred):\n",
    "    logits, labels = eval_pred\n",
    "    predictions = np.argmax(logits, axis=-1)\n",
    "    return metric.compute(predictions=predictions, references=labels)"
   ]
  },
  {
   "cell_type": "code",
   "execution_count": 41,
   "id": "19f4af87",
   "metadata": {},
   "outputs": [
    {
     "name": "stdout",
     "output_type": "stream",
     "text": [
      "Loading Model -> /home/jovyan/work/olivetree/final_for_paper/tests/compiler_provenance/functions/finetuned_models/olivetree/nsp_normal_mask30_compiler_finetuning/checkpoint-4575\n"
     ]
    }
   ],
   "source": [
    "tokenizer = load_tokenizer(tokenizer_path)\n",
    "model = load_binbert_model(model_path)"
   ]
  },
  {
   "cell_type": "code",
   "execution_count": 42,
   "id": "983e5bbf",
   "metadata": {},
   "outputs": [
    {
     "name": "stderr",
     "output_type": "stream",
     "text": [
      "100%|██████████| 4878/4878 [00:03<00:00, 1311.41it/s]\n"
     ]
    }
   ],
   "source": [
    "test_dataset = AsmToSymbolicDataset(test_path, tokenizer, task)\n",
    "collator = DataCollatorWithPadding(tokenizer, padding=True)\n",
    "test_data_loader = torch.utils.data.DataLoader(test_dataset, batch_size=64, collate_fn=collator)"
   ]
  },
  {
   "cell_type": "code",
   "execution_count": 43,
   "id": "3558b768",
   "metadata": {
    "tags": []
   },
   "outputs": [],
   "source": [
    "def compute_test_accuracy(test_data_loader):\n",
    "    logits = []\n",
    "    references = []\n",
    "    for batch in tqdm(test_data_loader):\n",
    "        for elem in batch:\n",
    "            batch[elem] = batch[elem].to(\"cuda\")\n",
    "        with torch.no_grad():\n",
    "            pred = model(**batch).logits.cpu().detach().numpy()\n",
    "        ref = batch[\"labels\"].cpu().detach().numpy()\n",
    "        logits.append(pred)\n",
    "        references.append(ref)\n",
    "\n",
    "    predictions = np.concatenate(logits)\n",
    "    references = np.concatenate(references)\n",
    "    accuracy = compute_metrics((predictions, references))[\"accuracy\"]\n",
    "    return accuracy, predictions, references"
   ]
  },
  {
   "cell_type": "code",
   "execution_count": 44,
   "id": "caf8cc40",
   "metadata": {},
   "outputs": [],
   "source": [
    "def compute_test_conf_matrix(predictions, references, res_filename, labels):\n",
    "\n",
    "    cm = confusion_matrix(references, np.argmax(predictions, axis=-1))   \n",
    "\n",
    "    ax= plt.subplot()\n",
    "    sns.heatmap(cm, annot=True, fmt='g', ax=ax, cmap=\"Blues\")\n",
    "\n",
    "    # labels, title and ticks\n",
    "    ax.set_xlabel('Predicted labels')\n",
    "    ax.set_ylabel('True labels')\n",
    "    # ax.set_title(f'Confusion Matrix with Accuracy {round(accuracy,4)}')\n",
    "    ax.set_title(f'BinBert Compiler Classification at Function Level')\n",
    "    ax.xaxis.set_ticklabels(labels, rotation=45)\n",
    "    ax.yaxis.set_ticklabels(labels, rotation=45)\n",
    "    res_filename =  f\"{res_filename}_acc_{round(accuracy,4)}.pdf\"\n",
    "    print(res_filename)\n",
    "    plt.savefig(res_filename, dpi=300, format=\"pdf\", bbox_inches='tight')"
   ]
  },
  {
   "cell_type": "code",
   "execution_count": 45,
   "id": "e56eee92",
   "metadata": {},
   "outputs": [
    {
     "name": "stderr",
     "output_type": "stream",
     "text": [
      "100%|██████████| 77/77 [00:12<00:00,  5.95it/s]\n"
     ]
    },
    {
     "name": "stdout",
     "output_type": "stream",
     "text": [
      "/home/jovyan/work/olivetree/final_for_paper/tests/compiler_provenance/functions/results/olivetree/nsp_normal_mask30_compiler_finetuning_checkpoint-4575_acc_0.8905.pdf\n"
     ]
    },
    {
     "data": {
      "image/png": "[encoded data removed]",
      "text/plain": [
       "<Figure size 432x288 with 2 Axes>"
      ]
     },
     "metadata": {
      "needs_background": "light"
     },
     "output_type": "display_data"
    }
   ],
   "source": [
    "accuracy, predictions, references = compute_test_accuracy(test_data_loader)\n",
    "compute_test_conf_matrix(predictions, references, res_filename, labels)"
   ]
  },
  {
   "cell_type": "code",
   "execution_count": 74,
   "id": "030d32fa",
   "metadata": {},
   "outputs": [
    {
     "name": "stdout",
     "output_type": "stream",
     "text": [
      "              precision    recall  f1-score   support\n",
      "\n",
      "           0       0.85      0.92      0.89      1654\n",
      "           1       0.62      0.82      0.71      1458\n",
      "           2       0.54      0.22      0.32       830\n",
      "           3       0.47      0.41      0.44       936\n",
      "\n",
      "    accuracy                           0.67      4878\n",
      "   macro avg       0.62      0.59      0.59      4878\n",
      "weighted avg       0.66      0.67      0.65      4878\n",
      "\n"
     ]
    }
   ],
   "source": [
    "pred = np.argmax(predictions, axis=-1)\n",
    "report = classification_report(references, pred)\n",
    "print(report)\n",
    "\n",
    "res_filename =  f\"{res_filename}_acc_{round(accuracy,4)}.txt\"\n",
    "with open(res_filename, \"w\") as f:\n",
    "    f.write(report)"
   ]
  },
  {
   "cell_type": "code",
   "execution_count": null,
   "id": "3d641d5a",
   "metadata": {},
   "outputs": [],
   "source": []
  }
 ],
 "metadata": {
  "accelerator": "GPU",
  "colab": {
   "name": "compiler_provenance.ipynb",
   "provenance": []
  },
  "kernelspec": {
   "display_name": "Python 3 (ipykernel)",
   "language": "python",
   "name": "python3"
  },
  "language_info": {
   "codemirror_mode": {
    "name": "ipython",
    "version": 3
   },
   "file_extension": ".py",
   "mimetype": "text/x-python",
   "name": "python",
   "nbconvert_exporter": "python",
   "pygments_lexer": "ipython3",
   "version": "3.8.12"
  }
 },
 "nbformat": 4,
 "nbformat_minor": 5
}