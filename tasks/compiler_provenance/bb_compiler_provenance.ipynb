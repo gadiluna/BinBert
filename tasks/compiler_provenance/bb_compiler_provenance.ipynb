{
 "cells": [
  {
   "cell_type": "code",
   "execution_count": 1,
   "id": "bfce432e",
   "metadata": {
    "executionInfo": {
     "elapsed": 4864,
     "status": "ok",
     "timestamp": 1647423034663,
     "user": {
      "displayName": "Fiorella Artuso",
      "photoUrl": "https://lh3.googleusercontent.com/a-/AOh14GjI7BMbitgM7kg91MwWnCqwXuMuekaCgxsQRH2b=s64",
      "userId": "16421204404765857445"
     },
     "user_tz": -60
    },
    "id": "b0c12784"
   },
   "outputs": [
    {
     "name": "stderr",
     "output_type": "stream",
     "text": [
      "2022-05-11 13:27:53.814218: I tensorflow/stream_executor/platform/default/dso_loader.cc:49] Successfully opened dynamic library libcudart.so.11.0\n",
      "`fused_weight_gradient_mlp_cuda` module not found. gradient accumulation fusion with weight gradient computation disabled.\n"
     ]
    }
   ],
   "source": [
    "# General imports\n",
    "import os\n",
    "import random\n",
    "import math\n",
    "import itertools\n",
    "import pandas as pd\n",
    "from tqdm import tqdm\n",
    "import numpy as np\n",
    "from datasets import load_metric\n",
    "\n",
    "# pytorch imports\n",
    "import torch\n",
    "# torch.backends.cuda.matmul.allow_tf32 = True\n",
    "\n",
    "# Transformer tokenizer imports\n",
    "from transformers import BertTokenizerFast\n",
    "\n",
    "# Transformers data collator\n",
    "from transformers.data.data_collator import DataCollatorWithPadding\n",
    "\n",
    "# Transformers Bert model\n",
    "from transformers import AutoModelForSequenceClassification, BertForPreTraining, Trainer, TrainingArguments, EarlyStoppingCallback, BertConfig\n",
    "\n",
    "MAX_SEQ_LEN = 512"
   ]
  },
  {
   "cell_type": "code",
   "execution_count": 2,
   "id": "93497cc6",
   "metadata": {},
   "outputs": [],
   "source": [
    "# GPU settings\n",
    "os.environ[\"TOKENIZERS_PARALLELISM\"] = \"true\"\n",
    "os.environ[\"CUDA_VISIBLE_DEVICES\"] = \"0,1\"\n",
    "os.environ[\"NVIDIA_VISIBLE_DEVICES\"] = \"0,1\""
   ]
  },
  {
   "cell_type": "code",
   "execution_count": 3,
   "id": "fbeb4626",
   "metadata": {
    "executionInfo": {
     "elapsed": 4,
     "status": "ok",
     "timestamp": 1647423034664,
     "user": {
      "displayName": "Fiorella Artuso",
      "photoUrl": "https://lh3.googleusercontent.com/a-/AOh14GjI7BMbitgM7kg91MwWnCqwXuMuekaCgxsQRH2b=s64",
      "userId": "16421204404765857445"
     },
     "user_tz": -60
    },
    "id": "bf324773"
   },
   "outputs": [],
   "source": [
    "def load_tokenizer(tokenizer_path):\n",
    "    # load tokenizer from dict\n",
    "    tokenizer =  BertTokenizerFast.from_pretrained(tokenizer_path)\n",
    "    return tokenizer"
   ]
  },
  {
   "cell_type": "code",
   "execution_count": 4,
   "id": "9ccc73d0",
   "metadata": {
    "executionInfo": {
     "elapsed": 4,
     "status": "ok",
     "timestamp": 1647423034664,
     "user": {
      "displayName": "Fiorella Artuso",
      "photoUrl": "https://lh3.googleusercontent.com/a-/AOh14GjI7BMbitgM7kg91MwWnCqwXuMuekaCgxsQRH2b=s64",
      "userId": "16421204404765857445"
     },
     "user_tz": -60
    },
    "id": "4be39a33"
   },
   "outputs": [],
   "source": [
    "class AsmToSymbolicDataset(torch.utils.data.Dataset):\n",
    "\n",
    "    def __init__(self, dataset_path, tokenizer, task):\n",
    "        \n",
    "        self.data_store = []\n",
    "        df = pd.read_csv(dataset_path, sep=\"\\t\").fillna('')\n",
    "        df[\"instr_len\"] = df[\"ot_instructions\"].apply(lambda x: len(x.split(\"NEXT_I\")))\n",
    "        df = df[df[\"instr_len\"]>=10]\n",
    "        \n",
    "        if task == \"compiler\":\n",
    "            \n",
    "            self.labels_to_idx = {'clang-3.8': 0, 'clang-6.0':1, 'clang-9':2, \n",
    "                                  'gcc-5':3, 'gcc-7':4, 'gcc-9':5, 'icc-21':6}\n",
    "            \n",
    "            self.samples = df[[\"ot_instructions\", \"compiler\"]]\n",
    "            \n",
    "        elif task == \"optimization\":\n",
    "            self.labels_to_idx =  {'O0': 0, 'O1': 1, 'O2': 2, 'O3': 3}\n",
    "            self.samples = df[[\"ot_instructions\", \"optimization\"]]\n",
    "            \n",
    "        else:\n",
    "            raise Exception(f\"{task} is not a valid task\")\n",
    "        \n",
    "        self.tokenizer = tokenizer\n",
    "            \n",
    "        self.__init_structures()\n",
    "         \n",
    "    def __init_structures(self):\n",
    "        \n",
    "        for x,y in tqdm(self.samples.values):\n",
    "            x = x.replace(\"NEXT_I \", \"\")\n",
    "            example = self.tokenizer(text=x, truncation=True, max_length=MAX_SEQ_LEN)\n",
    "            example[\"label\"] = self.labels_to_idx[y]\n",
    "            self.data_store.append(example)\n",
    "            \n",
    "        random.shuffle(self.data_store)\n",
    "                \n",
    "    def __len__(self) -> int:\n",
    "        return len(self.data_store)\n",
    "\n",
    "    def __getitem__(self, idx: int) -> torch.Tensor:\n",
    "        return self.data_store[idx]\n",
    "    \n",
    "    def save_to_file(self,save_file):\n",
    "        torch.save(self.data_store, save_file)"
   ]
  },
  {
   "cell_type": "markdown",
   "id": "b73a4846",
   "metadata": {},
   "source": [
    "# **Training**"
   ]
  },
  {
   "cell_type": "code",
   "execution_count": 5,
   "id": "c8282299",
   "metadata": {
    "executionInfo": {
     "elapsed": 4,
     "status": "ok",
     "timestamp": 1647423034663,
     "user": {
      "displayName": "Fiorella Artuso",
      "photoUrl": "https://lh3.googleusercontent.com/a-/AOh14GjI7BMbitgM7kg91MwWnCqwXuMuekaCgxsQRH2b=s64",
      "userId": "16421204404765857445"
     },
     "user_tz": -60
    },
    "id": "6341a645"
   },
   "outputs": [],
   "source": [
    "from_scratch = True\n",
    "\n",
    "#if from_scratch:\n",
    "LEARNING_RATE = 0.00001\n",
    "#else:\n",
    "#    LEARNING_RATE = 0.00001\n",
    "\n",
    "NUM_TRAIN_EPOCHS = 20\n",
    "PER_DEVICE_TRAIN_BATCH_SIZE = 32\n",
    "PER_DEVICE_EVAL_BATCH_SIZE = 32\n",
    "DATA_LOADER_NUM_WORKERS = 4\n",
    "PATIENCE = 3\n",
    "\n",
    "#models\n",
    "BXSMAL=\"bert_xsmall\"\n",
    "BSMAL=\"bert_small\"\n",
    "BNORM=\"bert_normal\"\n",
    "BLARG=\"bert_larg\"\n",
    "\n",
    "MODEL=BNORM \n",
    "\n",
    "# Parameter settings -- of default model BSMAL\n",
    "MAX_SEQ_LEN = 512\n",
    "MAX_POSITION_EMBEDDINGS = 514\n",
    "HIDDEN_SIZE = 512\n",
    "INTERMEDIATE_SIZE = 2048\n",
    "NUM_ATTENTION_HEADS = 8\n",
    "NUM_HIDDEN_LAYERS = 12\n",
    "TYPE_VOCAB_SIZE = 2\n",
    "\n",
    "if MODEL == BXSMAL:\n",
    "    MAX_SEQ_LEN = 512\n",
    "    MAX_POSITION_EMBEDDINGS = 514\n",
    "    HIDDEN_SIZE = 128\n",
    "    INTERMEDIATE_SIZE = 1024\n",
    "    NUM_ATTENTION_HEADS = 8\n",
    "    NUM_HIDDEN_LAYERS = 12\n",
    "    TYPE_VOCAB_SIZE = 2\n",
    "\n",
    "if MODEL == BSMAL:\n",
    "    MAX_SEQ_LEN = 512\n",
    "    MAX_POSITION_EMBEDDINGS = 514\n",
    "    HIDDEN_SIZE = 512\n",
    "    INTERMEDIATE_SIZE = 2048\n",
    "    NUM_ATTENTION_HEADS = 8\n",
    "    NUM_HIDDEN_LAYERS = 12\n",
    "    TYPE_VOCAB_SIZE = 2\n",
    "    \n",
    "if MODEL == BNORM:\n",
    "    MAX_SEQ_LEN = 512\n",
    "    MAX_POSITION_EMBEDDINGS = 514\n",
    "    HIDDEN_SIZE = 768\n",
    "    INTERMEDIATE_SIZE = 3072\n",
    "    NUM_ATTENTION_HEADS = 12\n",
    "    NUM_HIDDEN_LAYERS = 12\n",
    "    TYPE_VOCAB_SIZE = 2    \n",
    "    \n",
    "if MODEL == BLARG:\n",
    "    MAX_SEQ_LEN = 512\n",
    "    MAX_POSITION_EMBEDDINGS = 514\n",
    "    HIDDEN_SIZE = 1024\n",
    "    INTERMEDIATE_SIZE = 4096\n",
    "    NUM_ATTENTION_HEADS = 16\n",
    "    NUM_HIDDEN_LAYERS = 24\n",
    "    TYPE_VOCAB_SIZE = 2"
   ]
  },
  {
   "cell_type": "code",
   "execution_count": 6,
   "id": "98ede3d4",
   "metadata": {
    "executionInfo": {
     "elapsed": 3,
     "status": "ok",
     "timestamp": 1647423034663,
     "user": {
      "displayName": "Fiorella Artuso",
      "photoUrl": "https://lh3.googleusercontent.com/a-/AOh14GjI7BMbitgM7kg91MwWnCqwXuMuekaCgxsQRH2b=s64",
      "userId": "16421204404765857445"
     },
     "user_tz": -60
    },
    "id": "a92cd8a0"
   },
   "outputs": [
    {
     "data": {
      "text/plain": [
       "'/home/jovyan/work/olivetree/final_for_paper/tests/compiler_provenance/basic_blocks/finetuned_models/olivetree/normal_optimization_from_scratch'"
      ]
     },
     "execution_count": 6,
     "metadata": {},
     "output_type": "execute_result"
    }
   ],
   "source": [
    "task = \"optimization\"\n",
    "\n",
    "if task == \"compiler\":\n",
    "    labels = ['clang-3.8', 'clang-6.0', 'clang-9', 'gcc-5', 'gcc-7', 'gcc-9', 'icc-21']\n",
    "\n",
    "elif task == \"optimization\":\n",
    "    labels =  ['O0', 'O1', 'O2', 'O3']\n",
    "\n",
    "base_path = \"../../\"\n",
    "prt_model = os.path.join(base_path, \"models\", \"pretraining_model\", \"checkpoint-67246\")\n",
    "train_path = os.path.join(base_path, \"dataset\", \"finetuning_dataset\", \"compiler_provenance\", \"basic_blocks\", \"train_compiler_provenance.csv\")\n",
    "val_path = os.path.join(base_path, \"dataset\", \"finetuning_dataset\", \"compiler_provenance\", \"basic_blocks\", \"val_compiler_provenance.csv\")\n",
    "tokenizer_path = os.path.join(base_path, \"tokenizer\")\n",
    "\n",
    "model_name =  f\"BinBert_{task}\"\n",
    "output_dir = model_path = os.path.join(base_path, \"models\", \"finetuned_models\", \"compiler_provenance\", \"basic_blocks\", model_name)"
   ]
  },
  {
   "cell_type": "code",
   "execution_count": 7,
   "id": "56d6c62f",
   "metadata": {
    "colab": {
     "base_uri": "https://localhost:8080/"
    },
    "executionInfo": {
     "elapsed": 166095,
     "status": "ok",
     "timestamp": 1647423200755,
     "user": {
      "displayName": "Fiorella Artuso",
      "photoUrl": "https://lh3.googleusercontent.com/a-/AOh14GjI7BMbitgM7kg91MwWnCqwXuMuekaCgxsQRH2b=s64",
      "userId": "16421204404765857445"
     },
     "user_tz": -60
    },
    "id": "102b9759",
    "outputId": "09219005-711d-4dcd-8205-3e0bb68dcb86"
   },
   "outputs": [
    {
     "name": "stderr",
     "output_type": "stream",
     "text": [
      "100%|██████████| 65534/65534 [00:15<00:00, 4115.57it/s]\n",
      "100%|██████████| 8192/8192 [00:01<00:00, 4458.24it/s]\n"
     ]
    }
   ],
   "source": [
    "tokenizer = load_tokenizer(tokenizer_path)\n",
    "train_dataset = AsmToSymbolicDataset(train_path, tokenizer, task)\n",
    "val_dataset = AsmToSymbolicDataset(val_path, tokenizer, task)"
   ]
  },
  {
   "cell_type": "code",
   "execution_count": 8,
   "id": "a4aabcbe",
   "metadata": {
    "colab": {
     "base_uri": "https://localhost:8080/"
    },
    "executionInfo": {
     "elapsed": 2079,
     "status": "ok",
     "timestamp": 1647423202821,
     "user": {
      "displayName": "Fiorella Artuso",
      "photoUrl": "https://lh3.googleusercontent.com/a-/AOh14GjI7BMbitgM7kg91MwWnCqwXuMuekaCgxsQRH2b=s64",
      "userId": "16421204404765857445"
     },
     "user_tz": -60
    },
    "id": "312c3d3c",
    "outputId": "1bd00a61-fa01-47a9-b5f2-36f52b32b4fb"
   },
   "outputs": [],
   "source": [
    "if not from_scratch:\n",
    "    model = AutoModelForSequenceClassification.from_pretrained(prt_model, num_labels=len(train_dataset.labels_to_idx))\n",
    "else:\n",
    "    config = BertConfig(\n",
    "                vocab_size = len(tokenizer.vocab),\n",
    "                max_position_embeddings = MAX_POSITION_EMBEDDINGS,\n",
    "                hidden_size = HIDDEN_SIZE,\n",
    "                intermediate_size = INTERMEDIATE_SIZE,\n",
    "                num_attention_heads = NUM_ATTENTION_HEADS,\n",
    "                num_hidden_layers = NUM_HIDDEN_LAYERS,\n",
    "                type_vocab_size = TYPE_VOCAB_SIZE\n",
    "    )\n",
    "    config.num_labels = len(labels)\n",
    "    model = AutoModelForSequenceClassification.from_config(config)"
   ]
  },
  {
   "cell_type": "code",
   "execution_count": 9,
   "id": "6a81537b",
   "metadata": {
    "executionInfo": {
     "elapsed": 7,
     "status": "ok",
     "timestamp": 1647423202823,
     "user": {
      "displayName": "Fiorella Artuso",
      "photoUrl": "https://lh3.googleusercontent.com/a-/AOh14GjI7BMbitgM7kg91MwWnCqwXuMuekaCgxsQRH2b=s64",
      "userId": "16421204404765857445"
     },
     "user_tz": -60
    },
    "id": "44388bf6"
   },
   "outputs": [],
   "source": [
    "training_args = TrainingArguments(\n",
    "                    output_dir = output_dir,\n",
    "                    overwrite_output_dir = True,\n",
    "                    num_train_epochs = NUM_TRAIN_EPOCHS,\n",
    "                    learning_rate = LEARNING_RATE,\n",
    "                    per_device_train_batch_size = PER_DEVICE_TRAIN_BATCH_SIZE,\n",
    "                    save_strategy = 'epoch',\n",
    "                    save_total_limit = 1,\n",
    "                    logging_strategy = 'epoch',\n",
    "                    # prediction_loss_only = True,\n",
    "                    # fp16=True,\n",
    "                    load_best_model_at_end = True,\n",
    "                    do_eval = True,\n",
    "                    evaluation_strategy = 'epoch',\n",
    "                    metric_for_best_model = 'eval_accuracy',\n",
    "                    per_device_eval_batch_size = PER_DEVICE_EVAL_BATCH_SIZE,\n",
    "                    dataloader_num_workers = DATA_LOADER_NUM_WORKERS)"
   ]
  },
  {
   "cell_type": "code",
   "execution_count": 10,
   "id": "0653fa6b",
   "metadata": {
    "executionInfo": {
     "elapsed": 7,
     "status": "ok",
     "timestamp": 1647423202824,
     "user": {
      "displayName": "Fiorella Artuso",
      "photoUrl": "https://lh3.googleusercontent.com/a-/AOh14GjI7BMbitgM7kg91MwWnCqwXuMuekaCgxsQRH2b=s64",
      "userId": "16421204404765857445"
     },
     "user_tz": -60
    },
    "id": "9ddd4097"
   },
   "outputs": [],
   "source": [
    "collator = DataCollatorWithPadding(tokenizer, padding=True)"
   ]
  },
  {
   "cell_type": "code",
   "execution_count": 11,
   "id": "0c2e69e4",
   "metadata": {
    "executionInfo": {
     "elapsed": 1043,
     "status": "ok",
     "timestamp": 1647423203861,
     "user": {
      "displayName": "Fiorella Artuso",
      "photoUrl": "https://lh3.googleusercontent.com/a-/AOh14GjI7BMbitgM7kg91MwWnCqwXuMuekaCgxsQRH2b=s64",
      "userId": "16421204404765857445"
     },
     "user_tz": -60
    },
    "id": "bfc4570b"
   },
   "outputs": [],
   "source": [
    "metric = load_metric(\"accuracy\")"
   ]
  },
  {
   "cell_type": "code",
   "execution_count": 12,
   "id": "6ca67911",
   "metadata": {
    "executionInfo": {
     "elapsed": 8,
     "status": "ok",
     "timestamp": 1647423203862,
     "user": {
      "displayName": "Fiorella Artuso",
      "photoUrl": "https://lh3.googleusercontent.com/a-/AOh14GjI7BMbitgM7kg91MwWnCqwXuMuekaCgxsQRH2b=s64",
      "userId": "16421204404765857445"
     },
     "user_tz": -60
    },
    "id": "faeacf91"
   },
   "outputs": [],
   "source": [
    "def compute_metrics(eval_pred):\n",
    "    logits, labels = eval_pred\n",
    "    predictions = np.argmax(logits, axis=-1)\n",
    "    return metric.compute(predictions=predictions, references=labels)"
   ]
  },
  {
   "cell_type": "code",
   "execution_count": 13,
   "id": "bf898411",
   "metadata": {
    "executionInfo": {
     "elapsed": 3220,
     "status": "ok",
     "timestamp": 1647423207077,
     "user": {
      "displayName": "Fiorella Artuso",
      "photoUrl": "https://lh3.googleusercontent.com/a-/AOh14GjI7BMbitgM7kg91MwWnCqwXuMuekaCgxsQRH2b=s64",
      "userId": "16421204404765857445"
     },
     "user_tz": -60
    },
    "id": "ecf83ba2"
   },
   "outputs": [],
   "source": [
    "trainer = Trainer(\n",
    "    model=model,\n",
    "    args=training_args,\n",
    "    train_dataset=train_dataset,\n",
    "    eval_dataset=val_dataset,\n",
    "    data_collator = collator,\n",
    "    compute_metrics=compute_metrics,\n",
    "    # callbacks = [EarlyStoppingCallback(early_stopping_patience=PATIENCE)]\n",
    ")"
   ]
  },
  {
   "cell_type": "code",
   "execution_count": 14,
   "id": "9e2fa64b",
   "metadata": {
    "colab": {
     "base_uri": "https://localhost:8080/",
     "height": 545
    },
    "executionInfo": {
     "elapsed": 563111,
     "status": "error",
     "timestamp": 1647423770176,
     "user": {
      "displayName": "Fiorella Artuso",
      "photoUrl": "https://lh3.googleusercontent.com/a-/AOh14GjI7BMbitgM7kg91MwWnCqwXuMuekaCgxsQRH2b=s64",
      "userId": "16421204404765857445"
     },
     "user_tz": -60
    },
    "id": "11dd32ae",
    "outputId": "545103f0-df4a-4d89-8389-7271c26384dd",
    "tags": []
   },
   "outputs": [
    {
     "name": "stderr",
     "output_type": "stream",
     "text": [
      "/opt/conda/lib/python3.8/site-packages/transformers/optimization.py:306: FutureWarning: This implementation of AdamW is deprecated and will be removed in a future version. Use thePyTorch implementation torch.optim.AdamW instead, or set `no_deprecation_warning=True` to disable this warning\n",
      "  warnings.warn(\n",
      "***** Running training *****\n",
      "  Num examples = 65534\n",
      "  Num Epochs = 20\n",
      "  Instantaneous batch size per device = 32\n",
      "  Total train batch size (w. parallel, distributed & accumulation) = 64\n",
      "  Gradient Accumulation steps = 1\n",
      "  Total optimization steps = 20480\n",
      "/opt/conda/lib/python3.8/site-packages/torch/nn/parallel/_functions.py:68: UserWarning: Was asked to gather along dimension 0, but all input tensors were scalars; will instead unsqueeze and return a vector.\n",
      "  warnings.warn('Was asked to gather along dimension 0, but all '\n"
     ]
    },
    {
     "data": {
      "text/html": [
       "\n",
       "    <div>\n",
       "      \n",
       "      <progress value='20480' max='20480' style='width:300px; height:20px; vertical-align: middle;'></progress>\n",
       "      [20480/20480 1:37:17, Epoch 20/20]\n",
       "    </div>\n",
       "    <table border=\"1\" class=\"dataframe\">\n",
       "  <thead>\n",
       " <tr style=\"text-align: left;\">\n",
       "      <th>Epoch</th>\n",
       "      <th>Training Loss</th>\n",
       "      <th>Validation Loss</th>\n",
       "      <th>Accuracy</th>\n",
       "    </tr>\n",
       "  </thead>\n",
       "  <tbody>\n",
       "    <tr>\n",
       "      <td>1</td>\n",
       "      <td>0.944900</td>\n",
       "      <td>0.964762</td>\n",
       "      <td>0.565186</td>\n",
       "    </tr>\n",
       "    <tr>\n",
       "      <td>2</td>\n",
       "      <td>0.887000</td>\n",
       "      <td>0.859737</td>\n",
       "      <td>0.603638</td>\n",
       "    </tr>\n",
       "    <tr>\n",
       "      <td>3</td>\n",
       "      <td>0.855900</td>\n",
       "      <td>0.853082</td>\n",
       "      <td>0.624146</td>\n",
       "    </tr>\n",
       "    <tr>\n",
       "      <td>4</td>\n",
       "      <td>0.832800</td>\n",
       "      <td>0.828933</td>\n",
       "      <td>0.629883</td>\n",
       "    </tr>\n",
       "    <tr>\n",
       "      <td>5</td>\n",
       "      <td>0.811200</td>\n",
       "      <td>0.823864</td>\n",
       "      <td>0.625610</td>\n",
       "    </tr>\n",
       "    <tr>\n",
       "      <td>6</td>\n",
       "      <td>0.793200</td>\n",
       "      <td>0.794993</td>\n",
       "      <td>0.636719</td>\n",
       "    </tr>\n",
       "    <tr>\n",
       "      <td>7</td>\n",
       "      <td>0.775600</td>\n",
       "      <td>0.796446</td>\n",
       "      <td>0.638184</td>\n",
       "    </tr>\n",
       "    <tr>\n",
       "      <td>8</td>\n",
       "      <td>0.759400</td>\n",
       "      <td>0.774787</td>\n",
       "      <td>0.641113</td>\n",
       "    </tr>\n",
       "    <tr>\n",
       "      <td>9</td>\n",
       "      <td>0.745700</td>\n",
       "      <td>0.779421</td>\n",
       "      <td>0.635986</td>\n",
       "    </tr>\n",
       "    <tr>\n",
       "      <td>10</td>\n",
       "      <td>0.732500</td>\n",
       "      <td>0.775821</td>\n",
       "      <td>0.637695</td>\n",
       "    </tr>\n",
       "    <tr>\n",
       "      <td>11</td>\n",
       "      <td>0.718400</td>\n",
       "      <td>0.766728</td>\n",
       "      <td>0.648071</td>\n",
       "    </tr>\n",
       "    <tr>\n",
       "      <td>12</td>\n",
       "      <td>0.705000</td>\n",
       "      <td>0.767104</td>\n",
       "      <td>0.648071</td>\n",
       "    </tr>\n",
       "    <tr>\n",
       "      <td>13</td>\n",
       "      <td>0.692400</td>\n",
       "      <td>0.777579</td>\n",
       "      <td>0.645020</td>\n",
       "    </tr>\n",
       "    <tr>\n",
       "      <td>14</td>\n",
       "      <td>0.684900</td>\n",
       "      <td>0.755605</td>\n",
       "      <td>0.648682</td>\n",
       "    </tr>\n",
       "    <tr>\n",
       "      <td>15</td>\n",
       "      <td>0.672500</td>\n",
       "      <td>0.746592</td>\n",
       "      <td>0.648193</td>\n",
       "    </tr>\n",
       "    <tr>\n",
       "      <td>16</td>\n",
       "      <td>0.664100</td>\n",
       "      <td>0.767272</td>\n",
       "      <td>0.652832</td>\n",
       "    </tr>\n",
       "    <tr>\n",
       "      <td>17</td>\n",
       "      <td>0.655100</td>\n",
       "      <td>0.765642</td>\n",
       "      <td>0.646729</td>\n",
       "    </tr>\n",
       "    <tr>\n",
       "      <td>18</td>\n",
       "      <td>0.647900</td>\n",
       "      <td>0.762516</td>\n",
       "      <td>0.651245</td>\n",
       "    </tr>\n",
       "    <tr>\n",
       "      <td>19</td>\n",
       "      <td>0.640400</td>\n",
       "      <td>0.764253</td>\n",
       "      <td>0.651367</td>\n",
       "    </tr>\n",
       "    <tr>\n",
       "      <td>20</td>\n",
       "      <td>0.636200</td>\n",
       "      <td>0.763923</td>\n",
       "      <td>0.650513</td>\n",
       "    </tr>\n",
       "  </tbody>\n",
       "</table><p>"
      ],
      "text/plain": [
       "<IPython.core.display.HTML object>"
      ]
     },
     "metadata": {},
     "output_type": "display_data"
    },
    {
     "name": "stderr",
     "output_type": "stream",
     "text": [
      "***** Running Evaluation *****\n",
      "  Num examples = 8192\n",
      "  Batch size = 64\n",
      "Saving model checkpoint to /home/jovyan/work/olivetree/final_for_paper/tests/compiler_provenance/basic_blocks/finetuned_models/olivetree/normal_optimization_from_scratch/checkpoint-1024\n",
      "Configuration saved in /home/jovyan/work/olivetree/final_for_paper/tests/compiler_provenance/basic_blocks/finetuned_models/olivetree/normal_optimization_from_scratch/checkpoint-1024/config.json\n",
      "Model weights saved in /home/jovyan/work/olivetree/final_for_paper/tests/compiler_provenance/basic_blocks/finetuned_models/olivetree/normal_optimization_from_scratch/checkpoint-1024/pytorch_model.bin\n",
      "/opt/conda/lib/python3.8/site-packages/torch/nn/parallel/_functions.py:68: UserWarning: Was asked to gather along dimension 0, but all input tensors were scalars; will instead unsqueeze and return a vector.\n",
      "  warnings.warn('Was asked to gather along dimension 0, but all '\n",
      "***** Running Evaluation *****\n",
      "  Num examples = 8192\n",
      "  Batch size = 64\n",
      "Saving model checkpoint to /home/jovyan/work/olivetree/final_for_paper/tests/compiler_provenance/basic_blocks/finetuned_models/olivetree/normal_optimization_from_scratch/checkpoint-2048\n",
      "Configuration saved in /home/jovyan/work/olivetree/final_for_paper/tests/compiler_provenance/basic_blocks/finetuned_models/olivetree/normal_optimization_from_scratch/checkpoint-2048/config.json\n",
      "Model weights saved in /home/jovyan/work/olivetree/final_for_paper/tests/compiler_provenance/basic_blocks/finetuned_models/olivetree/normal_optimization_from_scratch/checkpoint-2048/pytorch_model.bin\n",
      "Deleting older checkpoint [/home/jovyan/work/olivetree/final_for_paper/tests/compiler_provenance/basic_blocks/finetuned_models/olivetree/normal_optimization_from_scratch/checkpoint-1024] due to args.save_total_limit\n",
      "/opt/conda/lib/python3.8/site-packages/torch/nn/parallel/_functions.py:68: UserWarning: Was asked to gather along dimension 0, but all input tensors were scalars; will instead unsqueeze and return a vector.\n",
      "  warnings.warn('Was asked to gather along dimension 0, but all '\n",
      "***** Running Evaluation *****\n",
      "  Num examples = 8192\n",
      "  Batch size = 64\n",
      "Saving model checkpoint to /home/jovyan/work/olivetree/final_for_paper/tests/compiler_provenance/basic_blocks/finetuned_models/olivetree/normal_optimization_from_scratch/checkpoint-3072\n",
      "Configuration saved in /home/jovyan/work/olivetree/final_for_paper/tests/compiler_provenance/basic_blocks/finetuned_models/olivetree/normal_optimization_from_scratch/checkpoint-3072/config.json\n",
      "Model weights saved in /home/jovyan/work/olivetree/final_for_paper/tests/compiler_provenance/basic_blocks/finetuned_models/olivetree/normal_optimization_from_scratch/checkpoint-3072/pytorch_model.bin\n",
      "Deleting older checkpoint [/home/jovyan/work/olivetree/final_for_paper/tests/compiler_provenance/basic_blocks/finetuned_models/olivetree/normal_optimization_from_scratch/checkpoint-2048] due to args.save_total_limit\n",
      "/opt/conda/lib/python3.8/site-packages/torch/nn/parallel/_functions.py:68: UserWarning: Was asked to gather along dimension 0, but all input tensors were scalars; will instead unsqueeze and return a vector.\n",
      "  warnings.warn('Was asked to gather along dimension 0, but all '\n",
      "***** Running Evaluation *****\n",
      "  Num examples = 8192\n",
      "  Batch size = 64\n",
      "Saving model checkpoint to /home/jovyan/work/olivetree/final_for_paper/tests/compiler_provenance/basic_blocks/finetuned_models/olivetree/normal_optimization_from_scratch/checkpoint-4096\n",
      "Configuration saved in /home/jovyan/work/olivetree/final_for_paper/tests/compiler_provenance/basic_blocks/finetuned_models/olivetree/normal_optimization_from_scratch/checkpoint-4096/config.json\n",
      "Model weights saved in /home/jovyan/work/olivetree/final_for_paper/tests/compiler_provenance/basic_blocks/finetuned_models/olivetree/normal_optimization_from_scratch/checkpoint-4096/pytorch_model.bin\n",
      "Deleting older checkpoint [/home/jovyan/work/olivetree/final_for_paper/tests/compiler_provenance/basic_blocks/finetuned_models/olivetree/normal_optimization_from_scratch/checkpoint-3072] due to args.save_total_limit\n",
      "/opt/conda/lib/python3.8/site-packages/torch/nn/parallel/_functions.py:68: UserWarning: Was asked to gather along dimension 0, but all input tensors were scalars; will instead unsqueeze and return a vector.\n",
      "  warnings.warn('Was asked to gather along dimension 0, but all '\n",
      "***** Running Evaluation *****\n",
      "  Num examples = 8192\n",
      "  Batch size = 64\n",
      "Saving model checkpoint to /home/jovyan/work/olivetree/final_for_paper/tests/compiler_provenance/basic_blocks/finetuned_models/olivetree/normal_optimization_from_scratch/checkpoint-5120\n",
      "Configuration saved in /home/jovyan/work/olivetree/final_for_paper/tests/compiler_provenance/basic_blocks/finetuned_models/olivetree/normal_optimization_from_scratch/checkpoint-5120/config.json\n",
      "Model weights saved in /home/jovyan/work/olivetree/final_for_paper/tests/compiler_provenance/basic_blocks/finetuned_models/olivetree/normal_optimization_from_scratch/checkpoint-5120/pytorch_model.bin\n",
      "/opt/conda/lib/python3.8/site-packages/torch/nn/parallel/_functions.py:68: UserWarning: Was asked to gather along dimension 0, but all input tensors were scalars; will instead unsqueeze and return a vector.\n",
      "  warnings.warn('Was asked to gather along dimension 0, but all '\n",
      "***** Running Evaluation *****\n",
      "  Num examples = 8192\n",
      "  Batch size = 64\n",
      "Saving model checkpoint to /home/jovyan/work/olivetree/final_for_paper/tests/compiler_provenance/basic_blocks/finetuned_models/olivetree/normal_optimization_from_scratch/checkpoint-6144\n",
      "Configuration saved in /home/jovyan/work/olivetree/final_for_paper/tests/compiler_provenance/basic_blocks/finetuned_models/olivetree/normal_optimization_from_scratch/checkpoint-6144/config.json\n",
      "Model weights saved in /home/jovyan/work/olivetree/final_for_paper/tests/compiler_provenance/basic_blocks/finetuned_models/olivetree/normal_optimization_from_scratch/checkpoint-6144/pytorch_model.bin\n",
      "Deleting older checkpoint [/home/jovyan/work/olivetree/final_for_paper/tests/compiler_provenance/basic_blocks/finetuned_models/olivetree/normal_optimization_from_scratch/checkpoint-4096] due to args.save_total_limit\n",
      "Deleting older checkpoint [/home/jovyan/work/olivetree/final_for_paper/tests/compiler_provenance/basic_blocks/finetuned_models/olivetree/normal_optimization_from_scratch/checkpoint-5120] due to args.save_total_limit\n",
      "/opt/conda/lib/python3.8/site-packages/torch/nn/parallel/_functions.py:68: UserWarning: Was asked to gather along dimension 0, but all input tensors were scalars; will instead unsqueeze and return a vector.\n",
      "  warnings.warn('Was asked to gather along dimension 0, but all '\n",
      "***** Running Evaluation *****\n",
      "  Num examples = 8192\n",
      "  Batch size = 64\n",
      "Saving model checkpoint to /home/jovyan/work/olivetree/final_for_paper/tests/compiler_provenance/basic_blocks/finetuned_models/olivetree/normal_optimization_from_scratch/checkpoint-7168\n",
      "Configuration saved in /home/jovyan/work/olivetree/final_for_paper/tests/compiler_provenance/basic_blocks/finetuned_models/olivetree/normal_optimization_from_scratch/checkpoint-7168/config.json\n",
      "Model weights saved in /home/jovyan/work/olivetree/final_for_paper/tests/compiler_provenance/basic_blocks/finetuned_models/olivetree/normal_optimization_from_scratch/checkpoint-7168/pytorch_model.bin\n",
      "Deleting older checkpoint [/home/jovyan/work/olivetree/final_for_paper/tests/compiler_provenance/basic_blocks/finetuned_models/olivetree/normal_optimization_from_scratch/checkpoint-6144] due to args.save_total_limit\n",
      "/opt/conda/lib/python3.8/site-packages/torch/nn/parallel/_functions.py:68: UserWarning: Was asked to gather along dimension 0, but all input tensors were scalars; will instead unsqueeze and return a vector.\n",
      "  warnings.warn('Was asked to gather along dimension 0, but all '\n",
      "***** Running Evaluation *****\n",
      "  Num examples = 8192\n",
      "  Batch size = 64\n",
      "Saving model checkpoint to /home/jovyan/work/olivetree/final_for_paper/tests/compiler_provenance/basic_blocks/finetuned_models/olivetree/normal_optimization_from_scratch/checkpoint-8192\n",
      "Configuration saved in /home/jovyan/work/olivetree/final_for_paper/tests/compiler_provenance/basic_blocks/finetuned_models/olivetree/normal_optimization_from_scratch/checkpoint-8192/config.json\n",
      "Model weights saved in /home/jovyan/work/olivetree/final_for_paper/tests/compiler_provenance/basic_blocks/finetuned_models/olivetree/normal_optimization_from_scratch/checkpoint-8192/pytorch_model.bin\n",
      "Deleting older checkpoint [/home/jovyan/work/olivetree/final_for_paper/tests/compiler_provenance/basic_blocks/finetuned_models/olivetree/normal_optimization_from_scratch/checkpoint-7168] due to args.save_total_limit\n",
      "/opt/conda/lib/python3.8/site-packages/torch/nn/parallel/_functions.py:68: UserWarning: Was asked to gather along dimension 0, but all input tensors were scalars; will instead unsqueeze and return a vector.\n",
      "  warnings.warn('Was asked to gather along dimension 0, but all '\n",
      "***** Running Evaluation *****\n",
      "  Num examples = 8192\n",
      "  Batch size = 64\n",
      "Saving model checkpoint to /home/jovyan/work/olivetree/final_for_paper/tests/compiler_provenance/basic_blocks/finetuned_models/olivetree/normal_optimization_from_scratch/checkpoint-9216\n",
      "Configuration saved in /home/jovyan/work/olivetree/final_for_paper/tests/compiler_provenance/basic_blocks/finetuned_models/olivetree/normal_optimization_from_scratch/checkpoint-9216/config.json\n",
      "Model weights saved in /home/jovyan/work/olivetree/final_for_paper/tests/compiler_provenance/basic_blocks/finetuned_models/olivetree/normal_optimization_from_scratch/checkpoint-9216/pytorch_model.bin\n",
      "/opt/conda/lib/python3.8/site-packages/torch/nn/parallel/_functions.py:68: UserWarning: Was asked to gather along dimension 0, but all input tensors were scalars; will instead unsqueeze and return a vector.\n",
      "  warnings.warn('Was asked to gather along dimension 0, but all '\n",
      "***** Running Evaluation *****\n",
      "  Num examples = 8192\n",
      "  Batch size = 64\n",
      "Saving model checkpoint to /home/jovyan/work/olivetree/final_for_paper/tests/compiler_provenance/basic_blocks/finetuned_models/olivetree/normal_optimization_from_scratch/checkpoint-10240\n",
      "Configuration saved in /home/jovyan/work/olivetree/final_for_paper/tests/compiler_provenance/basic_blocks/finetuned_models/olivetree/normal_optimization_from_scratch/checkpoint-10240/config.json\n",
      "Model weights saved in /home/jovyan/work/olivetree/final_for_paper/tests/compiler_provenance/basic_blocks/finetuned_models/olivetree/normal_optimization_from_scratch/checkpoint-10240/pytorch_model.bin\n",
      "Deleting older checkpoint [/home/jovyan/work/olivetree/final_for_paper/tests/compiler_provenance/basic_blocks/finetuned_models/olivetree/normal_optimization_from_scratch/checkpoint-9216] due to args.save_total_limit\n",
      "/opt/conda/lib/python3.8/site-packages/torch/nn/parallel/_functions.py:68: UserWarning: Was asked to gather along dimension 0, but all input tensors were scalars; will instead unsqueeze and return a vector.\n",
      "  warnings.warn('Was asked to gather along dimension 0, but all '\n",
      "***** Running Evaluation *****\n",
      "  Num examples = 8192\n",
      "  Batch size = 64\n",
      "Saving model checkpoint to /home/jovyan/work/olivetree/final_for_paper/tests/compiler_provenance/basic_blocks/finetuned_models/olivetree/normal_optimization_from_scratch/checkpoint-11264\n",
      "Configuration saved in /home/jovyan/work/olivetree/final_for_paper/tests/compiler_provenance/basic_blocks/finetuned_models/olivetree/normal_optimization_from_scratch/checkpoint-11264/config.json\n",
      "Model weights saved in /home/jovyan/work/olivetree/final_for_paper/tests/compiler_provenance/basic_blocks/finetuned_models/olivetree/normal_optimization_from_scratch/checkpoint-11264/pytorch_model.bin\n",
      "Deleting older checkpoint [/home/jovyan/work/olivetree/final_for_paper/tests/compiler_provenance/basic_blocks/finetuned_models/olivetree/normal_optimization_from_scratch/checkpoint-8192] due to args.save_total_limit\n",
      "Deleting older checkpoint [/home/jovyan/work/olivetree/final_for_paper/tests/compiler_provenance/basic_blocks/finetuned_models/olivetree/normal_optimization_from_scratch/checkpoint-10240] due to args.save_total_limit\n",
      "/opt/conda/lib/python3.8/site-packages/torch/nn/parallel/_functions.py:68: UserWarning: Was asked to gather along dimension 0, but all input tensors were scalars; will instead unsqueeze and return a vector.\n",
      "  warnings.warn('Was asked to gather along dimension 0, but all '\n",
      "***** Running Evaluation *****\n",
      "  Num examples = 8192\n",
      "  Batch size = 64\n",
      "Saving model checkpoint to /home/jovyan/work/olivetree/final_for_paper/tests/compiler_provenance/basic_blocks/finetuned_models/olivetree/normal_optimization_from_scratch/checkpoint-12288\n",
      "Configuration saved in /home/jovyan/work/olivetree/final_for_paper/tests/compiler_provenance/basic_blocks/finetuned_models/olivetree/normal_optimization_from_scratch/checkpoint-12288/config.json\n",
      "Model weights saved in /home/jovyan/work/olivetree/final_for_paper/tests/compiler_provenance/basic_blocks/finetuned_models/olivetree/normal_optimization_from_scratch/checkpoint-12288/pytorch_model.bin\n",
      "/opt/conda/lib/python3.8/site-packages/torch/nn/parallel/_functions.py:68: UserWarning: Was asked to gather along dimension 0, but all input tensors were scalars; will instead unsqueeze and return a vector.\n",
      "  warnings.warn('Was asked to gather along dimension 0, but all '\n",
      "***** Running Evaluation *****\n",
      "  Num examples = 8192\n",
      "  Batch size = 64\n",
      "Saving model checkpoint to /home/jovyan/work/olivetree/final_for_paper/tests/compiler_provenance/basic_blocks/finetuned_models/olivetree/normal_optimization_from_scratch/checkpoint-13312\n",
      "Configuration saved in /home/jovyan/work/olivetree/final_for_paper/tests/compiler_provenance/basic_blocks/finetuned_models/olivetree/normal_optimization_from_scratch/checkpoint-13312/config.json\n",
      "Model weights saved in /home/jovyan/work/olivetree/final_for_paper/tests/compiler_provenance/basic_blocks/finetuned_models/olivetree/normal_optimization_from_scratch/checkpoint-13312/pytorch_model.bin\n",
      "Deleting older checkpoint [/home/jovyan/work/olivetree/final_for_paper/tests/compiler_provenance/basic_blocks/finetuned_models/olivetree/normal_optimization_from_scratch/checkpoint-12288] due to args.save_total_limit\n",
      "/opt/conda/lib/python3.8/site-packages/torch/nn/parallel/_functions.py:68: UserWarning: Was asked to gather along dimension 0, but all input tensors were scalars; will instead unsqueeze and return a vector.\n",
      "  warnings.warn('Was asked to gather along dimension 0, but all '\n",
      "***** Running Evaluation *****\n",
      "  Num examples = 8192\n",
      "  Batch size = 64\n",
      "Saving model checkpoint to /home/jovyan/work/olivetree/final_for_paper/tests/compiler_provenance/basic_blocks/finetuned_models/olivetree/normal_optimization_from_scratch/checkpoint-14336\n",
      "Configuration saved in /home/jovyan/work/olivetree/final_for_paper/tests/compiler_provenance/basic_blocks/finetuned_models/olivetree/normal_optimization_from_scratch/checkpoint-14336/config.json\n",
      "Model weights saved in /home/jovyan/work/olivetree/final_for_paper/tests/compiler_provenance/basic_blocks/finetuned_models/olivetree/normal_optimization_from_scratch/checkpoint-14336/pytorch_model.bin\n",
      "Deleting older checkpoint [/home/jovyan/work/olivetree/final_for_paper/tests/compiler_provenance/basic_blocks/finetuned_models/olivetree/normal_optimization_from_scratch/checkpoint-11264] due to args.save_total_limit\n",
      "Deleting older checkpoint [/home/jovyan/work/olivetree/final_for_paper/tests/compiler_provenance/basic_blocks/finetuned_models/olivetree/normal_optimization_from_scratch/checkpoint-13312] due to args.save_total_limit\n",
      "/opt/conda/lib/python3.8/site-packages/torch/nn/parallel/_functions.py:68: UserWarning: Was asked to gather along dimension 0, but all input tensors were scalars; will instead unsqueeze and return a vector.\n",
      "  warnings.warn('Was asked to gather along dimension 0, but all '\n",
      "***** Running Evaluation *****\n",
      "  Num examples = 8192\n",
      "  Batch size = 64\n",
      "Saving model checkpoint to /home/jovyan/work/olivetree/final_for_paper/tests/compiler_provenance/basic_blocks/finetuned_models/olivetree/normal_optimization_from_scratch/checkpoint-15360\n",
      "Configuration saved in /home/jovyan/work/olivetree/final_for_paper/tests/compiler_provenance/basic_blocks/finetuned_models/olivetree/normal_optimization_from_scratch/checkpoint-15360/config.json\n",
      "Model weights saved in /home/jovyan/work/olivetree/final_for_paper/tests/compiler_provenance/basic_blocks/finetuned_models/olivetree/normal_optimization_from_scratch/checkpoint-15360/pytorch_model.bin\n",
      "/opt/conda/lib/python3.8/site-packages/torch/nn/parallel/_functions.py:68: UserWarning: Was asked to gather along dimension 0, but all input tensors were scalars; will instead unsqueeze and return a vector.\n",
      "  warnings.warn('Was asked to gather along dimension 0, but all '\n",
      "***** Running Evaluation *****\n",
      "  Num examples = 8192\n",
      "  Batch size = 64\n",
      "Saving model checkpoint to /home/jovyan/work/olivetree/final_for_paper/tests/compiler_provenance/basic_blocks/finetuned_models/olivetree/normal_optimization_from_scratch/checkpoint-16384\n",
      "Configuration saved in /home/jovyan/work/olivetree/final_for_paper/tests/compiler_provenance/basic_blocks/finetuned_models/olivetree/normal_optimization_from_scratch/checkpoint-16384/config.json\n",
      "Model weights saved in /home/jovyan/work/olivetree/final_for_paper/tests/compiler_provenance/basic_blocks/finetuned_models/olivetree/normal_optimization_from_scratch/checkpoint-16384/pytorch_model.bin\n",
      "Deleting older checkpoint [/home/jovyan/work/olivetree/final_for_paper/tests/compiler_provenance/basic_blocks/finetuned_models/olivetree/normal_optimization_from_scratch/checkpoint-14336] due to args.save_total_limit\n",
      "Deleting older checkpoint [/home/jovyan/work/olivetree/final_for_paper/tests/compiler_provenance/basic_blocks/finetuned_models/olivetree/normal_optimization_from_scratch/checkpoint-15360] due to args.save_total_limit\n",
      "/opt/conda/lib/python3.8/site-packages/torch/nn/parallel/_functions.py:68: UserWarning: Was asked to gather along dimension 0, but all input tensors were scalars; will instead unsqueeze and return a vector.\n",
      "  warnings.warn('Was asked to gather along dimension 0, but all '\n",
      "***** Running Evaluation *****\n",
      "  Num examples = 8192\n",
      "  Batch size = 64\n",
      "Saving model checkpoint to /home/jovyan/work/olivetree/final_for_paper/tests/compiler_provenance/basic_blocks/finetuned_models/olivetree/normal_optimization_from_scratch/checkpoint-17408\n",
      "Configuration saved in /home/jovyan/work/olivetree/final_for_paper/tests/compiler_provenance/basic_blocks/finetuned_models/olivetree/normal_optimization_from_scratch/checkpoint-17408/config.json\n",
      "Model weights saved in /home/jovyan/work/olivetree/final_for_paper/tests/compiler_provenance/basic_blocks/finetuned_models/olivetree/normal_optimization_from_scratch/checkpoint-17408/pytorch_model.bin\n",
      "/opt/conda/lib/python3.8/site-packages/torch/nn/parallel/_functions.py:68: UserWarning: Was asked to gather along dimension 0, but all input tensors were scalars; will instead unsqueeze and return a vector.\n",
      "  warnings.warn('Was asked to gather along dimension 0, but all '\n",
      "***** Running Evaluation *****\n",
      "  Num examples = 8192\n",
      "  Batch size = 64\n",
      "Saving model checkpoint to /home/jovyan/work/olivetree/final_for_paper/tests/compiler_provenance/basic_blocks/finetuned_models/olivetree/normal_optimization_from_scratch/checkpoint-18432\n",
      "Configuration saved in /home/jovyan/work/olivetree/final_for_paper/tests/compiler_provenance/basic_blocks/finetuned_models/olivetree/normal_optimization_from_scratch/checkpoint-18432/config.json\n",
      "Model weights saved in /home/jovyan/work/olivetree/final_for_paper/tests/compiler_provenance/basic_blocks/finetuned_models/olivetree/normal_optimization_from_scratch/checkpoint-18432/pytorch_model.bin\n",
      "Deleting older checkpoint [/home/jovyan/work/olivetree/final_for_paper/tests/compiler_provenance/basic_blocks/finetuned_models/olivetree/normal_optimization_from_scratch/checkpoint-17408] due to args.save_total_limit\n",
      "/opt/conda/lib/python3.8/site-packages/torch/nn/parallel/_functions.py:68: UserWarning: Was asked to gather along dimension 0, but all input tensors were scalars; will instead unsqueeze and return a vector.\n",
      "  warnings.warn('Was asked to gather along dimension 0, but all '\n",
      "***** Running Evaluation *****\n",
      "  Num examples = 8192\n",
      "  Batch size = 64\n",
      "Saving model checkpoint to /home/jovyan/work/olivetree/final_for_paper/tests/compiler_provenance/basic_blocks/finetuned_models/olivetree/normal_optimization_from_scratch/checkpoint-19456\n",
      "Configuration saved in /home/jovyan/work/olivetree/final_for_paper/tests/compiler_provenance/basic_blocks/finetuned_models/olivetree/normal_optimization_from_scratch/checkpoint-19456/config.json\n",
      "Model weights saved in /home/jovyan/work/olivetree/final_for_paper/tests/compiler_provenance/basic_blocks/finetuned_models/olivetree/normal_optimization_from_scratch/checkpoint-19456/pytorch_model.bin\n",
      "Deleting older checkpoint [/home/jovyan/work/olivetree/final_for_paper/tests/compiler_provenance/basic_blocks/finetuned_models/olivetree/normal_optimization_from_scratch/checkpoint-18432] due to args.save_total_limit\n",
      "/opt/conda/lib/python3.8/site-packages/torch/nn/parallel/_functions.py:68: UserWarning: Was asked to gather along dimension 0, but all input tensors were scalars; will instead unsqueeze and return a vector.\n",
      "  warnings.warn('Was asked to gather along dimension 0, but all '\n",
      "***** Running Evaluation *****\n",
      "  Num examples = 8192\n",
      "  Batch size = 64\n",
      "Saving model checkpoint to /home/jovyan/work/olivetree/final_for_paper/tests/compiler_provenance/basic_blocks/finetuned_models/olivetree/normal_optimization_from_scratch/checkpoint-20480\n",
      "Configuration saved in /home/jovyan/work/olivetree/final_for_paper/tests/compiler_provenance/basic_blocks/finetuned_models/olivetree/normal_optimization_from_scratch/checkpoint-20480/config.json\n",
      "Model weights saved in /home/jovyan/work/olivetree/final_for_paper/tests/compiler_provenance/basic_blocks/finetuned_models/olivetree/normal_optimization_from_scratch/checkpoint-20480/pytorch_model.bin\n",
      "Deleting older checkpoint [/home/jovyan/work/olivetree/final_for_paper/tests/compiler_provenance/basic_blocks/finetuned_models/olivetree/normal_optimization_from_scratch/checkpoint-19456] due to args.save_total_limit\n",
      "\n",
      "\n",
      "Training completed. Do not forget to share your model on huggingface.co/models =)\n",
      "\n",
      "\n",
      "Loading best model from /home/jovyan/work/olivetree/final_for_paper/tests/compiler_provenance/basic_blocks/finetuned_models/olivetree/normal_optimization_from_scratch/checkpoint-16384 (score: 0.65283203125).\n"
     ]
    },
    {
     "data": {
      "text/plain": [
       "TrainOutput(global_step=20480, training_loss=0.7427541732788085, metrics={'train_runtime': 5844.114, 'train_samples_per_second': 224.274, 'train_steps_per_second': 3.504, 'total_flos': 3.0884127988307814e+17, 'train_loss': 0.7427541732788085, 'epoch': 20.0})"
      ]
     },
     "execution_count": 14,
     "metadata": {},
     "output_type": "execute_result"
    }
   ],
   "source": [
    "trainer.train()"
   ]
  },
  {
   "cell_type": "markdown",
   "id": "617d93d2",
   "metadata": {},
   "source": [
    "# **Testing**"
   ]
  },
  {
   "cell_type": "code",
   "execution_count": 25,
   "id": "ac910153",
   "metadata": {},
   "outputs": [],
   "source": [
    "from sklearn.metrics import confusion_matrix, classification_report\n",
    "import matplotlib.pyplot as plt\n",
    "import seaborn as sns"
   ]
  },
  {
   "cell_type": "code",
   "execution_count": 15,
   "id": "98d53d77",
   "metadata": {},
   "outputs": [],
   "source": [
    "task = \"optimization\"\n",
    "\n",
    "if task == \"compiler\":\n",
    "    labels = ['clang-3.8', 'clang-6.0', 'clang-9', 'gcc-5', 'gcc-7', 'gcc-9', 'icc-21']\n",
    "    \n",
    "elif task == \"optimization\":\n",
    "    labels =  ['O0', 'O1', 'O2', 'O3']\n",
    "\n",
    "base_path = \"../../\"\n",
    "test_path = os.path.join(base_path, \"dataset\", \"finetuning_dataset\", \"compiler_provenance\", \"basic_blocks\", \"test_compiler_provenance.csv\")\n",
    "tokenizer_path = os.path.join(base_path, \"tokenizer\")\n",
    "\n",
    "model_name = \"BinBert_compiler/checkpoint-4454\" if task == \"compiler\" else \"BinBert_optimization/checkpoint-4454\"\n",
    "model_path = os.path.join(base_path, \"models\", \"finetuned_models\", \"compiler_provenance\", \"basic_blocks\", model_name)\n",
    "res_filename = os.path.join(base_path, \"results\", \"compiler_provenance\", \"basic_blocks\", model_name.replace(os.sep,\"_\"))"
   ]
  },
  {
   "cell_type": "code",
   "execution_count": 17,
   "id": "a8891527",
   "metadata": {},
   "outputs": [],
   "source": [
    "def load_binbert_model(best_checkpoint):\n",
    "\n",
    "    print(\"Loading Model ->\", best_checkpoint)\n",
    "    model = AutoModelForSequenceClassification.from_pretrained(best_checkpoint, output_hidden_states=True)\n",
    "\n",
    "    model.to(\"cuda\")\n",
    "    model.eval()\n",
    "\n",
    "    return model"
   ]
  },
  {
   "cell_type": "code",
   "execution_count": 18,
   "id": "2078c2a1",
   "metadata": {},
   "outputs": [],
   "source": [
    "metric = load_metric(\"accuracy\")"
   ]
  },
  {
   "cell_type": "code",
   "execution_count": 19,
   "id": "83d6fcb1",
   "metadata": {},
   "outputs": [],
   "source": [
    "def compute_metrics(eval_pred):\n",
    "    logits, labels = eval_pred\n",
    "    predictions = np.argmax(logits, axis=-1)\n",
    "    return metric.compute(predictions=predictions, references=labels)"
   ]
  },
  {
   "cell_type": "code",
   "execution_count": 20,
   "id": "89380c35",
   "metadata": {},
   "outputs": [
    {
     "name": "stderr",
     "output_type": "stream",
     "text": [
      "Didn't find file /home/jovyan/work/olivetree/final_for_paper/tokenizer/added_tokens.json. We won't load it.\n",
      "loading file /home/jovyan/work/olivetree/final_for_paper/tokenizer/vocab.txt\n",
      "loading file /home/jovyan/work/olivetree/final_for_paper/tokenizer/tokenizer.json\n",
      "loading file None\n",
      "loading file /home/jovyan/work/olivetree/final_for_paper/tokenizer/special_tokens_map.json\n",
      "loading file /home/jovyan/work/olivetree/final_for_paper/tokenizer/tokenizer_config.json\n",
      "loading configuration file /home/jovyan/work/olivetree/final_for_paper/tests/compiler_provenance/basic_blocks/finetuned_models/olivetree/normal_optimization_from_scratch/checkpoint-16384/config.json\n",
      "Model config BertConfig {\n",
      "  \"_name_or_path\": \"/home/jovyan/work/olivetree/final_for_paper/tests/compiler_provenance/basic_blocks/finetuned_models/olivetree/normal_optimization_from_scratch/checkpoint-16384\",\n",
      "  \"architectures\": [\n",
      "    \"BertForSequenceClassification\"\n",
      "  ],\n",
      "  \"attention_probs_dropout_prob\": 0.1,\n",
      "  \"classifier_dropout\": null,\n",
      "  \"hidden_act\": \"gelu\",\n",
      "  \"hidden_dropout_prob\": 0.1,\n",
      "  \"hidden_size\": 768,\n",
      "  \"id2label\": {\n",
      "    \"0\": \"LABEL_0\",\n",
      "    \"1\": \"LABEL_1\",\n",
      "    \"2\": \"LABEL_2\",\n",
      "    \"3\": \"LABEL_3\"\n",
      "  },\n",
      "  \"initializer_range\": 0.02,\n",
      "  \"intermediate_size\": 3072,\n",
      "  \"label2id\": {\n",
      "    \"LABEL_0\": 0,\n",
      "    \"LABEL_1\": 1,\n",
      "    \"LABEL_2\": 2,\n",
      "    \"LABEL_3\": 3\n",
      "  },\n",
      "  \"layer_norm_eps\": 1e-12,\n",
      "  \"max_position_embeddings\": 514,\n",
      "  \"model_type\": \"bert\",\n",
      "  \"num_attention_heads\": 12,\n",
      "  \"num_hidden_layers\": 12,\n",
      "  \"output_hidden_states\": true,\n",
      "  \"pad_token_id\": 0,\n",
      "  \"position_embedding_type\": \"absolute\",\n",
      "  \"problem_type\": \"single_label_classification\",\n",
      "  \"torch_dtype\": \"float32\",\n",
      "  \"transformers_version\": \"4.16.2\",\n",
      "  \"type_vocab_size\": 2,\n",
      "  \"use_cache\": true,\n",
      "  \"vocab_size\": 7814\n",
      "}\n",
      "\n",
      "loading weights file /home/jovyan/work/olivetree/final_for_paper/tests/compiler_provenance/basic_blocks/finetuned_models/olivetree/normal_optimization_from_scratch/checkpoint-16384/pytorch_model.bin\n"
     ]
    },
    {
     "name": "stdout",
     "output_type": "stream",
     "text": [
      "Loading Model -> /home/jovyan/work/olivetree/final_for_paper/tests/compiler_provenance/basic_blocks/finetuned_models/olivetree/normal_optimization_from_scratch/checkpoint-16384\n"
     ]
    },
    {
     "name": "stderr",
     "output_type": "stream",
     "text": [
      "All model checkpoint weights were used when initializing BertForSequenceClassification.\n",
      "\n",
      "All the weights of BertForSequenceClassification were initialized from the model checkpoint at /home/jovyan/work/olivetree/final_for_paper/tests/compiler_provenance/basic_blocks/finetuned_models/olivetree/normal_optimization_from_scratch/checkpoint-16384.\n",
      "If your task is similar to the task the model of the checkpoint was trained on, you can already use BertForSequenceClassification for predictions without further training.\n"
     ]
    }
   ],
   "source": [
    "tokenizer = load_tokenizer(tokenizer_path)\n",
    "model = load_binbert_model(model_path)"
   ]
  },
  {
   "cell_type": "code",
   "execution_count": 21,
   "id": "d8240c4a",
   "metadata": {},
   "outputs": [
    {
     "name": "stderr",
     "output_type": "stream",
     "text": [
      "100%|██████████| 8192/8192 [00:01<00:00, 4520.41it/s]\n"
     ]
    }
   ],
   "source": [
    "test_dataset = AsmToSymbolicDataset(test_path, tokenizer, task)\n",
    "collator = DataCollatorWithPadding(tokenizer, padding=True)\n",
    "test_data_loader = torch.utils.data.DataLoader(test_dataset, batch_size=64, collate_fn=collator)"
   ]
  },
  {
   "cell_type": "code",
   "execution_count": 22,
   "id": "f1d92c59",
   "metadata": {
    "tags": []
   },
   "outputs": [],
   "source": [
    "def compute_test_accuracy(test_data_loader):\n",
    "    logits = []\n",
    "    references = []\n",
    "    for batch in tqdm(test_data_loader):\n",
    "        for elem in batch:\n",
    "            batch[elem] = batch[elem].to(\"cuda\")\n",
    "        with torch.no_grad():\n",
    "            pred = model(**batch).logits.cpu().detach().numpy()\n",
    "        ref = batch[\"labels\"].cpu().detach().numpy()\n",
    "        logits.append(pred)\n",
    "        references.append(ref)\n",
    "\n",
    "    predictions = np.concatenate(logits)\n",
    "    references = np.concatenate(references)\n",
    "    accuracy = compute_metrics((predictions, references))[\"accuracy\"]\n",
    "    return accuracy, predictions, references"
   ]
  },
  {
   "cell_type": "code",
   "execution_count": 23,
   "id": "6dc64fda",
   "metadata": {},
   "outputs": [],
   "source": [
    "def compute_test_conf_matrix(predictions, references, res_filename, labels):\n",
    "\n",
    "    cm = confusion_matrix(references, np.argmax(predictions, axis=-1))   \n",
    "\n",
    "    ax= plt.subplot()\n",
    "    sns.heatmap(cm, annot=True, fmt='g', ax=ax, cmap=\"Blues\")\n",
    "\n",
    "    # labels, title and ticks\n",
    "    ax.set_xlabel('Predicted labels')\n",
    "    ax.set_ylabel('True labels')\n",
    "    ax.set_title(f'Confusion Matrix with Accuracy {round(accuracy,4)}')\n",
    "    ax.xaxis.set_ticklabels(labels)\n",
    "    ax.yaxis.set_ticklabels(labels)\n",
    "    plt.setp(ax.get_xticklabels(), rotation=45, ha=\"right\", rotation_mode=\"anchor\")\n",
    "    plt.setp(ax.get_yticklabels(), rotation=45, ha=\"right\", rotation_mode=\"anchor\")\n",
    "    res_filename =  f\"{res_filename}_acc_{round(accuracy,4)}.png\"\n",
    "    print(res_filename)\n",
    "    plt.savefig(res_filename, dpi=300)"
   ]
  },
  {
   "cell_type": "code",
   "execution_count": 26,
   "id": "93b9e1ae",
   "metadata": {},
   "outputs": [
    {
     "name": "stderr",
     "output_type": "stream",
     "text": [
      "100%|██████████| 128/128 [00:19<00:00,  6.70it/s]\n"
     ]
    },
    {
     "name": "stdout",
     "output_type": "stream",
     "text": [
      "/home/jovyan/work/olivetree/final_for_paper/tests/compiler_provenance/basic_blocks/results/olivetree/normal_optimization_from_scratch_checkpoint-16384_acc_0.6619.png\n"
     ]
    },
    {
     "data": {
      "image/png": "[encoded data removed]",
      "text/plain": [
       "<Figure size 432x288 with 2 Axes>"
      ]
     },
     "metadata": {
      "needs_background": "light"
     },
     "output_type": "display_data"
    }
   ],
   "source": [
    "accuracy, predictions, references = compute_test_accuracy(test_data_loader)\n",
    "compute_test_conf_matrix(predictions, references, res_filename, labels)"
   ]
  },
  {
   "cell_type": "code",
   "execution_count": 27,
   "id": "49675d27",
   "metadata": {},
   "outputs": [
    {
     "name": "stdout",
     "output_type": "stream",
     "text": [
      "              precision    recall  f1-score   support\n",
      "\n",
      "           0       0.87      0.97      0.92      3018\n",
      "           1       0.59      0.64      0.62      1584\n",
      "           2       0.41      0.10      0.16      1605\n",
      "           3       0.49      0.66      0.56      1985\n",
      "\n",
      "    accuracy                           0.66      8192\n",
      "   macro avg       0.59      0.59      0.56      8192\n",
      "weighted avg       0.63      0.66      0.62      8192\n",
      "\n"
     ]
    }
   ],
   "source": [
    "pred = np.argmax(predictions, axis=-1)\n",
    "report = classification_report(references, pred)\n",
    "print(report)\n",
    "\n",
    "res_filename =  f\"{res_filename}_acc_{round(accuracy,4)}.txt\"\n",
    "with open(res_filename, \"w\") as f:\n",
    "    f.write(report)"
   ]
  },
  {
   "cell_type": "code",
   "execution_count": null,
   "id": "6aeab550",
   "metadata": {},
   "outputs": [],
   "source": []
  }
 ],
 "metadata": {
  "accelerator": "GPU",
  "colab": {
   "name": "compiler_provenance.ipynb",
   "provenance": []
  },
  "kernelspec": {
   "display_name": "Python 3 (ipykernel)",
   "language": "python",
   "name": "python3"
  },
  "language_info": {
   "codemirror_mode": {
    "name": "ipython",
    "version": 3
   },
   "file_extension": ".py",
   "mimetype": "text/x-python",
   "name": "python",
   "nbconvert_exporter": "python",
   "pygments_lexer": "ipython3",
   "version": "3.8.12"
  }
 },
 "nbformat": 4,
 "nbformat_minor": 5
}