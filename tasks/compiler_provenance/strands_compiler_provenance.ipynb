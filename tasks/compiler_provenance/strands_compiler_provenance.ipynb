{
 "cells": [
  {
   "cell_type": "code",
   "execution_count": null,
   "outputs": [],
   "source": [
    "# General imports\n",
    "import os\n",
    "import random\n",
    "import math\n",
    "import itertools\n",
    "import pandas as pd\n",
    "from tqdm import tqdm\n",
    "import numpy as np\n",
    "from datasets import load_metric\n",
    "\n",
    "# pytorch imports\n",
    "import torch\n",
    "\n",
    "# Transformer tokenizer imports\n",
    "from transformers import BertTokenizerFast\n",
    "\n",
    "# Transformers data collator\n",
    "from transformers.data.data_collator import DataCollatorWithPadding\n",
    "\n",
    "# Transformers Bert model\n",
    "from transformers import AutoModelForSequenceClassification, BertForPreTraining, Trainer, TrainingArguments, EarlyStoppingCallback, BertConfig\n",
    "\n",
    "MAX_SEQ_LEN = 512"
   ],
   "metadata": {
    "collapsed": false,
    "pycharm": {
     "name": "#%%\n"
    }
   }
  },
  {
   "cell_type": "code",
   "execution_count": 2,
   "id": "7b9c99b6",
   "metadata": {},
   "outputs": [],
   "source": [
    "# GPU settings\n",
    "os.environ[\"TOKENIZERS_PARALLELISM\"] = \"true\"\n",
    "os.environ[\"CUDA_VISIBLE_DEVICES\"] = \"0\"\n",
    "os.environ[\"NVIDIA_VISIBLE_DEVICES\"] = \"0\""
   ]
  },
  {
   "cell_type": "code",
   "execution_count": 3,
   "id": "802019ac",
   "metadata": {
    "executionInfo": {
     "elapsed": 4,
     "status": "ok",
     "timestamp": 1647423034664,
     "user": {
      "displayName": "Fiorella Artuso",
      "photoUrl": "https://lh3.googleusercontent.com/a-/AOh14GjI7BMbitgM7kg91MwWnCqwXuMuekaCgxsQRH2b=s64",
      "userId": "16421204404765857445"
     },
     "user_tz": -60
    },
    "id": "bf324773"
   },
   "outputs": [],
   "source": [
    "def load_tokenizer(tokenizer_path):\n",
    "    # load tokenizer from dict\n",
    "    tokenizer =  BertTokenizerFast.from_pretrained(tokenizer_path)\n",
    "    return tokenizer"
   ]
  },
  {
   "cell_type": "code",
   "execution_count": 4,
   "id": "f4d320f4",
   "metadata": {
    "executionInfo": {
     "elapsed": 4,
     "status": "ok",
     "timestamp": 1647423034664,
     "user": {
      "displayName": "Fiorella Artuso",
      "photoUrl": "https://lh3.googleusercontent.com/a-/AOh14GjI7BMbitgM7kg91MwWnCqwXuMuekaCgxsQRH2b=s64",
      "userId": "16421204404765857445"
     },
     "user_tz": -60
    },
    "id": "4be39a33"
   },
   "outputs": [],
   "source": [
    "class AsmToSymbolicDataset(torch.utils.data.Dataset):\n",
    "\n",
    "    def __init__(self, dataset_path, tokenizer, task):\n",
    "        \n",
    "        self.data_store = []\n",
    "        df = pd.read_csv(dataset_path, sep=\"\\t\").fillna('')\n",
    "        df[\"instr_len\"] = df[\"ot_instructions\"].apply(lambda x: len(x.split(\"NEXT_I\")))\n",
    "        df = df[df[\"instr_len\"]>=10]\n",
    "        \n",
    "        if task == \"compiler\":\n",
    "            \n",
    "            self.labels_to_idx = {'clang-3.8': 0, 'clang-6.0':1, 'clang-9':2, \n",
    "                                  'gcc-5':3, 'gcc-7':4, 'gcc-9':5, 'icc-21':6}\n",
    "            \n",
    "            self.samples = df[[\"ot_instructions\", \"compiler\"]]\n",
    "            \n",
    "        elif task == \"optimization\":\n",
    "            self.labels_to_idx =  {'O0': 0, 'O1': 1, 'O2': 2, 'O3': 3}\n",
    "            self.samples = df[[\"ot_instructions\", \"optimization\"]]\n",
    "            \n",
    "        else:\n",
    "            raise Exception(f\"{task} is not a valid task\")\n",
    "        \n",
    "        self.tokenizer = tokenizer\n",
    "            \n",
    "        self.__init_structures()\n",
    "         \n",
    "    def __init_structures(self):\n",
    "        \n",
    "        for x,y in tqdm(self.samples.values):\n",
    "            x = x.replace(\"NEXT_I \", \"\")\n",
    "            example = self.tokenizer(text=x, truncation=True, max_length=MAX_SEQ_LEN)\n",
    "            example[\"label\"] = self.labels_to_idx[y]\n",
    "            self.data_store.append(example)\n",
    "            \n",
    "        random.shuffle(self.data_store)\n",
    "                \n",
    "    def __len__(self) -> int:\n",
    "        return len(self.data_store)\n",
    "\n",
    "    def __getitem__(self, idx: int) -> torch.Tensor:\n",
    "        return self.data_store[idx]\n",
    "    \n",
    "    def save_to_file(self,save_file):\n",
    "        torch.save(self.data_store, save_file)"
   ]
  },
  {
   "cell_type": "code",
   "execution_count": 5,
   "id": "8a5d714d",
   "metadata": {
    "executionInfo": {
     "elapsed": 4,
     "status": "ok",
     "timestamp": 1647423034663,
     "user": {
      "displayName": "Fiorella Artuso",
      "photoUrl": "https://lh3.googleusercontent.com/a-/AOh14GjI7BMbitgM7kg91MwWnCqwXuMuekaCgxsQRH2b=s64",
      "userId": "16421204404765857445"
     },
     "user_tz": -60
    },
    "id": "6341a645"
   },
   "outputs": [],
   "source": [
    "from_scratch = False\n",
    "\n",
    "LEARNING_RATE = 0.0001\n",
    "\n",
    "NUM_TRAIN_EPOCHS = 20\n",
    "PER_DEVICE_TRAIN_BATCH_SIZE = 32\n",
    "PER_DEVICE_EVAL_BATCH_SIZE = 32\n",
    "DATA_LOADER_NUM_WORKERS = 4\n",
    "PATIENCE = 3\n",
    "\n",
    "#models\n",
    "BXSMAL=\"bert_xsmall\"\n",
    "BSMAL=\"bert_small\"\n",
    "BNORM=\"bert_normal\"\n",
    "BLARG=\"bert_larg\"\n",
    "\n",
    "MODEL=BNORM \n",
    "\n",
    "# Parameter settings -- of default model BSMAL\n",
    "MAX_SEQ_LEN = 512\n",
    "MAX_POSITION_EMBEDDINGS = 514\n",
    "HIDDEN_SIZE = 512\n",
    "INTERMEDIATE_SIZE = 2048\n",
    "NUM_ATTENTION_HEADS = 8\n",
    "NUM_HIDDEN_LAYERS = 12\n",
    "TYPE_VOCAB_SIZE = 2\n",
    "\n",
    "if MODEL == BXSMAL:\n",
    "    MAX_SEQ_LEN = 512\n",
    "    MAX_POSITION_EMBEDDINGS = 514\n",
    "    HIDDEN_SIZE = 128\n",
    "    INTERMEDIATE_SIZE = 1024\n",
    "    NUM_ATTENTION_HEADS = 8\n",
    "    NUM_HIDDEN_LAYERS = 12\n",
    "    TYPE_VOCAB_SIZE = 2\n",
    "\n",
    "if MODEL == BSMAL:\n",
    "    MAX_SEQ_LEN = 512\n",
    "    MAX_POSITION_EMBEDDINGS = 514\n",
    "    HIDDEN_SIZE = 512\n",
    "    INTERMEDIATE_SIZE = 2048\n",
    "    NUM_ATTENTION_HEADS = 8\n",
    "    NUM_HIDDEN_LAYERS = 12\n",
    "    TYPE_VOCAB_SIZE = 2\n",
    "    \n",
    "if MODEL == BNORM:\n",
    "    MAX_SEQ_LEN = 512\n",
    "    MAX_POSITION_EMBEDDINGS = 514\n",
    "    HIDDEN_SIZE = 768\n",
    "    INTERMEDIATE_SIZE = 3072\n",
    "    NUM_ATTENTION_HEADS = 12\n",
    "    NUM_HIDDEN_LAYERS = 12\n",
    "    TYPE_VOCAB_SIZE = 2    \n",
    "    \n",
    "if MODEL == BLARG:\n",
    "    MAX_SEQ_LEN = 512\n",
    "    MAX_POSITION_EMBEDDINGS = 514\n",
    "    HIDDEN_SIZE = 1024\n",
    "    INTERMEDIATE_SIZE = 4096\n",
    "    NUM_ATTENTION_HEADS = 16\n",
    "    NUM_HIDDEN_LAYERS = 24\n",
    "    TYPE_VOCAB_SIZE = 2"
   ]
  },
  {
   "cell_type": "code",
   "execution_count": 6,
   "id": "2f56b566",
   "metadata": {
    "executionInfo": {
     "elapsed": 3,
     "status": "ok",
     "timestamp": 1647423034663,
     "user": {
      "displayName": "Fiorella Artuso",
      "photoUrl": "https://lh3.googleusercontent.com/a-/AOh14GjI7BMbitgM7kg91MwWnCqwXuMuekaCgxsQRH2b=s64",
      "userId": "16421204404765857445"
     },
     "user_tz": -60
    },
    "id": "a92cd8a0"
   },
   "outputs": [
    {
     "data": {
      "text/plain": [
       "'/home/jovyan/work/olivetree/final_for_paper/tests/compiler_provenance/strands/finetuned_models/olivetree/2nsp_normal_mask30_compiler_finetuning'"
      ]
     },
     "execution_count": 6,
     "metadata": {},
     "output_type": "execute_result"
    }
   ],
   "source": [
    "task = \"compiler\"\n",
    "\n",
    "if task == \"compiler\":\n",
    "    labels = ['clang-3.8', 'clang-6.0', 'clang-9', 'gcc-5', 'gcc-7', 'gcc-9', 'icc-21']\n",
    "\n",
    "elif task == \"optimization\":\n",
    "    labels =  ['O0', 'O1', 'O2', 'O3']\n",
    "\n",
    "base_path = \"../../\"\n",
    "prt_model = os.path.join(base_path, \"models\", \"pretraining_model\", \"checkpoint-67246\")\n",
    "train_path = os.path.join(base_path, \"dataset\", \"finetuning_dataset\", \"compiler_provenance\", \"strands\", \"train_compiler_provenance.csv\")\n",
    "val_path = os.path.join(base_path, \"dataset\", \"finetuning_dataset\", \"compiler_provenance\", \"strands\", \"val_compiler_provenance.csv\")\n",
    "tokenizer_path = os.path.join(base_path, \"tokenizer\")\n",
    "\n",
    "model_name =  f\"BinBert_{task}\"\n",
    "output_dir = model_path = os.path.join(base_path, \"models\", \"finetuned_models\", \"compiler_provenance\", \"strands\", model_name)"
   ]
  },
  {
   "cell_type": "code",
   "execution_count": null,
   "id": "94ef07de",
   "metadata": {
    "colab": {
     "base_uri": "https://localhost:8080/"
    },
    "executionInfo": {
     "elapsed": 166095,
     "status": "ok",
     "timestamp": 1647423200755,
     "user": {
      "displayName": "Fiorella Artuso",
      "photoUrl": "https://lh3.googleusercontent.com/a-/AOh14GjI7BMbitgM7kg91MwWnCqwXuMuekaCgxsQRH2b=s64",
      "userId": "16421204404765857445"
     },
     "user_tz": -60
    },
    "id": "102b9759",
    "outputId": "09219005-711d-4dcd-8205-3e0bb68dcb86"
   },
   "outputs": [
    {
     "name": "stderr",
     "output_type": "stream",
     "text": [
      " 82%|████████▏ | 24052/29462 [00:07<00:02, 2608.77it/s]"
     ]
    }
   ],
   "source": [
    "tokenizer = load_tokenizer(tokenizer_path)\n",
    "train_dataset = AsmToSymbolicDataset(train_path, tokenizer, task)\n",
    "val_dataset = AsmToSymbolicDataset(val_path, tokenizer, task)"
   ]
  },
  {
   "cell_type": "code",
   "execution_count": null,
   "id": "52bb08ae",
   "metadata": {
    "colab": {
     "base_uri": "https://localhost:8080/"
    },
    "executionInfo": {
     "elapsed": 2079,
     "status": "ok",
     "timestamp": 1647423202821,
     "user": {
      "displayName": "Fiorella Artuso",
      "photoUrl": "https://lh3.googleusercontent.com/a-/AOh14GjI7BMbitgM7kg91MwWnCqwXuMuekaCgxsQRH2b=s64",
      "userId": "16421204404765857445"
     },
     "user_tz": -60
    },
    "id": "312c3d3c",
    "outputId": "1bd00a61-fa01-47a9-b5f2-36f52b32b4fb"
   },
   "outputs": [],
   "source": [
    "if not from_scratch:\n",
    "    model = AutoModelForSequenceClassification.from_pretrained(prt_model, num_labels=len(train_dataset.labels_to_idx))\n",
    "else:\n",
    "    config = BertConfig(\n",
    "                vocab_size = len(tokenizer.vocab),\n",
    "                max_position_embeddings = MAX_POSITION_EMBEDDINGS,\n",
    "                hidden_size = HIDDEN_SIZE,\n",
    "                intermediate_size = INTERMEDIATE_SIZE,\n",
    "                num_attention_heads = NUM_ATTENTION_HEADS,\n",
    "                num_hidden_layers = NUM_HIDDEN_LAYERS,\n",
    "                type_vocab_size = TYPE_VOCAB_SIZE\n",
    "    )\n",
    "    config.num_labels = len(labels)\n",
    "    model = AutoModelForSequenceClassification.from_config(config)"
   ]
  },
  {
   "cell_type": "code",
   "execution_count": null,
   "id": "e7d28e8f",
   "metadata": {
    "executionInfo": {
     "elapsed": 7,
     "status": "ok",
     "timestamp": 1647423202823,
     "user": {
      "displayName": "Fiorella Artuso",
      "photoUrl": "https://lh3.googleusercontent.com/a-/AOh14GjI7BMbitgM7kg91MwWnCqwXuMuekaCgxsQRH2b=s64",
      "userId": "16421204404765857445"
     },
     "user_tz": -60
    },
    "id": "44388bf6"
   },
   "outputs": [],
   "source": [
    "training_args = TrainingArguments(\n",
    "                    output_dir = output_dir,\n",
    "                    overwrite_output_dir = True,\n",
    "                    num_train_epochs = NUM_TRAIN_EPOCHS,\n",
    "                    learning_rate = LEARNING_RATE,\n",
    "                    per_device_train_batch_size = PER_DEVICE_TRAIN_BATCH_SIZE,\n",
    "                    save_strategy = 'epoch',\n",
    "                    save_total_limit = 1,\n",
    "                    logging_strategy = 'epoch',\n",
    "                    # prediction_loss_only = True,\n",
    "                    # fp16=True,\n",
    "                    load_best_model_at_end = True,\n",
    "                    do_eval = True,\n",
    "                    evaluation_strategy = 'epoch',\n",
    "                    metric_for_best_model = 'eval_accuracy',\n",
    "                    per_device_eval_batch_size = PER_DEVICE_EVAL_BATCH_SIZE,\n",
    "                    dataloader_num_workers = DATA_LOADER_NUM_WORKERS)"
   ]
  },
  {
   "cell_type": "code",
   "execution_count": null,
   "id": "e41e9e05",
   "metadata": {
    "executionInfo": {
     "elapsed": 7,
     "status": "ok",
     "timestamp": 1647423202824,
     "user": {
      "displayName": "Fiorella Artuso",
      "photoUrl": "https://lh3.googleusercontent.com/a-/AOh14GjI7BMbitgM7kg91MwWnCqwXuMuekaCgxsQRH2b=s64",
      "userId": "16421204404765857445"
     },
     "user_tz": -60
    },
    "id": "9ddd4097"
   },
   "outputs": [],
   "source": [
    "collator = DataCollatorWithPadding(tokenizer, padding=True)"
   ]
  },
  {
   "cell_type": "code",
   "execution_count": null,
   "id": "d817caae",
   "metadata": {
    "executionInfo": {
     "elapsed": 1043,
     "status": "ok",
     "timestamp": 1647423203861,
     "user": {
      "displayName": "Fiorella Artuso",
      "photoUrl": "https://lh3.googleusercontent.com/a-/AOh14GjI7BMbitgM7kg91MwWnCqwXuMuekaCgxsQRH2b=s64",
      "userId": "16421204404765857445"
     },
     "user_tz": -60
    },
    "id": "bfc4570b"
   },
   "outputs": [],
   "source": [
    "metric = load_metric(\"accuracy\")"
   ]
  },
  {
   "cell_type": "code",
   "execution_count": null,
   "id": "0191bcfd",
   "metadata": {
    "executionInfo": {
     "elapsed": 8,
     "status": "ok",
     "timestamp": 1647423203862,
     "user": {
      "displayName": "Fiorella Artuso",
      "photoUrl": "https://lh3.googleusercontent.com/a-/AOh14GjI7BMbitgM7kg91MwWnCqwXuMuekaCgxsQRH2b=s64",
      "userId": "16421204404765857445"
     },
     "user_tz": -60
    },
    "id": "faeacf91"
   },
   "outputs": [],
   "source": [
    "def compute_metrics(eval_pred):\n",
    "    logits, labels = eval_pred\n",
    "    predictions = np.argmax(logits, axis=-1)\n",
    "    return metric.compute(predictions=predictions, references=labels)"
   ]
  },
  {
   "cell_type": "code",
   "execution_count": null,
   "id": "09af9d8b",
   "metadata": {
    "executionInfo": {
     "elapsed": 3220,
     "status": "ok",
     "timestamp": 1647423207077,
     "user": {
      "displayName": "Fiorella Artuso",
      "photoUrl": "https://lh3.googleusercontent.com/a-/AOh14GjI7BMbitgM7kg91MwWnCqwXuMuekaCgxsQRH2b=s64",
      "userId": "16421204404765857445"
     },
     "user_tz": -60
    },
    "id": "ecf83ba2"
   },
   "outputs": [],
   "source": [
    "trainer = Trainer(\n",
    "    model=model,\n",
    "    args=training_args,\n",
    "    train_dataset=train_dataset,\n",
    "    eval_dataset=val_dataset,\n",
    "    data_collator = collator,\n",
    "    compute_metrics=compute_metrics,\n",
    "    # callbacks = [EarlyStoppingCallback(early_stopping_patience=PATIENCE)]\n",
    ")"
   ]
  },
  {
   "cell_type": "code",
   "execution_count": null,
   "id": "dae7ba56",
   "metadata": {
    "colab": {
     "base_uri": "https://localhost:8080/",
     "height": 545
    },
    "executionInfo": {
     "elapsed": 563111,
     "status": "error",
     "timestamp": 1647423770176,
     "user": {
      "displayName": "Fiorella Artuso",
      "photoUrl": "https://lh3.googleusercontent.com/a-/AOh14GjI7BMbitgM7kg91MwWnCqwXuMuekaCgxsQRH2b=s64",
      "userId": "16421204404765857445"
     },
     "user_tz": -60
    },
    "id": "11dd32ae",
    "outputId": "545103f0-df4a-4d89-8389-7271c26384dd",
    "tags": []
   },
   "outputs": [],
   "source": [
    "trainer.train()"
   ]
  },
  {
   "cell_type": "markdown",
   "source": [
    "# **Testing**"
   ],
   "metadata": {
    "collapsed": false
   }
  },
  {
   "cell_type": "code",
   "execution_count": 65,
   "id": "cb2877dc",
   "metadata": {},
   "outputs": [],
   "source": [
    "from sklearn.metrics import confusion_matrix, classification_report\n",
    "import matplotlib.pyplot as plt\n",
    "import seaborn as sns"
   ]
  },
  {
   "cell_type": "code",
   "execution_count": 66,
   "id": "01c41b00",
   "metadata": {},
   "outputs": [],
   "source": [
    "task = \"optimization\"\n",
    "\n",
    "if task == \"compiler\":\n",
    "    labels = ['clang-3.8', 'clang-6.0', 'clang-9', 'gcc-5', 'gcc-7', 'gcc-9', 'icc-21']\n",
    "    \n",
    "elif task == \"optimization\":\n",
    "    labels =  ['O0', 'O1', 'O2', 'O3']\n",
    "\n",
    "base_path = \"../../\"\n",
    "test_path = os.path.join(base_path, \"dataset\", \"finetuning_dataset\", \"compiler_provenance\", \"strands\", \"test_compiler_provenance.csv\")\n",
    "tokenizer_path = os.path.join(base_path, \"tokenizer\")\n",
    "\n",
    "model_name = \"BinBert_compiler/checkpoint-1536\" if task == \"compiler\" else \"BinBert_optimization/checkpoint-1536\"\n",
    "model_path = os.path.join(base_path, \"models\", \"finetuned_models\", \"compiler_provenance\", \"strands\", model_name)\n",
    "res_filename = os.path.join(base_path, \"results\", \"compiler_provenance\", \"strands\", model_name.replace(os.sep,\"_\"))"
   ]
  },
  {
   "cell_type": "code",
   "execution_count": 68,
   "id": "8dd8eab4",
   "metadata": {},
   "outputs": [],
   "source": [
    "def load_binbert_model(best_checkpoint):\n",
    "\n",
    "    print(\"Loading Model ->\", best_checkpoint)\n",
    "    model = AutoModelForSequenceClassification.from_pretrained(best_checkpoint, output_hidden_states=True)\n",
    "\n",
    "    model.to(\"cuda\")\n",
    "    model.eval()\n",
    "\n",
    "    return model"
   ]
  },
  {
   "cell_type": "code",
   "execution_count": 69,
   "id": "b4ff7596",
   "metadata": {},
   "outputs": [],
   "source": [
    "metric = load_metric(\"accuracy\")"
   ]
  },
  {
   "cell_type": "code",
   "execution_count": 70,
   "id": "9b8217ee",
   "metadata": {},
   "outputs": [],
   "source": [
    "def compute_metrics(eval_pred):\n",
    "    logits, labels = eval_pred\n",
    "    predictions = np.argmax(logits, axis=-1)\n",
    "    return metric.compute(predictions=predictions, references=labels)"
   ]
  },
  {
   "cell_type": "code",
   "execution_count": 71,
   "id": "9233c3e3",
   "metadata": {},
   "outputs": [
    {
     "name": "stdout",
     "output_type": "stream",
     "text": [
      "Loading Model -> /home/jovyan/work/olivetree/final_for_paper/tests/compiler_provenance/strands/finetuned_models/olivetree/normal_optimization_from_scratch/checkpoint-5219\n"
     ]
    }
   ],
   "source": [
    "tokenizer = load_tokenizer(tokenizer_path)\n",
    "model = load_binbert_model(model_path)"
   ]
  },
  {
   "cell_type": "code",
   "execution_count": 72,
   "id": "7642368b",
   "metadata": {},
   "outputs": [
    {
     "name": "stderr",
     "output_type": "stream",
     "text": [
      "100%|██████████| 3683/3683 [00:01<00:00, 3438.61it/s]\n"
     ]
    }
   ],
   "source": [
    "test_dataset = AsmToSymbolicDataset(test_path, tokenizer, task)\n",
    "collator = DataCollatorWithPadding(tokenizer, padding=True)\n",
    "test_data_loader = torch.utils.data.DataLoader(test_dataset, batch_size=64, collate_fn=collator)"
   ]
  },
  {
   "cell_type": "code",
   "execution_count": 73,
   "id": "85fb48ef",
   "metadata": {
    "tags": []
   },
   "outputs": [],
   "source": [
    "def compute_test_accuracy(test_data_loader):\n",
    "    logits = []\n",
    "    references = []\n",
    "    for batch in tqdm(test_data_loader):\n",
    "        for elem in batch:\n",
    "            batch[elem] = batch[elem].to(\"cuda\")\n",
    "        with torch.no_grad():\n",
    "            pred = model(**batch).logits.cpu().detach().numpy()\n",
    "        ref = batch[\"labels\"].cpu().detach().numpy()\n",
    "        logits.append(pred)\n",
    "        references.append(ref)\n",
    "\n",
    "    predictions = np.concatenate(logits)\n",
    "    references = np.concatenate(references)\n",
    "    accuracy = compute_metrics((predictions, references))[\"accuracy\"]\n",
    "    return accuracy, predictions, references"
   ]
  },
  {
   "cell_type": "code",
   "execution_count": 74,
   "id": "7c706a15",
   "metadata": {},
   "outputs": [],
   "source": [
    "def compute_test_conf_matrix(predictions, references, res_filename, labels):\n",
    "\n",
    "    cm = confusion_matrix(references, np.argmax(predictions, axis=-1))   \n",
    "\n",
    "    ax= plt.subplot()\n",
    "    sns.heatmap(cm, annot=True, fmt='g', ax=ax, cmap=\"Blues\")\n",
    "\n",
    "    # labels, title and ticks\n",
    "    ax.set_xlabel('Predicted labels')\n",
    "    ax.set_ylabel('True labels')\n",
    "    ax.set_title(f'Confusion Matrix with Accuracy {round(accuracy,4)}')\n",
    "    ax.xaxis.set_ticklabels(labels)\n",
    "    ax.yaxis.set_ticklabels(labels)\n",
    "    plt.setp(ax.get_xticklabels(), rotation=45, ha=\"right\", rotation_mode=\"anchor\")\n",
    "    plt.setp(ax.get_yticklabels(), rotation=45, ha=\"right\", rotation_mode=\"anchor\")\n",
    "    res_filename =  f\"{res_filename}_acc_{round(accuracy,4)}.png\"\n",
    "    print(res_filename)\n",
    "    plt.savefig(res_filename, dpi=300)"
   ]
  },
  {
   "cell_type": "code",
   "execution_count": 75,
   "id": "968a913c",
   "metadata": {},
   "outputs": [
    {
     "name": "stderr",
     "output_type": "stream",
     "text": [
      "100%|██████████| 58/58 [00:09<00:00,  6.41it/s]\n"
     ]
    },
    {
     "name": "stdout",
     "output_type": "stream",
     "text": [
      "/home/jovyan/work/olivetree/final_for_paper/tests/compiler_provenance/strands/results/olivetree/normal_optimization_from_scratch_checkpoint-5219_acc_0.7049.png\n"
     ]
    },
    {
     "data": {
      "image/png": "[encoded data removed]",
      "text/plain": [
       "<Figure size 432x288 with 2 Axes>"
      ]
     },
     "metadata": {
      "needs_background": "light"
     },
     "output_type": "display_data"
    }
   ],
   "source": [
    "accuracy, predictions, references = compute_test_accuracy(test_data_loader)\n",
    "compute_test_conf_matrix(predictions, references, res_filename, labels)"
   ]
  },
  {
   "cell_type": "code",
   "execution_count": 76,
   "id": "02f12d5f",
   "metadata": {},
   "outputs": [
    {
     "name": "stdout",
     "output_type": "stream",
     "text": [
      "              precision    recall  f1-score   support\n",
      "\n",
      "           0       0.92      0.99      0.95      1546\n",
      "           1       0.56      0.62      0.59       580\n",
      "           2       0.54      0.22      0.31       734\n",
      "           3       0.51      0.66      0.57       823\n",
      "\n",
      "    accuracy                           0.70      3683\n",
      "   macro avg       0.63      0.62      0.61      3683\n",
      "weighted avg       0.69      0.70      0.68      3683\n",
      "\n"
     ]
    }
   ],
   "source": [
    "pred = np.argmax(predictions, axis=-1)\n",
    "report = classification_report(references, pred)\n",
    "print(report)"
   ]
  },
  {
   "cell_type": "code",
   "execution_count": 77,
   "id": "29969806",
   "metadata": {},
   "outputs": [],
   "source": [
    "res_filename =  f\"{res_filename}_acc_{round(accuracy,4)}.txt\"\n",
    "with open(res_filename, \"w\") as f:\n",
    "    f.write(report)"
   ]
  },
  {
   "cell_type": "code",
   "execution_count": null,
   "id": "7a165e2c",
   "metadata": {},
   "outputs": [],
   "source": []
  }
 ],
 "metadata": {
  "accelerator": "GPU",
  "colab": {
   "name": "compiler_provenance.ipynb",
   "provenance": []
  },
  "kernelspec": {
   "display_name": "Python 3 (ipykernel)",
   "language": "python",
   "name": "python3"
  },
  "language_info": {
   "codemirror_mode": {
    "name": "ipython",
    "version": 3
   },
   "file_extension": ".py",
   "mimetype": "text/x-python",
   "name": "python",
   "nbconvert_exporter": "python",
   "pygments_lexer": "ipython3",
   "version": "3.8.12"
  }
 },
 "nbformat": 4,
 "nbformat_minor": 5
}